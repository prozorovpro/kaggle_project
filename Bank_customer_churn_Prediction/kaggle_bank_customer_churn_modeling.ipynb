{
  "cells": [
    {
      "cell_type": "markdown",
      "metadata": {
        "id": "view-in-github",
        "colab_type": "text"
      },
      "source": [
        "<a href=\"https://colab.research.google.com/github/prozorovpro/kaggle_project/blob/main/Bank_customer_churn_Prediction/kaggle_bank_customer_churn_modeling.ipynb\" target=\"_parent\"><img src=\"https://colab.research.google.com/assets/colab-badge.svg\" alt=\"Open In Colab\"/></a>"
      ]
    },
    {
      "cell_type": "markdown",
      "metadata": {
        "id": "0NiITk8qO6Gx"
      },
      "source": [
        "Predicting Bank Customer Turnover\n",
        "Using the Bank Turnover Dataset, we aim to predict whether bank customers will churn in the next cycle. The dataset offers insights into customer behavior within the banking sector.\n",
        "\n",
        "Dataset Source: [Bank Customer Churn Modeling](https://www.kaggle.com/datasets/barelydedicated/bank-customer-churn-modeling)"
      ]
    },
    {
      "cell_type": "code",
      "execution_count": 1,
      "metadata": {
        "id": "Y9gUMY3t_DRz",
        "colab": {
          "base_uri": "https://localhost:8080/"
        },
        "outputId": "63eb8fc1-a400-474e-9042-c00b5761baa8"
      },
      "outputs": [
        {
          "output_type": "stream",
          "name": "stdout",
          "text": [
            "\u001b[2K     \u001b[90m━━━━━━━━━━━━━━━━━━━━━━━━━━━━━━━━━━━━━━━━\u001b[0m \u001b[32m98.6/98.6 MB\u001b[0m \u001b[31m3.3 MB/s\u001b[0m eta \u001b[36m0:00:00\u001b[0m\n",
            "\u001b[?25h"
          ]
        }
      ],
      "source": [
        "!pip install imbalanced-learn -q\n",
        "!pip install catboost -q"
      ]
    },
    {
      "cell_type": "code",
      "execution_count": 2,
      "metadata": {
        "id": "9fa9xl1LWGTG"
      },
      "outputs": [],
      "source": [
        "import pandas as pd\n",
        "import matplotlib.pyplot as plt\n",
        "import seaborn as sns\n",
        "\n",
        "from catboost import CatBoostClassifier\n",
        "\n",
        "from sklearn.metrics import f1_score, roc_curve, roc_auc_score, confusion_matrix, ConfusionMatrixDisplay\n",
        "from sklearn.preprocessing import StandardScaler, OrdinalEncoder\n",
        "from sklearn.pipeline import Pipeline\n",
        "from sklearn.compose import ColumnTransformer\n",
        "from sklearn.model_selection import train_test_split, StratifiedKFold, RandomizedSearchCV\n",
        "\n",
        "from lightgbm import LGBMClassifier\n",
        "\n",
        "from xgboost import XGBClassifier\n",
        "\n",
        "from imblearn.over_sampling import ADASYN"
      ]
    },
    {
      "cell_type": "code",
      "execution_count": 3,
      "metadata": {
        "id": "vAZIkvn_7jW3"
      },
      "outputs": [],
      "source": [
        "RS = 420586"
      ]
    },
    {
      "cell_type": "code",
      "execution_count": 4,
      "metadata": {
        "colab": {
          "base_uri": "https://localhost:8080/"
        },
        "id": "uPrmIk32YeJR",
        "outputId": "0344673a-a465-4f18-db07-4ecc7965f4bb"
      },
      "outputs": [
        {
          "output_type": "stream",
          "name": "stdout",
          "text": [
            "Mounted at /content/drive\n"
          ]
        }
      ],
      "source": [
        "from google.colab import drive\n",
        "drive.mount('/content/drive')"
      ]
    },
    {
      "cell_type": "code",
      "execution_count": 5,
      "metadata": {
        "id": "l6K9F3TmW-bs"
      },
      "outputs": [],
      "source": [
        "df = pd.read_csv('/content/drive/MyDrive/Colab_Notebooks/data/Churn_Modelling.csv')"
      ]
    },
    {
      "cell_type": "markdown",
      "metadata": {
        "id": "uhuToQYTWGTG"
      },
      "source": [
        "Посмотрим на данные"
      ]
    },
    {
      "cell_type": "code",
      "execution_count": 6,
      "metadata": {
        "colab": {
          "base_uri": "https://localhost:8080/"
        },
        "id": "E5m6hUamWGTH",
        "outputId": "d76b31e3-5805-45e0-b43b-79c085f47280"
      },
      "outputs": [
        {
          "output_type": "stream",
          "name": "stdout",
          "text": [
            "<class 'pandas.core.frame.DataFrame'>\n",
            "RangeIndex: 10000 entries, 0 to 9999\n",
            "Data columns (total 14 columns):\n",
            " #   Column           Non-Null Count  Dtype  \n",
            "---  ------           --------------  -----  \n",
            " 0   RowNumber        10000 non-null  int64  \n",
            " 1   CustomerId       10000 non-null  int64  \n",
            " 2   Surname          10000 non-null  object \n",
            " 3   CreditScore      10000 non-null  int64  \n",
            " 4   Geography        10000 non-null  object \n",
            " 5   Gender           10000 non-null  object \n",
            " 6   Age              10000 non-null  int64  \n",
            " 7   Tenure           10000 non-null  int64  \n",
            " 8   Balance          10000 non-null  float64\n",
            " 9   NumOfProducts    10000 non-null  int64  \n",
            " 10  HasCrCard        10000 non-null  int64  \n",
            " 11  IsActiveMember   10000 non-null  int64  \n",
            " 12  EstimatedSalary  10000 non-null  float64\n",
            " 13  Exited           10000 non-null  int64  \n",
            "dtypes: float64(2), int64(9), object(3)\n",
            "memory usage: 1.1+ MB\n"
          ]
        }
      ],
      "source": [
        "df.info()"
      ]
    },
    {
      "cell_type": "code",
      "execution_count": 7,
      "metadata": {
        "colab": {
          "base_uri": "https://localhost:8080/",
          "height": 383
        },
        "id": "-izTrPLFWGTH",
        "outputId": "3deaf3cb-56b5-4847-ed84-a56bc649d2c2"
      },
      "outputs": [
        {
          "output_type": "execute_result",
          "data": {
            "text/plain": [
              "      RowNumber  CustomerId        Surname  CreditScore Geography  Gender  \\\n",
              "8381       8382    15764314         Reilly          550   Germany    Male   \n",
              "949         950    15620981        Wickham          684    France  Female   \n",
              "8565       8566    15749068        Nickson          632    France  Female   \n",
              "2102       2103    15802351          Beers          755   Germany  Female   \n",
              "3129       3130    15694453         Walker          631   Germany    Male   \n",
              "9612       9613    15794297          McKay          776    France    Male   \n",
              "8290       8291    15731267          Rizzo          797    France    Male   \n",
              "2257       2258    15698349           Davy          686     Spain  Female   \n",
              "9020       9021    15807194  Iweobiegbulam          718     Spain    Male   \n",
              "8923       8924    15570002     Burlingame          625   Germany  Female   \n",
              "\n",
              "      Age  Tenure    Balance  NumOfProducts  HasCrCard  IsActiveMember  \\\n",
              "8381   36       2  113877.23              2          1               0   \n",
              "949    48       3   73309.38              1          0               0   \n",
              "8565   40       9  139625.34              1          1               0   \n",
              "2102   33       6   90560.30              2          1               1   \n",
              "3129   37       9  131519.49              2          1               1   \n",
              "9612   36       1       0.00              2          1               0   \n",
              "8290   37       4   75263.70              1          1               0   \n",
              "2257   35       4       0.00              2          1               1   \n",
              "9020   34       5  113922.44              2          1               0   \n",
              "8923   55       8  118772.71              4          0               0   \n",
              "\n",
              "      EstimatedSalary  Exited  \n",
              "8381        174921.91       0  \n",
              "949          21228.34       1  \n",
              "8565         93702.96       1  \n",
              "2102         42607.69       0  \n",
              "3129         51752.18       0  \n",
              "9612         53477.76       0  \n",
              "8290         85801.77       0  \n",
              "2257        159676.55       0  \n",
              "9020         30772.22       0  \n",
              "8923        135853.62       1  "
            ],
            "text/html": [
              "\n",
              "  <div id=\"df-3d5cc7fd-4a97-403a-84a1-745b236b6b22\" class=\"colab-df-container\">\n",
              "    <div>\n",
              "<style scoped>\n",
              "    .dataframe tbody tr th:only-of-type {\n",
              "        vertical-align: middle;\n",
              "    }\n",
              "\n",
              "    .dataframe tbody tr th {\n",
              "        vertical-align: top;\n",
              "    }\n",
              "\n",
              "    .dataframe thead th {\n",
              "        text-align: right;\n",
              "    }\n",
              "</style>\n",
              "<table border=\"1\" class=\"dataframe\">\n",
              "  <thead>\n",
              "    <tr style=\"text-align: right;\">\n",
              "      <th></th>\n",
              "      <th>RowNumber</th>\n",
              "      <th>CustomerId</th>\n",
              "      <th>Surname</th>\n",
              "      <th>CreditScore</th>\n",
              "      <th>Geography</th>\n",
              "      <th>Gender</th>\n",
              "      <th>Age</th>\n",
              "      <th>Tenure</th>\n",
              "      <th>Balance</th>\n",
              "      <th>NumOfProducts</th>\n",
              "      <th>HasCrCard</th>\n",
              "      <th>IsActiveMember</th>\n",
              "      <th>EstimatedSalary</th>\n",
              "      <th>Exited</th>\n",
              "    </tr>\n",
              "  </thead>\n",
              "  <tbody>\n",
              "    <tr>\n",
              "      <th>8381</th>\n",
              "      <td>8382</td>\n",
              "      <td>15764314</td>\n",
              "      <td>Reilly</td>\n",
              "      <td>550</td>\n",
              "      <td>Germany</td>\n",
              "      <td>Male</td>\n",
              "      <td>36</td>\n",
              "      <td>2</td>\n",
              "      <td>113877.23</td>\n",
              "      <td>2</td>\n",
              "      <td>1</td>\n",
              "      <td>0</td>\n",
              "      <td>174921.91</td>\n",
              "      <td>0</td>\n",
              "    </tr>\n",
              "    <tr>\n",
              "      <th>949</th>\n",
              "      <td>950</td>\n",
              "      <td>15620981</td>\n",
              "      <td>Wickham</td>\n",
              "      <td>684</td>\n",
              "      <td>France</td>\n",
              "      <td>Female</td>\n",
              "      <td>48</td>\n",
              "      <td>3</td>\n",
              "      <td>73309.38</td>\n",
              "      <td>1</td>\n",
              "      <td>0</td>\n",
              "      <td>0</td>\n",
              "      <td>21228.34</td>\n",
              "      <td>1</td>\n",
              "    </tr>\n",
              "    <tr>\n",
              "      <th>8565</th>\n",
              "      <td>8566</td>\n",
              "      <td>15749068</td>\n",
              "      <td>Nickson</td>\n",
              "      <td>632</td>\n",
              "      <td>France</td>\n",
              "      <td>Female</td>\n",
              "      <td>40</td>\n",
              "      <td>9</td>\n",
              "      <td>139625.34</td>\n",
              "      <td>1</td>\n",
              "      <td>1</td>\n",
              "      <td>0</td>\n",
              "      <td>93702.96</td>\n",
              "      <td>1</td>\n",
              "    </tr>\n",
              "    <tr>\n",
              "      <th>2102</th>\n",
              "      <td>2103</td>\n",
              "      <td>15802351</td>\n",
              "      <td>Beers</td>\n",
              "      <td>755</td>\n",
              "      <td>Germany</td>\n",
              "      <td>Female</td>\n",
              "      <td>33</td>\n",
              "      <td>6</td>\n",
              "      <td>90560.30</td>\n",
              "      <td>2</td>\n",
              "      <td>1</td>\n",
              "      <td>1</td>\n",
              "      <td>42607.69</td>\n",
              "      <td>0</td>\n",
              "    </tr>\n",
              "    <tr>\n",
              "      <th>3129</th>\n",
              "      <td>3130</td>\n",
              "      <td>15694453</td>\n",
              "      <td>Walker</td>\n",
              "      <td>631</td>\n",
              "      <td>Germany</td>\n",
              "      <td>Male</td>\n",
              "      <td>37</td>\n",
              "      <td>9</td>\n",
              "      <td>131519.49</td>\n",
              "      <td>2</td>\n",
              "      <td>1</td>\n",
              "      <td>1</td>\n",
              "      <td>51752.18</td>\n",
              "      <td>0</td>\n",
              "    </tr>\n",
              "    <tr>\n",
              "      <th>9612</th>\n",
              "      <td>9613</td>\n",
              "      <td>15794297</td>\n",
              "      <td>McKay</td>\n",
              "      <td>776</td>\n",
              "      <td>France</td>\n",
              "      <td>Male</td>\n",
              "      <td>36</td>\n",
              "      <td>1</td>\n",
              "      <td>0.00</td>\n",
              "      <td>2</td>\n",
              "      <td>1</td>\n",
              "      <td>0</td>\n",
              "      <td>53477.76</td>\n",
              "      <td>0</td>\n",
              "    </tr>\n",
              "    <tr>\n",
              "      <th>8290</th>\n",
              "      <td>8291</td>\n",
              "      <td>15731267</td>\n",
              "      <td>Rizzo</td>\n",
              "      <td>797</td>\n",
              "      <td>France</td>\n",
              "      <td>Male</td>\n",
              "      <td>37</td>\n",
              "      <td>4</td>\n",
              "      <td>75263.70</td>\n",
              "      <td>1</td>\n",
              "      <td>1</td>\n",
              "      <td>0</td>\n",
              "      <td>85801.77</td>\n",
              "      <td>0</td>\n",
              "    </tr>\n",
              "    <tr>\n",
              "      <th>2257</th>\n",
              "      <td>2258</td>\n",
              "      <td>15698349</td>\n",
              "      <td>Davy</td>\n",
              "      <td>686</td>\n",
              "      <td>Spain</td>\n",
              "      <td>Female</td>\n",
              "      <td>35</td>\n",
              "      <td>4</td>\n",
              "      <td>0.00</td>\n",
              "      <td>2</td>\n",
              "      <td>1</td>\n",
              "      <td>1</td>\n",
              "      <td>159676.55</td>\n",
              "      <td>0</td>\n",
              "    </tr>\n",
              "    <tr>\n",
              "      <th>9020</th>\n",
              "      <td>9021</td>\n",
              "      <td>15807194</td>\n",
              "      <td>Iweobiegbulam</td>\n",
              "      <td>718</td>\n",
              "      <td>Spain</td>\n",
              "      <td>Male</td>\n",
              "      <td>34</td>\n",
              "      <td>5</td>\n",
              "      <td>113922.44</td>\n",
              "      <td>2</td>\n",
              "      <td>1</td>\n",
              "      <td>0</td>\n",
              "      <td>30772.22</td>\n",
              "      <td>0</td>\n",
              "    </tr>\n",
              "    <tr>\n",
              "      <th>8923</th>\n",
              "      <td>8924</td>\n",
              "      <td>15570002</td>\n",
              "      <td>Burlingame</td>\n",
              "      <td>625</td>\n",
              "      <td>Germany</td>\n",
              "      <td>Female</td>\n",
              "      <td>55</td>\n",
              "      <td>8</td>\n",
              "      <td>118772.71</td>\n",
              "      <td>4</td>\n",
              "      <td>0</td>\n",
              "      <td>0</td>\n",
              "      <td>135853.62</td>\n",
              "      <td>1</td>\n",
              "    </tr>\n",
              "  </tbody>\n",
              "</table>\n",
              "</div>\n",
              "    <div class=\"colab-df-buttons\">\n",
              "\n",
              "  <div class=\"colab-df-container\">\n",
              "    <button class=\"colab-df-convert\" onclick=\"convertToInteractive('df-3d5cc7fd-4a97-403a-84a1-745b236b6b22')\"\n",
              "            title=\"Convert this dataframe to an interactive table.\"\n",
              "            style=\"display:none;\">\n",
              "\n",
              "  <svg xmlns=\"http://www.w3.org/2000/svg\" height=\"24px\" viewBox=\"0 -960 960 960\">\n",
              "    <path d=\"M120-120v-720h720v720H120Zm60-500h600v-160H180v160Zm220 220h160v-160H400v160Zm0 220h160v-160H400v160ZM180-400h160v-160H180v160Zm440 0h160v-160H620v160ZM180-180h160v-160H180v160Zm440 0h160v-160H620v160Z\"/>\n",
              "  </svg>\n",
              "    </button>\n",
              "\n",
              "  <style>\n",
              "    .colab-df-container {\n",
              "      display:flex;\n",
              "      gap: 12px;\n",
              "    }\n",
              "\n",
              "    .colab-df-convert {\n",
              "      background-color: #E8F0FE;\n",
              "      border: none;\n",
              "      border-radius: 50%;\n",
              "      cursor: pointer;\n",
              "      display: none;\n",
              "      fill: #1967D2;\n",
              "      height: 32px;\n",
              "      padding: 0 0 0 0;\n",
              "      width: 32px;\n",
              "    }\n",
              "\n",
              "    .colab-df-convert:hover {\n",
              "      background-color: #E2EBFA;\n",
              "      box-shadow: 0px 1px 2px rgba(60, 64, 67, 0.3), 0px 1px 3px 1px rgba(60, 64, 67, 0.15);\n",
              "      fill: #174EA6;\n",
              "    }\n",
              "\n",
              "    .colab-df-buttons div {\n",
              "      margin-bottom: 4px;\n",
              "    }\n",
              "\n",
              "    [theme=dark] .colab-df-convert {\n",
              "      background-color: #3B4455;\n",
              "      fill: #D2E3FC;\n",
              "    }\n",
              "\n",
              "    [theme=dark] .colab-df-convert:hover {\n",
              "      background-color: #434B5C;\n",
              "      box-shadow: 0px 1px 3px 1px rgba(0, 0, 0, 0.15);\n",
              "      filter: drop-shadow(0px 1px 2px rgba(0, 0, 0, 0.3));\n",
              "      fill: #FFFFFF;\n",
              "    }\n",
              "  </style>\n",
              "\n",
              "    <script>\n",
              "      const buttonEl =\n",
              "        document.querySelector('#df-3d5cc7fd-4a97-403a-84a1-745b236b6b22 button.colab-df-convert');\n",
              "      buttonEl.style.display =\n",
              "        google.colab.kernel.accessAllowed ? 'block' : 'none';\n",
              "\n",
              "      async function convertToInteractive(key) {\n",
              "        const element = document.querySelector('#df-3d5cc7fd-4a97-403a-84a1-745b236b6b22');\n",
              "        const dataTable =\n",
              "          await google.colab.kernel.invokeFunction('convertToInteractive',\n",
              "                                                    [key], {});\n",
              "        if (!dataTable) return;\n",
              "\n",
              "        const docLinkHtml = 'Like what you see? Visit the ' +\n",
              "          '<a target=\"_blank\" href=https://colab.research.google.com/notebooks/data_table.ipynb>data table notebook</a>'\n",
              "          + ' to learn more about interactive tables.';\n",
              "        element.innerHTML = '';\n",
              "        dataTable['output_type'] = 'display_data';\n",
              "        await google.colab.output.renderOutput(dataTable, element);\n",
              "        const docLink = document.createElement('div');\n",
              "        docLink.innerHTML = docLinkHtml;\n",
              "        element.appendChild(docLink);\n",
              "      }\n",
              "    </script>\n",
              "  </div>\n",
              "\n",
              "\n",
              "<div id=\"df-d3091e06-f8cf-4618-a291-ca1671e9eb8e\">\n",
              "  <button class=\"colab-df-quickchart\" onclick=\"quickchart('df-d3091e06-f8cf-4618-a291-ca1671e9eb8e')\"\n",
              "            title=\"Suggest charts.\"\n",
              "            style=\"display:none;\">\n",
              "\n",
              "<svg xmlns=\"http://www.w3.org/2000/svg\" height=\"24px\"viewBox=\"0 0 24 24\"\n",
              "     width=\"24px\">\n",
              "    <g>\n",
              "        <path d=\"M19 3H5c-1.1 0-2 .9-2 2v14c0 1.1.9 2 2 2h14c1.1 0 2-.9 2-2V5c0-1.1-.9-2-2-2zM9 17H7v-7h2v7zm4 0h-2V7h2v10zm4 0h-2v-4h2v4z\"/>\n",
              "    </g>\n",
              "</svg>\n",
              "  </button>\n",
              "\n",
              "<style>\n",
              "  .colab-df-quickchart {\n",
              "    background-color: #E8F0FE;\n",
              "    border: none;\n",
              "    border-radius: 50%;\n",
              "    cursor: pointer;\n",
              "    display: none;\n",
              "    fill: #1967D2;\n",
              "    height: 32px;\n",
              "    padding: 0 0 0 0;\n",
              "    width: 32px;\n",
              "  }\n",
              "\n",
              "  .colab-df-quickchart:hover {\n",
              "    background-color: #E2EBFA;\n",
              "    box-shadow: 0px 1px 2px rgba(60, 64, 67, 0.3), 0px 1px 3px 1px rgba(60, 64, 67, 0.15);\n",
              "    fill: #174EA6;\n",
              "  }\n",
              "\n",
              "  [theme=dark] .colab-df-quickchart {\n",
              "    background-color: #3B4455;\n",
              "    fill: #D2E3FC;\n",
              "  }\n",
              "\n",
              "  [theme=dark] .colab-df-quickchart:hover {\n",
              "    background-color: #434B5C;\n",
              "    box-shadow: 0px 1px 3px 1px rgba(0, 0, 0, 0.15);\n",
              "    filter: drop-shadow(0px 1px 2px rgba(0, 0, 0, 0.3));\n",
              "    fill: #FFFFFF;\n",
              "  }\n",
              "</style>\n",
              "\n",
              "  <script>\n",
              "    async function quickchart(key) {\n",
              "      const charts = await google.colab.kernel.invokeFunction(\n",
              "          'suggestCharts', [key], {});\n",
              "    }\n",
              "    (() => {\n",
              "      let quickchartButtonEl =\n",
              "        document.querySelector('#df-d3091e06-f8cf-4618-a291-ca1671e9eb8e button');\n",
              "      quickchartButtonEl.style.display =\n",
              "        google.colab.kernel.accessAllowed ? 'block' : 'none';\n",
              "    })();\n",
              "  </script>\n",
              "</div>\n",
              "    </div>\n",
              "  </div>\n"
            ]
          },
          "metadata": {},
          "execution_count": 7
        }
      ],
      "source": [
        "df.sample(10)"
      ]
    },
    {
      "cell_type": "code",
      "execution_count": 8,
      "metadata": {
        "id": "af4O6shEWGTI"
      },
      "outputs": [],
      "source": [
        "df.drop(['RowNumber','CustomerId','Surname'],axis=1,inplace=True)"
      ]
    },
    {
      "cell_type": "code",
      "execution_count": 9,
      "metadata": {
        "colab": {
          "base_uri": "https://localhost:8080/"
        },
        "id": "FiRr1rKzWGTI",
        "outputId": "fe11aa3b-fafa-436e-8217-ec3532cb7636"
      },
      "outputs": [
        {
          "output_type": "execute_result",
          "data": {
            "text/plain": [
              "0"
            ]
          },
          "metadata": {},
          "execution_count": 9
        }
      ],
      "source": [
        "df.duplicated().sum()"
      ]
    },
    {
      "cell_type": "code",
      "execution_count": 10,
      "metadata": {
        "colab": {
          "base_uri": "https://localhost:8080/",
          "height": 300
        },
        "id": "Vu7xXFE6WGTL",
        "outputId": "09bb84ef-d40b-49ff-a198-7d8a691d0c18"
      },
      "outputs": [
        {
          "output_type": "execute_result",
          "data": {
            "text/plain": [
              "        CreditScore           Age        Tenure        Balance  NumOfProducts  \\\n",
              "count  10000.000000  10000.000000  10000.000000   10000.000000   10000.000000   \n",
              "mean     650.528800     38.921800      5.012800   76485.889288       1.530200   \n",
              "std       96.653299     10.487806      2.892174   62397.405202       0.581654   \n",
              "min      350.000000     18.000000      0.000000       0.000000       1.000000   \n",
              "25%      584.000000     32.000000      3.000000       0.000000       1.000000   \n",
              "50%      652.000000     37.000000      5.000000   97198.540000       1.000000   \n",
              "75%      718.000000     44.000000      7.000000  127644.240000       2.000000   \n",
              "max      850.000000     92.000000     10.000000  250898.090000       4.000000   \n",
              "\n",
              "         HasCrCard  IsActiveMember  EstimatedSalary        Exited  \n",
              "count  10000.00000    10000.000000     10000.000000  10000.000000  \n",
              "mean       0.70550        0.515100    100090.239881      0.203700  \n",
              "std        0.45584        0.499797     57510.492818      0.402769  \n",
              "min        0.00000        0.000000        11.580000      0.000000  \n",
              "25%        0.00000        0.000000     51002.110000      0.000000  \n",
              "50%        1.00000        1.000000    100193.915000      0.000000  \n",
              "75%        1.00000        1.000000    149388.247500      0.000000  \n",
              "max        1.00000        1.000000    199992.480000      1.000000  "
            ],
            "text/html": [
              "\n",
              "  <div id=\"df-f5172e83-318a-4e8d-baf1-88815ecf04b0\" class=\"colab-df-container\">\n",
              "    <div>\n",
              "<style scoped>\n",
              "    .dataframe tbody tr th:only-of-type {\n",
              "        vertical-align: middle;\n",
              "    }\n",
              "\n",
              "    .dataframe tbody tr th {\n",
              "        vertical-align: top;\n",
              "    }\n",
              "\n",
              "    .dataframe thead th {\n",
              "        text-align: right;\n",
              "    }\n",
              "</style>\n",
              "<table border=\"1\" class=\"dataframe\">\n",
              "  <thead>\n",
              "    <tr style=\"text-align: right;\">\n",
              "      <th></th>\n",
              "      <th>CreditScore</th>\n",
              "      <th>Age</th>\n",
              "      <th>Tenure</th>\n",
              "      <th>Balance</th>\n",
              "      <th>NumOfProducts</th>\n",
              "      <th>HasCrCard</th>\n",
              "      <th>IsActiveMember</th>\n",
              "      <th>EstimatedSalary</th>\n",
              "      <th>Exited</th>\n",
              "    </tr>\n",
              "  </thead>\n",
              "  <tbody>\n",
              "    <tr>\n",
              "      <th>count</th>\n",
              "      <td>10000.000000</td>\n",
              "      <td>10000.000000</td>\n",
              "      <td>10000.000000</td>\n",
              "      <td>10000.000000</td>\n",
              "      <td>10000.000000</td>\n",
              "      <td>10000.00000</td>\n",
              "      <td>10000.000000</td>\n",
              "      <td>10000.000000</td>\n",
              "      <td>10000.000000</td>\n",
              "    </tr>\n",
              "    <tr>\n",
              "      <th>mean</th>\n",
              "      <td>650.528800</td>\n",
              "      <td>38.921800</td>\n",
              "      <td>5.012800</td>\n",
              "      <td>76485.889288</td>\n",
              "      <td>1.530200</td>\n",
              "      <td>0.70550</td>\n",
              "      <td>0.515100</td>\n",
              "      <td>100090.239881</td>\n",
              "      <td>0.203700</td>\n",
              "    </tr>\n",
              "    <tr>\n",
              "      <th>std</th>\n",
              "      <td>96.653299</td>\n",
              "      <td>10.487806</td>\n",
              "      <td>2.892174</td>\n",
              "      <td>62397.405202</td>\n",
              "      <td>0.581654</td>\n",
              "      <td>0.45584</td>\n",
              "      <td>0.499797</td>\n",
              "      <td>57510.492818</td>\n",
              "      <td>0.402769</td>\n",
              "    </tr>\n",
              "    <tr>\n",
              "      <th>min</th>\n",
              "      <td>350.000000</td>\n",
              "      <td>18.000000</td>\n",
              "      <td>0.000000</td>\n",
              "      <td>0.000000</td>\n",
              "      <td>1.000000</td>\n",
              "      <td>0.00000</td>\n",
              "      <td>0.000000</td>\n",
              "      <td>11.580000</td>\n",
              "      <td>0.000000</td>\n",
              "    </tr>\n",
              "    <tr>\n",
              "      <th>25%</th>\n",
              "      <td>584.000000</td>\n",
              "      <td>32.000000</td>\n",
              "      <td>3.000000</td>\n",
              "      <td>0.000000</td>\n",
              "      <td>1.000000</td>\n",
              "      <td>0.00000</td>\n",
              "      <td>0.000000</td>\n",
              "      <td>51002.110000</td>\n",
              "      <td>0.000000</td>\n",
              "    </tr>\n",
              "    <tr>\n",
              "      <th>50%</th>\n",
              "      <td>652.000000</td>\n",
              "      <td>37.000000</td>\n",
              "      <td>5.000000</td>\n",
              "      <td>97198.540000</td>\n",
              "      <td>1.000000</td>\n",
              "      <td>1.00000</td>\n",
              "      <td>1.000000</td>\n",
              "      <td>100193.915000</td>\n",
              "      <td>0.000000</td>\n",
              "    </tr>\n",
              "    <tr>\n",
              "      <th>75%</th>\n",
              "      <td>718.000000</td>\n",
              "      <td>44.000000</td>\n",
              "      <td>7.000000</td>\n",
              "      <td>127644.240000</td>\n",
              "      <td>2.000000</td>\n",
              "      <td>1.00000</td>\n",
              "      <td>1.000000</td>\n",
              "      <td>149388.247500</td>\n",
              "      <td>0.000000</td>\n",
              "    </tr>\n",
              "    <tr>\n",
              "      <th>max</th>\n",
              "      <td>850.000000</td>\n",
              "      <td>92.000000</td>\n",
              "      <td>10.000000</td>\n",
              "      <td>250898.090000</td>\n",
              "      <td>4.000000</td>\n",
              "      <td>1.00000</td>\n",
              "      <td>1.000000</td>\n",
              "      <td>199992.480000</td>\n",
              "      <td>1.000000</td>\n",
              "    </tr>\n",
              "  </tbody>\n",
              "</table>\n",
              "</div>\n",
              "    <div class=\"colab-df-buttons\">\n",
              "\n",
              "  <div class=\"colab-df-container\">\n",
              "    <button class=\"colab-df-convert\" onclick=\"convertToInteractive('df-f5172e83-318a-4e8d-baf1-88815ecf04b0')\"\n",
              "            title=\"Convert this dataframe to an interactive table.\"\n",
              "            style=\"display:none;\">\n",
              "\n",
              "  <svg xmlns=\"http://www.w3.org/2000/svg\" height=\"24px\" viewBox=\"0 -960 960 960\">\n",
              "    <path d=\"M120-120v-720h720v720H120Zm60-500h600v-160H180v160Zm220 220h160v-160H400v160Zm0 220h160v-160H400v160ZM180-400h160v-160H180v160Zm440 0h160v-160H620v160ZM180-180h160v-160H180v160Zm440 0h160v-160H620v160Z\"/>\n",
              "  </svg>\n",
              "    </button>\n",
              "\n",
              "  <style>\n",
              "    .colab-df-container {\n",
              "      display:flex;\n",
              "      gap: 12px;\n",
              "    }\n",
              "\n",
              "    .colab-df-convert {\n",
              "      background-color: #E8F0FE;\n",
              "      border: none;\n",
              "      border-radius: 50%;\n",
              "      cursor: pointer;\n",
              "      display: none;\n",
              "      fill: #1967D2;\n",
              "      height: 32px;\n",
              "      padding: 0 0 0 0;\n",
              "      width: 32px;\n",
              "    }\n",
              "\n",
              "    .colab-df-convert:hover {\n",
              "      background-color: #E2EBFA;\n",
              "      box-shadow: 0px 1px 2px rgba(60, 64, 67, 0.3), 0px 1px 3px 1px rgba(60, 64, 67, 0.15);\n",
              "      fill: #174EA6;\n",
              "    }\n",
              "\n",
              "    .colab-df-buttons div {\n",
              "      margin-bottom: 4px;\n",
              "    }\n",
              "\n",
              "    [theme=dark] .colab-df-convert {\n",
              "      background-color: #3B4455;\n",
              "      fill: #D2E3FC;\n",
              "    }\n",
              "\n",
              "    [theme=dark] .colab-df-convert:hover {\n",
              "      background-color: #434B5C;\n",
              "      box-shadow: 0px 1px 3px 1px rgba(0, 0, 0, 0.15);\n",
              "      filter: drop-shadow(0px 1px 2px rgba(0, 0, 0, 0.3));\n",
              "      fill: #FFFFFF;\n",
              "    }\n",
              "  </style>\n",
              "\n",
              "    <script>\n",
              "      const buttonEl =\n",
              "        document.querySelector('#df-f5172e83-318a-4e8d-baf1-88815ecf04b0 button.colab-df-convert');\n",
              "      buttonEl.style.display =\n",
              "        google.colab.kernel.accessAllowed ? 'block' : 'none';\n",
              "\n",
              "      async function convertToInteractive(key) {\n",
              "        const element = document.querySelector('#df-f5172e83-318a-4e8d-baf1-88815ecf04b0');\n",
              "        const dataTable =\n",
              "          await google.colab.kernel.invokeFunction('convertToInteractive',\n",
              "                                                    [key], {});\n",
              "        if (!dataTable) return;\n",
              "\n",
              "        const docLinkHtml = 'Like what you see? Visit the ' +\n",
              "          '<a target=\"_blank\" href=https://colab.research.google.com/notebooks/data_table.ipynb>data table notebook</a>'\n",
              "          + ' to learn more about interactive tables.';\n",
              "        element.innerHTML = '';\n",
              "        dataTable['output_type'] = 'display_data';\n",
              "        await google.colab.output.renderOutput(dataTable, element);\n",
              "        const docLink = document.createElement('div');\n",
              "        docLink.innerHTML = docLinkHtml;\n",
              "        element.appendChild(docLink);\n",
              "      }\n",
              "    </script>\n",
              "  </div>\n",
              "\n",
              "\n",
              "<div id=\"df-a0993099-d44b-4774-b3f9-0e981d983dcc\">\n",
              "  <button class=\"colab-df-quickchart\" onclick=\"quickchart('df-a0993099-d44b-4774-b3f9-0e981d983dcc')\"\n",
              "            title=\"Suggest charts.\"\n",
              "            style=\"display:none;\">\n",
              "\n",
              "<svg xmlns=\"http://www.w3.org/2000/svg\" height=\"24px\"viewBox=\"0 0 24 24\"\n",
              "     width=\"24px\">\n",
              "    <g>\n",
              "        <path d=\"M19 3H5c-1.1 0-2 .9-2 2v14c0 1.1.9 2 2 2h14c1.1 0 2-.9 2-2V5c0-1.1-.9-2-2-2zM9 17H7v-7h2v7zm4 0h-2V7h2v10zm4 0h-2v-4h2v4z\"/>\n",
              "    </g>\n",
              "</svg>\n",
              "  </button>\n",
              "\n",
              "<style>\n",
              "  .colab-df-quickchart {\n",
              "    background-color: #E8F0FE;\n",
              "    border: none;\n",
              "    border-radius: 50%;\n",
              "    cursor: pointer;\n",
              "    display: none;\n",
              "    fill: #1967D2;\n",
              "    height: 32px;\n",
              "    padding: 0 0 0 0;\n",
              "    width: 32px;\n",
              "  }\n",
              "\n",
              "  .colab-df-quickchart:hover {\n",
              "    background-color: #E2EBFA;\n",
              "    box-shadow: 0px 1px 2px rgba(60, 64, 67, 0.3), 0px 1px 3px 1px rgba(60, 64, 67, 0.15);\n",
              "    fill: #174EA6;\n",
              "  }\n",
              "\n",
              "  [theme=dark] .colab-df-quickchart {\n",
              "    background-color: #3B4455;\n",
              "    fill: #D2E3FC;\n",
              "  }\n",
              "\n",
              "  [theme=dark] .colab-df-quickchart:hover {\n",
              "    background-color: #434B5C;\n",
              "    box-shadow: 0px 1px 3px 1px rgba(0, 0, 0, 0.15);\n",
              "    filter: drop-shadow(0px 1px 2px rgba(0, 0, 0, 0.3));\n",
              "    fill: #FFFFFF;\n",
              "  }\n",
              "</style>\n",
              "\n",
              "  <script>\n",
              "    async function quickchart(key) {\n",
              "      const charts = await google.colab.kernel.invokeFunction(\n",
              "          'suggestCharts', [key], {});\n",
              "    }\n",
              "    (() => {\n",
              "      let quickchartButtonEl =\n",
              "        document.querySelector('#df-a0993099-d44b-4774-b3f9-0e981d983dcc button');\n",
              "      quickchartButtonEl.style.display =\n",
              "        google.colab.kernel.accessAllowed ? 'block' : 'none';\n",
              "    })();\n",
              "  </script>\n",
              "</div>\n",
              "    </div>\n",
              "  </div>\n"
            ]
          },
          "metadata": {},
          "execution_count": 10
        }
      ],
      "source": [
        "df.describe()"
      ]
    },
    {
      "cell_type": "code",
      "execution_count": 11,
      "metadata": {
        "colab": {
          "base_uri": "https://localhost:8080/",
          "height": 430
        },
        "id": "NBkpcMjkWGTM",
        "outputId": "de85c6b3-f40a-4321-cb5d-f15905331875"
      },
      "outputs": [
        {
          "output_type": "display_data",
          "data": {
            "text/plain": [
              "<Figure size 640x480 with 1 Axes>"
            ],
            "image/png": "[encoded data removed]"
          },
          "metadata": {}
        }
      ],
      "source": [
        "df['Balance'].hist(bins=100);"
      ]
    },
    {
      "cell_type": "code",
      "execution_count": 12,
      "metadata": {
        "colab": {
          "base_uri": "https://localhost:8080/",
          "height": 431
        },
        "id": "Qacw7foWWGTM",
        "outputId": "6900cf6a-7373-4aa7-c2b7-2430196a0f1a"
      },
      "outputs": [
        {
          "output_type": "display_data",
          "data": {
            "text/plain": [
              "<Figure size 640x480 with 1 Axes>"
            ],
            "image/png": "[encoded data removed]"
          },
          "metadata": {}
        }
      ],
      "source": [
        "df['CreditScore'].hist(bins=300);"
      ]
    },
    {
      "cell_type": "markdown",
      "metadata": {
        "id": "ebRcLMX41gIG"
      },
      "source": [
        "### Preprocessing"
      ]
    },
    {
      "cell_type": "code",
      "execution_count": 13,
      "metadata": {
        "id": "1UVIwf66PTjW"
      },
      "outputs": [],
      "source": [
        "df['Gender'].replace({'Female':1,'Male':0},inplace=True)\n",
        "df['Geography'].replace({'France':1,'Spain':0, 'Germany':3},inplace=True)"
      ]
    },
    {
      "cell_type": "code",
      "execution_count": 14,
      "metadata": {
        "id": "KLY-CqU-nnk-"
      },
      "outputs": [],
      "source": [
        "# Data Split: Features (X) and Target Variable (y) Separation\n",
        "X = df.drop('Exited', axis=1)\n",
        "y = df['Exited']\n",
        "\n",
        "adasyn = ADASYN(random_state=RS,)\n",
        "X_resampled, y_resampled = adasyn.fit_resample(X, y)\n",
        "\n",
        "# Data Splitting\n",
        "X_train, X_test, y_train, y_test = train_test_split(X_resampled, y_resampled, test_size=0.25, random_state=RS)\n",
        "\n",
        "# Categorical Feature Identification\n",
        "categorical_features = ['Geography', 'Gender', 'HasCrCard', 'IsActiveMember','NumOfProducts']\n",
        "numeric_features = [col for col in X.columns if col not in categorical_features]"
      ]
    },
    {
      "cell_type": "code",
      "execution_count": 15,
      "metadata": {
        "id": "n_5GOlFU5cL3"
      },
      "outputs": [],
      "source": [
        "preprocessor = ColumnTransformer(\n",
        "    transformers=[\n",
        "        ('cat', OrdinalEncoder(), categorical_features),\n",
        "        ('num', StandardScaler(), numeric_features),\n",
        "    ],\n",
        ")"
      ]
    },
    {
      "cell_type": "markdown",
      "metadata": {
        "id": "CJfLfCAc1BjR"
      },
      "source": [
        "### CatBoost"
      ]
    },
    {
      "cell_type": "code",
      "execution_count": 16,
      "metadata": {
        "colab": {
          "base_uri": "https://localhost:8080/"
        },
        "id": "ZMLIAqLPWGTN",
        "outputId": "115d1d06-dc7d-4275-aea7-caedc5c2c2a5"
      },
      "outputs": [
        {
          "output_type": "stream",
          "name": "stdout",
          "text": [
            "F1 Score on Train Set: 0.8656068319361679\n",
            "CPU times: user 30.9 s, sys: 3.39 s, total: 34.2 s\n",
            "Wall time: 20min 15s\n"
          ]
        }
      ],
      "source": [
        "%%time\n",
        "\n",
        "pipeline = Pipeline([\n",
        "    ('preprocessor', preprocessor),\n",
        "    ('model', CatBoostClassifier(\n",
        "        verbose=False,\n",
        "        random_seed=RS,\n",
        "        #feature_weights = [2.0, 1.0, 1.0, 1.0, 1.0, 3.0, 1.0, 1.0, 1.0, 1.0],\n",
        "        #border_count=128,\n",
        "        #auto_class_weights='SqrtBalanced',\n",
        "    ))\n",
        "])\n",
        "\n",
        "param_dist = {\n",
        "    'model__iterations' : range(500, 1501, 100),\n",
        "    'model__learning_rate': [0.01, 0.05, 0.1],\n",
        "    'model__depth': [6, 7, 8, 9, 10],\n",
        "}\n",
        "\n",
        "cv = StratifiedKFold(n_splits=10, shuffle=True, random_state=RS)\n",
        "\n",
        "random_search = RandomizedSearchCV(\n",
        "    estimator=pipeline,\n",
        "    param_distributions=param_dist,\n",
        "    n_iter=10,\n",
        "    scoring='f1',\n",
        "    n_jobs=-1,\n",
        "    cv=cv,\n",
        "    verbose=0,\n",
        "    random_state=RS,\n",
        ")\n",
        "\n",
        "cat = random_search.fit(X_train, y_train)\n",
        "\n",
        "print('F1 Score on Train Set:', cat.best_score_)"
      ]
    },
    {
      "cell_type": "markdown",
      "metadata": {
        "id": "p9rxn7iSWGTb"
      },
      "source": [
        "### LGBM"
      ]
    },
    {
      "cell_type": "code",
      "execution_count": 17,
      "metadata": {
        "id": "45HsRY-JWGTb",
        "colab": {
          "base_uri": "https://localhost:8080/"
        },
        "outputId": "eeed9980-1f7b-491a-f43c-80e45150eb60"
      },
      "outputs": [
        {
          "output_type": "stream",
          "name": "stdout",
          "text": [
            "F1 Score on Train Set: 0.8676471996252992\n",
            "CPU times: user 4.37 s, sys: 400 ms, total: 4.77 s\n",
            "Wall time: 2min 39s\n"
          ]
        }
      ],
      "source": [
        "%%time\n",
        "\n",
        "pipeline = Pipeline([\n",
        "    ('preprocessor', preprocessor),\n",
        "    ('model', LGBMClassifier(\n",
        "        random_state=RS,\n",
        "        verbose=-1,\n",
        "        boosting_type='gbdt',\n",
        "    ))\n",
        "])\n",
        "\n",
        "param_dist = {\n",
        "    'model__min_child_samples' : [10, 20, 30, 40],\n",
        "    'model__n_estimators': range(500, 1501, 100),\n",
        "    'model__learning_rate': [0.01, 0.05, 0.1],\n",
        "    'model__num_leaves': [31, 63, 127, 255],\n",
        "    'model__max_depth': [6, 7, 8, 9, 10],\n",
        "}\n",
        "\n",
        "cv = StratifiedKFold(n_splits=10, shuffle=True, random_state=RS)\n",
        "\n",
        "random_search = RandomizedSearchCV(\n",
        "    estimator=pipeline,\n",
        "    param_distributions=param_dist,\n",
        "    n_iter=10,\n",
        "    scoring='f1',\n",
        "    n_jobs=-1,\n",
        "    verbose=0,\n",
        "    cv=cv,\n",
        "    random_state=RS\n",
        ")\n",
        "\n",
        "lgbm = random_search.fit(X_train, y_train)\n",
        "\n",
        "print('F1 Score on Train Set:', lgbm.best_score_)"
      ]
    },
    {
      "cell_type": "markdown",
      "metadata": {
        "id": "ubU3ZL0NWGTc"
      },
      "source": [
        "### XGboost"
      ]
    },
    {
      "cell_type": "code",
      "execution_count": 18,
      "metadata": {
        "id": "xg3wQGDUWGTc",
        "colab": {
          "base_uri": "https://localhost:8080/"
        },
        "outputId": "81865b99-ba23-4c40-fcee-28014e3b04d5"
      },
      "outputs": [
        {
          "output_type": "stream",
          "name": "stdout",
          "text": [
            "F1 Score on Train Set: 0.8637411355673116\n",
            "CPU times: user 43.4 s, sys: 1.48 s, total: 44.9 s\n",
            "Wall time: 16min 46s\n"
          ]
        }
      ],
      "source": [
        "%%time\n",
        "\n",
        "pipeline = Pipeline([\n",
        "    ('preprocessor', preprocessor),\n",
        "    ('model', XGBClassifier(\n",
        "        verbosity=1,\n",
        "        random_state=RS,\n",
        "    ))\n",
        "])\n",
        "\n",
        "param_dist = {\n",
        "    'model__learning_rate': [0.01, 0.05, 0.1],\n",
        "    'model__n_estimators': range(500, 1501, 100),\n",
        "    'model__max_depth': [6, 7, 8, 9, 10],\n",
        "}\n",
        "\n",
        "cv = StratifiedKFold(n_splits=10, shuffle=True, random_state=RS)\n",
        "\n",
        "random_search = RandomizedSearchCV(\n",
        "    estimator=pipeline,\n",
        "    param_distributions=param_dist,\n",
        "    n_iter=10,\n",
        "    scoring='f1',\n",
        "    n_jobs=-1,\n",
        "    cv=cv,\n",
        "    verbose=0,\n",
        "    random_state=RS,\n",
        ")\n",
        "\n",
        "xgb = random_search.fit(X_train, y_train)\n",
        "\n",
        "print('F1 Score on Train Set:', xgb.best_score_)"
      ]
    },
    {
      "cell_type": "markdown",
      "metadata": {
        "id": "UmaUDUzJWGTs"
      },
      "source": [
        "## Model Evaluation\n"
      ]
    },
    {
      "cell_type": "code",
      "execution_count": 20,
      "metadata": {
        "id": "LUZn8hNhInHe"
      },
      "outputs": [],
      "source": [
        "best_model = lgbm"
      ]
    },
    {
      "cell_type": "code",
      "execution_count": 21,
      "metadata": {
        "id": "AJHqRAppWGTt",
        "colab": {
          "base_uri": "https://localhost:8080/"
        },
        "outputId": "8385b2b4-b4ee-4686-9d06-83cda1080e78"
      },
      "outputs": [
        {
          "output_type": "stream",
          "name": "stdout",
          "text": [
            "F1 0.8679999999999999\n"
          ]
        }
      ],
      "source": [
        "predictions_test = best_model.predict(X_test)\n",
        "result = f1_score(y_test, predictions_test)\n",
        "print('F1',result)"
      ]
    },
    {
      "cell_type": "code",
      "execution_count": 22,
      "metadata": {
        "id": "N47m3UBCJBud",
        "colab": {
          "base_uri": "https://localhost:8080/",
          "height": 578
        },
        "outputId": "92bf93c4-8a44-46d8-827b-adeaf3eb2d28"
      },
      "outputs": [
        {
          "output_type": "display_data",
          "data": {
            "text/plain": [
              "<Figure size 800x600 with 1 Axes>"
            ],
            "image/png": "[encoded data removed]"
          },
          "metadata": {}
        }
      ],
      "source": [
        "conf_matrix = confusion_matrix(y_test, predictions_test)\n",
        "\n",
        "plt.figure(figsize=(8, 6))\n",
        "sns.set(font_scale=1.2)\n",
        "sns.heatmap(conf_matrix, annot=True, fmt=\"d\", cmap=\"Blues\", cbar=False)\n",
        "plt.xlabel(\"Predicted\")\n",
        "plt.ylabel(\"Actual\")\n",
        "plt.title(\"Confusion Matrix\")\n",
        "plt.show()"
      ]
    },
    {
      "cell_type": "code",
      "execution_count": 23,
      "metadata": {
        "id": "KB3d_0VBWGTu",
        "colab": {
          "base_uri": "https://localhost:8080/",
          "height": 502
        },
        "outputId": "e48cc8c5-2b59-480d-e307-725d9471dbc4"
      },
      "outputs": [
        {
          "output_type": "display_data",
          "data": {
            "text/plain": [
              "<Figure size 640x480 with 1 Axes>"
            ],
            "image/png": "[encoded data removed]"
          },
          "metadata": {}
        },
        {
          "output_type": "stream",
          "name": "stdout",
          "text": [
            "roc_auc_score:  0.9411725875535398\n"
          ]
        }
      ],
      "source": [
        "probabilities_valid = best_model.predict_proba(X_test)\n",
        "probabilities_one_valid = probabilities_valid[:, 1]\n",
        "\n",
        "fpr, tpr, thresholds = roc_curve(y_test, probabilities_one_valid)\n",
        "\n",
        "plt.figure()\n",
        "plt.plot(fpr, tpr)\n",
        "plt.plot([0, 1], [0, 1], linestyle='--')\n",
        "plt.xlim([0.0, 1.0])\n",
        "plt.ylim([0.0, 1.0])\n",
        "plt.xlabel('False Positive Rate')\n",
        "plt.ylabel('True Positive Rate')\n",
        "plt.title('ROC-curve')\n",
        "plt.show()\n",
        "\n",
        "print('roc_auc_score: ',roc_auc_score(y_test, probabilities_one_valid))"
      ]
    },
    {
      "cell_type": "code",
      "execution_count": 24,
      "metadata": {
        "id": "VgaMVghqJWCd",
        "colab": {
          "base_uri": "https://localhost:8080/",
          "height": 593
        },
        "outputId": "303fb29e-0685-4420-ffbc-20c8c2fa0323"
      },
      "outputs": [
        {
          "output_type": "display_data",
          "data": {
            "text/plain": [
              "<Figure size 640x480 with 1 Axes>"
            ],
            "image/png": "[encoded data removed]"
          },
          "metadata": {}
        }
      ],
      "source": [
        "feature_importances = pd.DataFrame(index = X_train.columns,\n",
        "                                   data = best_model.best_estimator_['model'].feature_importances_)\n",
        "top_feature = feature_importances.sort_values(by = [0], ascending=False).head(20)\n",
        "\n",
        "plt.bar(top_feature.index , top_feature[0]);\n",
        "plt.title('feature importances')\n",
        "plt.xticks(rotation=90)\n",
        "\n",
        "plt.show()"
      ]
    },
    {
      "cell_type": "markdown",
      "metadata": {
        "id": "bvB0MIHOKrR_"
      },
      "source": [
        "## Conclusion\n",
        "\n",
        "The **LightGBM ** emerged as the top-performing model, boasting an impressive F1 score of **0.87** on the test dataset. Its **ROC AUC score of 0.94** underscores its ability to effectively distinguish between classes. It's worth noting that the **CatBoostClassifier** and **XGboost** model also demonstrated a similar level of performance during cross-validation."
      ]
    },
    {
      "cell_type": "markdown",
      "metadata": {
        "id": "UCOe5QW-MN8L"
      },
      "source": [
        "Thank you for taking the time to review my work."
      ]
    }
  ],
  "metadata": {
    "ExecuteTimeLog": [
      {
        "duration": 400,
        "start_time": "2023-02-16T10:14:05.067Z"
      },
      {
        "duration": 192,
        "start_time": "2023-02-16T10:14:43.633Z"
      },
      {
        "duration": 16,
        "start_time": "2023-02-16T10:15:00.286Z"
      },
      {
        "duration": 12,
        "start_time": "2023-02-16T10:15:13.335Z"
      },
      {
        "duration": 13,
        "start_time": "2023-02-16T10:15:48.752Z"
      },
      {
        "duration": 18,
        "start_time": "2023-02-16T10:16:22.585Z"
      },
      {
        "duration": 63,
        "start_time": "2023-02-16T10:17:03.683Z"
      },
      {
        "duration": 7,
        "start_time": "2023-02-16T10:17:07.638Z"
      },
      {
        "duration": 15,
        "start_time": "2023-02-16T10:17:17.358Z"
      },
      {
        "duration": 12,
        "start_time": "2023-02-16T10:17:22.234Z"
      },
      {
        "duration": 8,
        "start_time": "2023-02-16T10:17:45.456Z"
      },
      {
        "duration": 7,
        "start_time": "2023-02-16T10:17:59.755Z"
      },
      {
        "duration": 15,
        "start_time": "2023-02-16T10:18:26.332Z"
      },
      {
        "duration": 52,
        "start_time": "2023-02-17T06:21:58.292Z"
      },
      {
        "duration": 6,
        "start_time": "2023-02-17T06:22:04.039Z"
      },
      {
        "duration": 406,
        "start_time": "2023-02-17T06:22:14.355Z"
      },
      {
        "duration": 177,
        "start_time": "2023-02-17T06:22:14.763Z"
      },
      {
        "duration": 15,
        "start_time": "2023-02-17T06:22:14.942Z"
      },
      {
        "duration": 17,
        "start_time": "2023-02-17T06:22:21.776Z"
      },
      {
        "duration": 8,
        "start_time": "2023-02-17T06:22:22.367Z"
      },
      {
        "duration": 22,
        "start_time": "2023-02-17T06:27:52.425Z"
      },
      {
        "duration": 13,
        "start_time": "2023-02-17T06:27:57.022Z"
      },
      {
        "duration": 14,
        "start_time": "2023-02-17T06:28:00.602Z"
      },
      {
        "duration": 31,
        "start_time": "2023-02-17T06:42:04.760Z"
      },
      {
        "duration": 8,
        "start_time": "2023-02-17T06:42:08.536Z"
      },
      {
        "duration": 9,
        "start_time": "2023-02-17T06:42:14.294Z"
      },
      {
        "duration": 15,
        "start_time": "2023-02-17T06:42:45.862Z"
      },
      {
        "duration": 54,
        "start_time": "2023-02-17T06:46:40.939Z"
      },
      {
        "duration": 5,
        "start_time": "2023-02-17T06:52:19.628Z"
      },
      {
        "duration": 11,
        "start_time": "2023-02-17T06:52:21.230Z"
      },
      {
        "duration": 7,
        "start_time": "2023-02-17T06:52:21.935Z"
      },
      {
        "duration": 6,
        "start_time": "2023-02-17T07:04:42.078Z"
      },
      {
        "duration": 10,
        "start_time": "2023-02-17T07:04:45.480Z"
      },
      {
        "duration": 8,
        "start_time": "2023-02-17T07:06:02.181Z"
      },
      {
        "duration": 7,
        "start_time": "2023-02-17T07:07:34.677Z"
      },
      {
        "duration": 8,
        "start_time": "2023-02-17T07:07:41.244Z"
      },
      {
        "duration": 11,
        "start_time": "2023-02-17T07:07:52.922Z"
      },
      {
        "duration": 20,
        "start_time": "2023-02-17T07:07:58.787Z"
      },
      {
        "duration": 3109,
        "start_time": "2023-02-17T07:14:22.642Z"
      },
      {
        "duration": 900,
        "start_time": "2023-02-17T07:14:37.062Z"
      },
      {
        "duration": 680,
        "start_time": "2023-02-17T07:15:06.226Z"
      },
      {
        "duration": 391,
        "start_time": "2023-02-17T07:15:48.506Z"
      },
      {
        "duration": 3,
        "start_time": "2023-02-17T07:16:32.876Z"
      },
      {
        "duration": 3,
        "start_time": "2023-02-17T07:16:36.911Z"
      },
      {
        "duration": 47,
        "start_time": "2023-02-17T07:18:59.603Z"
      },
      {
        "duration": 11,
        "start_time": "2023-02-17T07:19:07.261Z"
      },
      {
        "duration": 17,
        "start_time": "2023-02-17T07:19:13.761Z"
      },
      {
        "duration": 37,
        "start_time": "2023-02-17T07:19:41.578Z"
      },
      {
        "duration": 12,
        "start_time": "2023-02-17T07:35:53.297Z"
      },
      {
        "duration": 13,
        "start_time": "2023-02-17T07:35:57.026Z"
      },
      {
        "duration": 9,
        "start_time": "2023-02-17T07:36:05.772Z"
      },
      {
        "duration": 5,
        "start_time": "2023-02-17T07:36:26.681Z"
      },
      {
        "duration": 195,
        "start_time": "2023-02-17T07:37:11.344Z"
      },
      {
        "duration": 149,
        "start_time": "2023-02-17T07:37:17.982Z"
      },
      {
        "duration": 156,
        "start_time": "2023-02-17T07:37:31.391Z"
      },
      {
        "duration": 59,
        "start_time": "2023-02-17T09:04:22.198Z"
      },
      {
        "duration": 47,
        "start_time": "2023-02-17T14:48:47.304Z"
      },
      {
        "duration": 15,
        "start_time": "2023-02-17T14:50:13.587Z"
      },
      {
        "duration": 59,
        "start_time": "2023-02-17T14:53:29.141Z"
      },
      {
        "duration": 21,
        "start_time": "2023-02-17T14:53:38.577Z"
      },
      {
        "duration": 14,
        "start_time": "2023-02-17T14:53:44.894Z"
      },
      {
        "duration": 57,
        "start_time": "2023-02-17T14:55:18.516Z"
      },
      {
        "duration": 13,
        "start_time": "2023-02-17T14:55:18.900Z"
      },
      {
        "duration": 5,
        "start_time": "2023-02-17T15:06:23.885Z"
      },
      {
        "duration": 10,
        "start_time": "2023-02-17T15:06:42.617Z"
      },
      {
        "duration": 9,
        "start_time": "2023-02-17T15:06:47.484Z"
      },
      {
        "duration": 10,
        "start_time": "2023-02-17T15:06:50.910Z"
      },
      {
        "duration": 9,
        "start_time": "2023-02-17T15:06:58.029Z"
      },
      {
        "duration": 11,
        "start_time": "2023-02-17T15:07:06.697Z"
      },
      {
        "duration": 12,
        "start_time": "2023-02-17T15:07:23.588Z"
      },
      {
        "duration": 10,
        "start_time": "2023-02-17T15:07:28.184Z"
      },
      {
        "duration": 8,
        "start_time": "2023-02-17T15:07:50.785Z"
      },
      {
        "duration": 12,
        "start_time": "2023-02-17T15:17:39.347Z"
      },
      {
        "duration": 11,
        "start_time": "2023-02-17T15:17:41.782Z"
      },
      {
        "duration": 357,
        "start_time": "2023-02-17T15:33:37.730Z"
      },
      {
        "duration": 3,
        "start_time": "2023-02-17T15:34:17.310Z"
      },
      {
        "duration": 3,
        "start_time": "2023-02-17T15:34:47.260Z"
      },
      {
        "duration": 21,
        "start_time": "2023-02-17T15:35:09.235Z"
      },
      {
        "duration": 2,
        "start_time": "2023-02-17T15:35:13.042Z"
      },
      {
        "duration": 14,
        "start_time": "2023-02-17T15:35:13.977Z"
      },
      {
        "duration": 2,
        "start_time": "2023-02-17T15:35:47.769Z"
      },
      {
        "duration": 3,
        "start_time": "2023-02-17T15:35:48.068Z"
      },
      {
        "duration": 15,
        "start_time": "2023-02-17T15:35:49.380Z"
      },
      {
        "duration": 10,
        "start_time": "2023-02-17T15:38:37.564Z"
      },
      {
        "duration": 28,
        "start_time": "2023-02-17T15:38:41.496Z"
      },
      {
        "duration": 21,
        "start_time": "2023-02-17T15:38:54.296Z"
      },
      {
        "duration": 16,
        "start_time": "2023-02-17T15:39:18.841Z"
      },
      {
        "duration": 49,
        "start_time": "2023-02-18T08:33:51.391Z"
      },
      {
        "duration": 417,
        "start_time": "2023-02-18T08:34:07.996Z"
      },
      {
        "duration": 83,
        "start_time": "2023-02-18T08:34:08.415Z"
      },
      {
        "duration": 13,
        "start_time": "2023-02-18T08:34:08.499Z"
      },
      {
        "duration": 21,
        "start_time": "2023-02-18T08:34:08.513Z"
      },
      {
        "duration": 4,
        "start_time": "2023-02-18T08:34:08.535Z"
      },
      {
        "duration": 13,
        "start_time": "2023-02-18T08:34:08.541Z"
      },
      {
        "duration": 6,
        "start_time": "2023-02-18T08:34:08.555Z"
      },
      {
        "duration": 7,
        "start_time": "2023-02-18T08:34:08.562Z"
      },
      {
        "duration": 102,
        "start_time": "2023-02-18T08:34:08.570Z"
      },
      {
        "duration": 11,
        "start_time": "2023-02-18T08:34:08.676Z"
      },
      {
        "duration": 5,
        "start_time": "2023-02-18T08:34:08.688Z"
      },
      {
        "duration": 12,
        "start_time": "2023-02-18T08:34:08.695Z"
      },
      {
        "duration": 65,
        "start_time": "2023-02-18T08:34:08.708Z"
      },
      {
        "duration": 0,
        "start_time": "2023-02-18T08:34:08.774Z"
      },
      {
        "duration": 0,
        "start_time": "2023-02-18T08:34:08.776Z"
      },
      {
        "duration": 0,
        "start_time": "2023-02-18T08:34:08.777Z"
      },
      {
        "duration": 0,
        "start_time": "2023-02-18T08:34:08.778Z"
      },
      {
        "duration": 0,
        "start_time": "2023-02-18T08:34:08.779Z"
      },
      {
        "duration": 0,
        "start_time": "2023-02-18T08:34:08.780Z"
      },
      {
        "duration": 0,
        "start_time": "2023-02-18T08:34:08.781Z"
      },
      {
        "duration": 0,
        "start_time": "2023-02-18T08:34:08.782Z"
      },
      {
        "duration": 0,
        "start_time": "2023-02-18T08:34:08.783Z"
      },
      {
        "duration": 0,
        "start_time": "2023-02-18T08:34:08.784Z"
      },
      {
        "duration": 0,
        "start_time": "2023-02-18T08:34:08.784Z"
      },
      {
        "duration": 0,
        "start_time": "2023-02-18T08:34:08.785Z"
      },
      {
        "duration": 0,
        "start_time": "2023-02-18T08:34:08.786Z"
      },
      {
        "duration": 0,
        "start_time": "2023-02-18T08:34:08.787Z"
      },
      {
        "duration": 0,
        "start_time": "2023-02-18T08:34:08.810Z"
      },
      {
        "duration": 0,
        "start_time": "2023-02-18T08:34:08.811Z"
      },
      {
        "duration": 0,
        "start_time": "2023-02-18T08:34:08.812Z"
      },
      {
        "duration": 3,
        "start_time": "2023-02-18T08:35:18.203Z"
      },
      {
        "duration": 1052,
        "start_time": "2023-02-18T08:36:10.948Z"
      },
      {
        "duration": 4,
        "start_time": "2023-02-18T08:36:19.890Z"
      },
      {
        "duration": 11,
        "start_time": "2023-02-18T08:36:33.246Z"
      },
      {
        "duration": 6,
        "start_time": "2023-02-18T08:36:41.181Z"
      },
      {
        "duration": 9,
        "start_time": "2023-02-18T08:37:04.514Z"
      },
      {
        "duration": 8,
        "start_time": "2023-02-18T08:37:07.235Z"
      },
      {
        "duration": 7,
        "start_time": "2023-02-18T08:38:08.919Z"
      },
      {
        "duration": 6,
        "start_time": "2023-02-18T08:38:17.059Z"
      },
      {
        "duration": 9,
        "start_time": "2023-02-18T08:38:33.422Z"
      },
      {
        "duration": 5,
        "start_time": "2023-02-18T08:39:17.002Z"
      },
      {
        "duration": 9,
        "start_time": "2023-02-18T08:40:17.073Z"
      },
      {
        "duration": 7,
        "start_time": "2023-02-18T08:41:39.391Z"
      },
      {
        "duration": 10,
        "start_time": "2023-02-18T08:42:59.780Z"
      },
      {
        "duration": 11,
        "start_time": "2023-02-18T08:43:42.230Z"
      },
      {
        "duration": 26,
        "start_time": "2023-02-18T08:44:15.636Z"
      },
      {
        "duration": 11,
        "start_time": "2023-02-18T08:44:39.368Z"
      },
      {
        "duration": 9,
        "start_time": "2023-02-18T08:44:39.578Z"
      },
      {
        "duration": 2,
        "start_time": "2023-02-18T08:44:42.257Z"
      },
      {
        "duration": 4,
        "start_time": "2023-02-18T08:44:42.478Z"
      },
      {
        "duration": 8,
        "start_time": "2023-02-18T08:44:43.142Z"
      },
      {
        "duration": 5,
        "start_time": "2023-02-18T08:44:44.520Z"
      },
      {
        "duration": 10,
        "start_time": "2023-02-18T08:44:45.414Z"
      },
      {
        "duration": 3,
        "start_time": "2023-02-18T08:45:23.096Z"
      },
      {
        "duration": 9,
        "start_time": "2023-02-18T08:45:23.381Z"
      },
      {
        "duration": 5,
        "start_time": "2023-02-18T08:45:23.974Z"
      },
      {
        "duration": 23,
        "start_time": "2023-02-18T08:45:24.942Z"
      },
      {
        "duration": 9,
        "start_time": "2023-02-18T08:45:34.284Z"
      },
      {
        "duration": 78,
        "start_time": "2023-02-20T05:06:04.331Z"
      },
      {
        "duration": 413,
        "start_time": "2023-02-20T05:06:13.189Z"
      },
      {
        "duration": 168,
        "start_time": "2023-02-20T05:06:13.605Z"
      },
      {
        "duration": 12,
        "start_time": "2023-02-20T05:06:13.869Z"
      },
      {
        "duration": 29,
        "start_time": "2023-02-20T05:06:15.989Z"
      },
      {
        "duration": 5,
        "start_time": "2023-02-20T05:06:18.205Z"
      },
      {
        "duration": 9,
        "start_time": "2023-02-20T05:06:18.413Z"
      },
      {
        "duration": 8,
        "start_time": "2023-02-20T05:06:19.121Z"
      },
      {
        "duration": 14,
        "start_time": "2023-02-20T05:06:19.487Z"
      },
      {
        "duration": 140,
        "start_time": "2023-02-20T05:06:21.864Z"
      },
      {
        "duration": 12,
        "start_time": "2023-02-20T05:06:22.628Z"
      },
      {
        "duration": 6,
        "start_time": "2023-02-20T05:06:25.995Z"
      },
      {
        "duration": 3,
        "start_time": "2023-02-20T05:06:41.879Z"
      },
      {
        "duration": 4,
        "start_time": "2023-02-20T05:08:59.645Z"
      },
      {
        "duration": 4,
        "start_time": "2023-02-20T05:10:01.554Z"
      },
      {
        "duration": 12,
        "start_time": "2023-02-20T05:10:31.263Z"
      },
      {
        "duration": 12,
        "start_time": "2023-02-20T05:10:34.744Z"
      },
      {
        "duration": 15,
        "start_time": "2023-02-20T05:12:00.689Z"
      },
      {
        "duration": 6,
        "start_time": "2023-02-20T05:12:09.030Z"
      },
      {
        "duration": 6,
        "start_time": "2023-02-20T05:12:22.631Z"
      },
      {
        "duration": 15,
        "start_time": "2023-02-20T05:12:33.917Z"
      },
      {
        "duration": 16,
        "start_time": "2023-02-20T05:12:48.424Z"
      },
      {
        "duration": 51,
        "start_time": "2023-02-20T05:13:35.037Z"
      },
      {
        "duration": 25,
        "start_time": "2023-02-20T05:13:43.721Z"
      },
      {
        "duration": 27,
        "start_time": "2023-02-20T05:13:53.133Z"
      },
      {
        "duration": 6,
        "start_time": "2023-02-20T05:14:24.531Z"
      },
      {
        "duration": 11,
        "start_time": "2023-02-20T05:14:32.604Z"
      },
      {
        "duration": 17,
        "start_time": "2023-02-20T05:14:35.387Z"
      },
      {
        "duration": 24,
        "start_time": "2023-02-20T05:14:39.387Z"
      },
      {
        "duration": 78,
        "start_time": "2023-02-20T05:15:13.568Z"
      },
      {
        "duration": 40,
        "start_time": "2023-02-20T05:15:22.023Z"
      },
      {
        "duration": 23,
        "start_time": "2023-02-20T05:15:28.243Z"
      },
      {
        "duration": 22,
        "start_time": "2023-02-20T05:16:51.217Z"
      },
      {
        "duration": 27,
        "start_time": "2023-02-20T05:17:45.718Z"
      },
      {
        "duration": 5,
        "start_time": "2023-02-20T05:20:31.046Z"
      },
      {
        "duration": 13,
        "start_time": "2023-02-20T05:21:11.239Z"
      },
      {
        "duration": 369,
        "start_time": "2023-02-20T05:21:32.221Z"
      },
      {
        "duration": 46,
        "start_time": "2023-02-20T05:21:32.593Z"
      },
      {
        "duration": 13,
        "start_time": "2023-02-20T05:21:32.641Z"
      },
      {
        "duration": 22,
        "start_time": "2023-02-20T05:21:32.656Z"
      },
      {
        "duration": 3,
        "start_time": "2023-02-20T05:21:32.680Z"
      },
      {
        "duration": 18,
        "start_time": "2023-02-20T05:21:32.685Z"
      },
      {
        "duration": 7,
        "start_time": "2023-02-20T05:21:32.705Z"
      },
      {
        "duration": 8,
        "start_time": "2023-02-20T05:21:32.713Z"
      },
      {
        "duration": 46,
        "start_time": "2023-02-20T05:21:32.722Z"
      },
      {
        "duration": 12,
        "start_time": "2023-02-20T05:21:32.772Z"
      },
      {
        "duration": 31,
        "start_time": "2023-02-20T05:21:32.786Z"
      },
      {
        "duration": 12,
        "start_time": "2023-02-20T05:21:32.819Z"
      },
      {
        "duration": 8,
        "start_time": "2023-02-20T05:21:32.833Z"
      },
      {
        "duration": 12,
        "start_time": "2023-02-20T05:21:32.842Z"
      },
      {
        "duration": 5,
        "start_time": "2023-02-20T05:21:32.856Z"
      },
      {
        "duration": 49,
        "start_time": "2023-02-20T05:21:32.862Z"
      },
      {
        "duration": 0,
        "start_time": "2023-02-20T05:21:32.913Z"
      },
      {
        "duration": 0,
        "start_time": "2023-02-20T05:21:32.914Z"
      },
      {
        "duration": 0,
        "start_time": "2023-02-20T05:21:32.915Z"
      },
      {
        "duration": 0,
        "start_time": "2023-02-20T05:21:32.916Z"
      },
      {
        "duration": 0,
        "start_time": "2023-02-20T05:21:32.917Z"
      },
      {
        "duration": 0,
        "start_time": "2023-02-20T05:21:32.919Z"
      },
      {
        "duration": 0,
        "start_time": "2023-02-20T05:21:32.920Z"
      },
      {
        "duration": 0,
        "start_time": "2023-02-20T05:21:32.921Z"
      },
      {
        "duration": 0,
        "start_time": "2023-02-20T05:21:32.922Z"
      },
      {
        "duration": 0,
        "start_time": "2023-02-20T05:21:32.922Z"
      },
      {
        "duration": 0,
        "start_time": "2023-02-20T05:21:32.923Z"
      },
      {
        "duration": 0,
        "start_time": "2023-02-20T05:21:32.924Z"
      },
      {
        "duration": 0,
        "start_time": "2023-02-20T05:21:32.924Z"
      },
      {
        "duration": 0,
        "start_time": "2023-02-20T05:21:32.925Z"
      },
      {
        "duration": 0,
        "start_time": "2023-02-20T05:21:32.926Z"
      },
      {
        "duration": 16,
        "start_time": "2023-02-20T05:22:51.006Z"
      },
      {
        "duration": 2,
        "start_time": "2023-02-20T05:23:02.618Z"
      },
      {
        "duration": 37,
        "start_time": "2023-02-20T05:23:02.951Z"
      },
      {
        "duration": 11,
        "start_time": "2023-02-20T05:23:03.738Z"
      },
      {
        "duration": 16,
        "start_time": "2023-02-20T05:23:05.146Z"
      },
      {
        "duration": 5,
        "start_time": "2023-02-20T05:23:08.933Z"
      },
      {
        "duration": 10,
        "start_time": "2023-02-20T05:23:09.169Z"
      },
      {
        "duration": 8,
        "start_time": "2023-02-20T05:23:10.090Z"
      },
      {
        "duration": 8,
        "start_time": "2023-02-20T05:23:12.104Z"
      },
      {
        "duration": 48,
        "start_time": "2023-02-20T05:23:16.263Z"
      },
      {
        "duration": 18,
        "start_time": "2023-02-20T05:23:16.692Z"
      },
      {
        "duration": 3,
        "start_time": "2023-02-20T05:23:20.006Z"
      },
      {
        "duration": 4,
        "start_time": "2023-02-20T05:23:24.527Z"
      },
      {
        "duration": 5,
        "start_time": "2023-02-20T05:23:26.053Z"
      },
      {
        "duration": 21,
        "start_time": "2023-02-20T05:23:26.799Z"
      },
      {
        "duration": 5,
        "start_time": "2023-02-20T05:24:10.183Z"
      },
      {
        "duration": 40,
        "start_time": "2023-02-20T05:24:36.769Z"
      },
      {
        "duration": 13,
        "start_time": "2023-02-20T05:24:37.915Z"
      },
      {
        "duration": 14,
        "start_time": "2023-02-20T05:24:39.485Z"
      },
      {
        "duration": 4,
        "start_time": "2023-02-20T05:24:43.391Z"
      },
      {
        "duration": 10,
        "start_time": "2023-02-20T05:24:43.731Z"
      },
      {
        "duration": 7,
        "start_time": "2023-02-20T05:24:46.262Z"
      },
      {
        "duration": 4,
        "start_time": "2023-02-20T05:24:49.466Z"
      },
      {
        "duration": 8,
        "start_time": "2023-02-20T05:24:52.462Z"
      },
      {
        "duration": 5,
        "start_time": "2023-02-20T05:24:56.337Z"
      },
      {
        "duration": 41,
        "start_time": "2023-02-20T05:24:59.690Z"
      },
      {
        "duration": 15,
        "start_time": "2023-02-20T05:25:04.504Z"
      },
      {
        "duration": 2,
        "start_time": "2023-02-20T05:25:06.631Z"
      },
      {
        "duration": 5,
        "start_time": "2023-02-20T05:25:07.494Z"
      },
      {
        "duration": 4,
        "start_time": "2023-02-20T05:25:09.888Z"
      },
      {
        "duration": 3,
        "start_time": "2023-02-20T05:25:11.979Z"
      },
      {
        "duration": 5,
        "start_time": "2023-02-20T05:25:12.709Z"
      },
      {
        "duration": 6,
        "start_time": "2023-02-20T05:27:17.267Z"
      },
      {
        "duration": 7,
        "start_time": "2023-02-20T05:27:28.625Z"
      },
      {
        "duration": 2,
        "start_time": "2023-02-20T05:28:25.183Z"
      },
      {
        "duration": 6,
        "start_time": "2023-02-20T05:28:26.046Z"
      },
      {
        "duration": 61,
        "start_time": "2023-02-20T05:28:36.050Z"
      },
      {
        "duration": 13,
        "start_time": "2023-02-20T05:28:36.684Z"
      },
      {
        "duration": 15,
        "start_time": "2023-02-20T05:28:37.009Z"
      },
      {
        "duration": 5,
        "start_time": "2023-02-20T05:28:39.763Z"
      },
      {
        "duration": 13,
        "start_time": "2023-02-20T05:28:40.059Z"
      },
      {
        "duration": 6,
        "start_time": "2023-02-20T05:28:42.254Z"
      },
      {
        "duration": 38,
        "start_time": "2023-02-20T05:28:44.043Z"
      },
      {
        "duration": 12,
        "start_time": "2023-02-20T05:28:44.452Z"
      },
      {
        "duration": 3,
        "start_time": "2023-02-20T05:28:46.941Z"
      },
      {
        "duration": 5,
        "start_time": "2023-02-20T05:28:47.143Z"
      },
      {
        "duration": 5,
        "start_time": "2023-02-20T05:29:09.750Z"
      },
      {
        "duration": 4,
        "start_time": "2023-02-20T05:29:11.073Z"
      },
      {
        "duration": 4,
        "start_time": "2023-02-20T05:29:19.381Z"
      },
      {
        "duration": 5,
        "start_time": "2023-02-20T05:29:20.017Z"
      },
      {
        "duration": 5,
        "start_time": "2023-02-20T05:29:20.501Z"
      },
      {
        "duration": 5,
        "start_time": "2023-02-20T05:30:11.461Z"
      },
      {
        "duration": 47,
        "start_time": "2023-02-20T05:33:26.680Z"
      },
      {
        "duration": 13,
        "start_time": "2023-02-20T05:33:27.245Z"
      },
      {
        "duration": 16,
        "start_time": "2023-02-20T05:33:27.653Z"
      },
      {
        "duration": 4,
        "start_time": "2023-02-20T05:33:31.064Z"
      },
      {
        "duration": 10,
        "start_time": "2023-02-20T05:33:31.463Z"
      },
      {
        "duration": 7,
        "start_time": "2023-02-20T05:33:33.536Z"
      },
      {
        "duration": 50,
        "start_time": "2023-02-20T05:33:35.088Z"
      },
      {
        "duration": 15,
        "start_time": "2023-02-20T05:33:36.439Z"
      },
      {
        "duration": 4,
        "start_time": "2023-02-20T05:33:40.686Z"
      },
      {
        "duration": 5,
        "start_time": "2023-02-20T05:33:49.016Z"
      },
      {
        "duration": 38,
        "start_time": "2023-02-20T05:34:16.482Z"
      },
      {
        "duration": 8,
        "start_time": "2023-02-20T05:34:30.521Z"
      },
      {
        "duration": 8,
        "start_time": "2023-02-20T05:34:48.844Z"
      },
      {
        "duration": 15,
        "start_time": "2023-02-20T05:35:48.172Z"
      },
      {
        "duration": 2824,
        "start_time": "2023-02-20T05:41:19.941Z"
      },
      {
        "duration": 1197,
        "start_time": "2023-02-20T05:41:38.654Z"
      },
      {
        "duration": 14,
        "start_time": "2023-02-20T05:47:06.056Z"
      },
      {
        "duration": 125,
        "start_time": "2023-02-20T05:47:24.625Z"
      },
      {
        "duration": 13,
        "start_time": "2023-02-20T05:47:34.841Z"
      },
      {
        "duration": 13,
        "start_time": "2023-02-20T05:48:03.645Z"
      },
      {
        "duration": 5,
        "start_time": "2023-02-20T05:48:32.136Z"
      },
      {
        "duration": 6,
        "start_time": "2023-02-20T05:50:53.135Z"
      },
      {
        "duration": 9,
        "start_time": "2023-02-20T06:12:50.692Z"
      },
      {
        "duration": 2,
        "start_time": "2023-02-20T06:30:04.090Z"
      },
      {
        "duration": 11,
        "start_time": "2023-02-20T06:30:04.306Z"
      },
      {
        "duration": 11,
        "start_time": "2023-02-20T06:30:16.114Z"
      },
      {
        "duration": 9,
        "start_time": "2023-02-20T06:30:23.471Z"
      },
      {
        "duration": 12,
        "start_time": "2023-02-20T06:30:27.746Z"
      },
      {
        "duration": 19,
        "start_time": "2023-02-20T06:30:43.718Z"
      },
      {
        "duration": 4,
        "start_time": "2023-02-20T06:30:47.181Z"
      },
      {
        "duration": 15,
        "start_time": "2023-02-20T06:30:56.951Z"
      },
      {
        "duration": 14,
        "start_time": "2023-02-20T06:31:32.886Z"
      },
      {
        "duration": 21,
        "start_time": "2023-02-20T06:31:37.850Z"
      },
      {
        "duration": 10,
        "start_time": "2023-02-20T06:31:38.352Z"
      },
      {
        "duration": 10,
        "start_time": "2023-02-20T06:31:52.035Z"
      },
      {
        "duration": 9,
        "start_time": "2023-02-20T06:31:54.969Z"
      },
      {
        "duration": 9,
        "start_time": "2023-02-20T06:32:50.633Z"
      },
      {
        "duration": 9,
        "start_time": "2023-02-20T06:32:53.778Z"
      },
      {
        "duration": 27,
        "start_time": "2023-02-20T06:32:55.793Z"
      },
      {
        "duration": 8,
        "start_time": "2023-02-20T06:32:55.974Z"
      },
      {
        "duration": 9,
        "start_time": "2023-02-20T06:33:40.168Z"
      },
      {
        "duration": 12,
        "start_time": "2023-02-20T06:33:51.311Z"
      },
      {
        "duration": 3,
        "start_time": "2023-02-20T06:34:20.608Z"
      },
      {
        "duration": 3,
        "start_time": "2023-02-20T06:34:22.770Z"
      },
      {
        "duration": 11,
        "start_time": "2023-02-20T06:34:28.682Z"
      },
      {
        "duration": 27,
        "start_time": "2023-02-20T06:34:52.685Z"
      },
      {
        "duration": 12,
        "start_time": "2023-02-20T06:34:53.240Z"
      },
      {
        "duration": 14,
        "start_time": "2023-02-20T06:35:03.449Z"
      },
      {
        "duration": 3,
        "start_time": "2023-02-20T06:45:01.725Z"
      },
      {
        "duration": 14,
        "start_time": "2023-02-20T06:45:02.322Z"
      },
      {
        "duration": 11,
        "start_time": "2023-02-20T06:45:19.583Z"
      },
      {
        "duration": 10,
        "start_time": "2023-02-20T06:45:21.722Z"
      },
      {
        "duration": 2,
        "start_time": "2023-02-20T06:56:40.688Z"
      },
      {
        "duration": 19,
        "start_time": "2023-02-20T06:56:40.825Z"
      },
      {
        "duration": 8,
        "start_time": "2023-02-20T06:56:52.621Z"
      },
      {
        "duration": 11,
        "start_time": "2023-02-20T06:57:11.641Z"
      },
      {
        "duration": 57,
        "start_time": "2023-02-20T06:57:17.316Z"
      },
      {
        "duration": 4,
        "start_time": "2023-02-20T07:08:55.481Z"
      },
      {
        "duration": 11,
        "start_time": "2023-02-20T07:09:03.557Z"
      },
      {
        "duration": 12,
        "start_time": "2023-02-20T07:09:48.799Z"
      },
      {
        "duration": 2,
        "start_time": "2023-02-20T07:09:57.470Z"
      },
      {
        "duration": 12,
        "start_time": "2023-02-20T07:10:23.830Z"
      },
      {
        "duration": 10,
        "start_time": "2023-02-20T07:11:04.110Z"
      },
      {
        "duration": 15,
        "start_time": "2023-02-20T07:11:10.727Z"
      },
      {
        "duration": 17,
        "start_time": "2023-02-20T07:12:26.409Z"
      },
      {
        "duration": 13,
        "start_time": "2023-02-20T07:12:38.245Z"
      },
      {
        "duration": 4,
        "start_time": "2023-02-20T07:13:30.805Z"
      },
      {
        "duration": 13,
        "start_time": "2023-02-20T07:13:32.656Z"
      },
      {
        "duration": 2,
        "start_time": "2023-02-20T07:15:49.344Z"
      },
      {
        "duration": 9,
        "start_time": "2023-02-20T07:15:56.625Z"
      },
      {
        "duration": 9,
        "start_time": "2023-02-20T07:16:02.159Z"
      },
      {
        "duration": 4,
        "start_time": "2023-02-20T07:16:11.167Z"
      },
      {
        "duration": 10,
        "start_time": "2023-02-20T07:17:47.028Z"
      },
      {
        "duration": 13,
        "start_time": "2023-02-20T07:17:59.686Z"
      },
      {
        "duration": 10,
        "start_time": "2023-02-20T07:18:03.261Z"
      },
      {
        "duration": 13,
        "start_time": "2023-02-20T07:18:10.088Z"
      },
      {
        "duration": 3,
        "start_time": "2023-02-20T07:18:14.638Z"
      },
      {
        "duration": 14,
        "start_time": "2023-02-20T07:18:16.422Z"
      },
      {
        "duration": 2,
        "start_time": "2023-02-20T07:22:14.954Z"
      },
      {
        "duration": 23,
        "start_time": "2023-02-20T07:22:15.186Z"
      },
      {
        "duration": 28,
        "start_time": "2023-02-20T07:22:16.107Z"
      },
      {
        "duration": 37,
        "start_time": "2023-02-20T07:22:43.349Z"
      },
      {
        "duration": 48,
        "start_time": "2023-02-20T07:23:01.706Z"
      },
      {
        "duration": 32,
        "start_time": "2023-02-20T07:23:13.021Z"
      },
      {
        "duration": 52,
        "start_time": "2023-02-20T07:25:25.024Z"
      },
      {
        "duration": 22,
        "start_time": "2023-02-20T07:25:33.431Z"
      },
      {
        "duration": 508,
        "start_time": "2023-02-20T07:26:20.028Z"
      },
      {
        "duration": 7,
        "start_time": "2023-02-20T07:29:36.735Z"
      },
      {
        "duration": 10,
        "start_time": "2023-02-20T07:29:52.304Z"
      },
      {
        "duration": 17,
        "start_time": "2023-02-20T07:34:34.305Z"
      },
      {
        "duration": 5,
        "start_time": "2023-02-20T07:34:39.147Z"
      },
      {
        "duration": 2,
        "start_time": "2023-02-20T07:35:38.259Z"
      },
      {
        "duration": 3,
        "start_time": "2023-02-20T07:42:18.553Z"
      },
      {
        "duration": 3,
        "start_time": "2023-02-20T07:42:18.907Z"
      },
      {
        "duration": 9,
        "start_time": "2023-02-20T07:42:20.540Z"
      },
      {
        "duration": 390,
        "start_time": "2023-02-20T07:42:21.680Z"
      },
      {
        "duration": 3,
        "start_time": "2023-02-20T07:42:39.981Z"
      },
      {
        "duration": 390,
        "start_time": "2023-02-20T07:42:41.686Z"
      },
      {
        "duration": 465,
        "start_time": "2023-02-20T07:43:24.304Z"
      },
      {
        "duration": 11,
        "start_time": "2023-02-20T07:43:33.647Z"
      },
      {
        "duration": 2,
        "start_time": "2023-02-20T07:43:54.752Z"
      },
      {
        "duration": 401,
        "start_time": "2023-02-20T07:43:55.147Z"
      },
      {
        "duration": 12,
        "start_time": "2023-02-20T07:43:56.155Z"
      },
      {
        "duration": 2,
        "start_time": "2023-02-20T07:49:35.966Z"
      },
      {
        "duration": 29,
        "start_time": "2023-02-20T07:49:39.521Z"
      },
      {
        "duration": 15,
        "start_time": "2023-02-20T08:04:14.467Z"
      },
      {
        "duration": 11,
        "start_time": "2023-02-20T08:07:27.172Z"
      },
      {
        "duration": 15,
        "start_time": "2023-02-20T08:08:11.365Z"
      },
      {
        "duration": 28,
        "start_time": "2023-02-20T08:08:19.430Z"
      },
      {
        "duration": 11,
        "start_time": "2023-02-20T08:27:20.054Z"
      },
      {
        "duration": 21,
        "start_time": "2023-02-20T08:27:26.480Z"
      },
      {
        "duration": 12,
        "start_time": "2023-02-20T08:27:50.474Z"
      },
      {
        "duration": 2383,
        "start_time": "2023-02-20T09:26:03.308Z"
      },
      {
        "duration": 0,
        "start_time": "2023-02-20T09:26:05.693Z"
      },
      {
        "duration": 14,
        "start_time": "2023-02-20T09:26:35.165Z"
      },
      {
        "duration": 22,
        "start_time": "2023-02-20T09:26:39.055Z"
      },
      {
        "duration": 31,
        "start_time": "2023-02-20T09:26:45.872Z"
      },
      {
        "duration": 16,
        "start_time": "2023-02-20T09:27:49.171Z"
      },
      {
        "duration": 30,
        "start_time": "2023-02-20T09:27:55.881Z"
      },
      {
        "duration": 79,
        "start_time": "2023-02-20T09:28:07.104Z"
      },
      {
        "duration": 15,
        "start_time": "2023-02-20T09:28:27.962Z"
      },
      {
        "duration": 20,
        "start_time": "2023-02-20T09:28:33.919Z"
      },
      {
        "duration": 11,
        "start_time": "2023-02-20T09:30:39.353Z"
      },
      {
        "duration": 257,
        "start_time": "2023-02-20T09:31:05.090Z"
      },
      {
        "duration": 272,
        "start_time": "2023-02-20T09:31:35.691Z"
      },
      {
        "duration": 258,
        "start_time": "2023-02-20T09:31:50.864Z"
      },
      {
        "duration": 265,
        "start_time": "2023-02-20T09:31:54.777Z"
      },
      {
        "duration": 50,
        "start_time": "2023-02-20T09:32:07.064Z"
      },
      {
        "duration": 376,
        "start_time": "2023-02-20T09:32:32.617Z"
      },
      {
        "duration": 541,
        "start_time": "2023-02-20T09:33:26.869Z"
      },
      {
        "duration": 10,
        "start_time": "2023-02-20T09:37:16.636Z"
      },
      {
        "duration": 11,
        "start_time": "2023-02-20T09:40:47.560Z"
      },
      {
        "duration": 10,
        "start_time": "2023-02-20T09:40:50.880Z"
      },
      {
        "duration": 11,
        "start_time": "2023-02-20T09:40:51.365Z"
      },
      {
        "duration": 3,
        "start_time": "2023-02-20T09:42:00.333Z"
      },
      {
        "duration": 11,
        "start_time": "2023-02-20T09:45:14.676Z"
      },
      {
        "duration": 3,
        "start_time": "2023-02-20T09:45:49.992Z"
      },
      {
        "duration": 2,
        "start_time": "2023-02-20T09:45:51.285Z"
      },
      {
        "duration": 10,
        "start_time": "2023-02-20T09:46:25.032Z"
      },
      {
        "duration": 7,
        "start_time": "2023-02-20T09:47:46.378Z"
      },
      {
        "duration": 16,
        "start_time": "2023-02-20T09:47:47.677Z"
      },
      {
        "duration": 15,
        "start_time": "2023-02-20T09:49:52.366Z"
      },
      {
        "duration": 14,
        "start_time": "2023-02-20T09:50:00.203Z"
      },
      {
        "duration": 398,
        "start_time": "2023-02-20T09:50:48.114Z"
      },
      {
        "duration": 40,
        "start_time": "2023-02-20T09:50:48.515Z"
      },
      {
        "duration": 17,
        "start_time": "2023-02-20T09:50:48.558Z"
      },
      {
        "duration": 43,
        "start_time": "2023-02-20T09:50:48.576Z"
      },
      {
        "duration": 4,
        "start_time": "2023-02-20T09:50:48.622Z"
      },
      {
        "duration": 11,
        "start_time": "2023-02-20T09:50:48.627Z"
      },
      {
        "duration": 13,
        "start_time": "2023-02-20T09:50:48.640Z"
      },
      {
        "duration": 96,
        "start_time": "2023-02-20T09:50:48.655Z"
      },
      {
        "duration": 13,
        "start_time": "2023-02-20T09:50:48.753Z"
      },
      {
        "duration": 20,
        "start_time": "2023-02-20T09:50:48.768Z"
      },
      {
        "duration": 26,
        "start_time": "2023-02-20T09:50:48.790Z"
      },
      {
        "duration": 83,
        "start_time": "2023-02-20T09:50:48.818Z"
      },
      {
        "duration": 0,
        "start_time": "2023-02-20T09:50:48.905Z"
      },
      {
        "duration": 0,
        "start_time": "2023-02-20T09:50:48.910Z"
      },
      {
        "duration": 0,
        "start_time": "2023-02-20T09:50:48.911Z"
      },
      {
        "duration": 0,
        "start_time": "2023-02-20T09:50:48.913Z"
      },
      {
        "duration": 0,
        "start_time": "2023-02-20T09:50:48.914Z"
      },
      {
        "duration": 0,
        "start_time": "2023-02-20T09:50:48.915Z"
      },
      {
        "duration": 0,
        "start_time": "2023-02-20T09:50:48.917Z"
      },
      {
        "duration": 0,
        "start_time": "2023-02-20T09:50:48.918Z"
      },
      {
        "duration": 0,
        "start_time": "2023-02-20T09:50:48.919Z"
      },
      {
        "duration": 0,
        "start_time": "2023-02-20T09:50:48.920Z"
      },
      {
        "duration": 0,
        "start_time": "2023-02-20T09:50:48.922Z"
      },
      {
        "duration": 0,
        "start_time": "2023-02-20T09:50:48.924Z"
      },
      {
        "duration": 0,
        "start_time": "2023-02-20T09:50:48.926Z"
      },
      {
        "duration": 0,
        "start_time": "2023-02-20T09:50:48.928Z"
      },
      {
        "duration": 0,
        "start_time": "2023-02-20T09:50:48.929Z"
      },
      {
        "duration": 0,
        "start_time": "2023-02-20T09:50:48.931Z"
      },
      {
        "duration": 0,
        "start_time": "2023-02-20T09:50:48.933Z"
      },
      {
        "duration": 0,
        "start_time": "2023-02-20T09:50:48.935Z"
      },
      {
        "duration": 0,
        "start_time": "2023-02-20T09:50:48.936Z"
      },
      {
        "duration": 0,
        "start_time": "2023-02-20T09:50:48.937Z"
      },
      {
        "duration": 0,
        "start_time": "2023-02-20T09:50:48.940Z"
      },
      {
        "duration": 0,
        "start_time": "2023-02-20T09:50:48.941Z"
      },
      {
        "duration": 0,
        "start_time": "2023-02-20T09:50:48.942Z"
      },
      {
        "duration": 0,
        "start_time": "2023-02-20T09:50:48.943Z"
      },
      {
        "duration": 0,
        "start_time": "2023-02-20T09:50:48.945Z"
      },
      {
        "duration": 0,
        "start_time": "2023-02-20T09:50:48.946Z"
      },
      {
        "duration": 0,
        "start_time": "2023-02-20T09:50:48.948Z"
      },
      {
        "duration": 0,
        "start_time": "2023-02-20T09:50:48.992Z"
      },
      {
        "duration": 0,
        "start_time": "2023-02-20T09:50:48.994Z"
      },
      {
        "duration": 0,
        "start_time": "2023-02-20T09:50:48.995Z"
      },
      {
        "duration": 0,
        "start_time": "2023-02-20T09:50:49.002Z"
      },
      {
        "duration": 0,
        "start_time": "2023-02-20T09:50:49.003Z"
      },
      {
        "duration": 0,
        "start_time": "2023-02-20T09:50:49.004Z"
      },
      {
        "duration": 0,
        "start_time": "2023-02-20T09:50:49.005Z"
      },
      {
        "duration": 0,
        "start_time": "2023-02-20T09:50:49.006Z"
      },
      {
        "duration": 0,
        "start_time": "2023-02-20T09:50:49.007Z"
      },
      {
        "duration": 0,
        "start_time": "2023-02-20T09:50:49.008Z"
      },
      {
        "duration": 0,
        "start_time": "2023-02-20T09:50:49.009Z"
      },
      {
        "duration": 0,
        "start_time": "2023-02-20T09:50:49.009Z"
      },
      {
        "duration": 1,
        "start_time": "2023-02-20T09:50:49.010Z"
      },
      {
        "duration": 0,
        "start_time": "2023-02-20T09:50:49.012Z"
      },
      {
        "duration": 0,
        "start_time": "2023-02-20T09:50:49.013Z"
      },
      {
        "duration": 11,
        "start_time": "2023-02-20T09:50:58.581Z"
      },
      {
        "duration": 12,
        "start_time": "2023-02-20T09:50:58.966Z"
      },
      {
        "duration": 2099,
        "start_time": "2023-02-20T09:51:02.478Z"
      },
      {
        "duration": 1085,
        "start_time": "2023-02-20T09:51:10.864Z"
      },
      {
        "duration": 12,
        "start_time": "2023-02-20T09:51:14.005Z"
      },
      {
        "duration": 7,
        "start_time": "2023-02-20T09:51:16.989Z"
      },
      {
        "duration": 3,
        "start_time": "2023-02-20T09:51:19.323Z"
      },
      {
        "duration": 3,
        "start_time": "2023-02-20T09:51:21.963Z"
      },
      {
        "duration": 8,
        "start_time": "2023-02-20T09:51:23.272Z"
      },
      {
        "duration": 16,
        "start_time": "2023-02-20T09:51:24.663Z"
      },
      {
        "duration": 17,
        "start_time": "2023-02-20T09:51:25.988Z"
      },
      {
        "duration": 10,
        "start_time": "2023-02-20T09:51:47.514Z"
      },
      {
        "duration": 6,
        "start_time": "2023-02-20T09:51:48.259Z"
      },
      {
        "duration": 3,
        "start_time": "2023-02-20T09:51:49.289Z"
      },
      {
        "duration": 3,
        "start_time": "2023-02-20T09:51:50.430Z"
      },
      {
        "duration": 9,
        "start_time": "2023-02-20T09:51:50.903Z"
      },
      {
        "duration": 18,
        "start_time": "2023-02-20T09:51:51.879Z"
      },
      {
        "duration": 12,
        "start_time": "2023-02-20T09:51:52.469Z"
      },
      {
        "duration": 5,
        "start_time": "2023-02-20T10:26:41.653Z"
      },
      {
        "duration": 105,
        "start_time": "2023-02-20T10:28:22.304Z"
      },
      {
        "duration": 8,
        "start_time": "2023-02-20T10:28:36.381Z"
      },
      {
        "duration": 2,
        "start_time": "2023-02-20T10:35:27.420Z"
      },
      {
        "duration": 368,
        "start_time": "2023-02-20T10:37:14.650Z"
      },
      {
        "duration": 75,
        "start_time": "2023-02-20T10:40:32.295Z"
      },
      {
        "duration": 12,
        "start_time": "2023-02-20T10:40:42.340Z"
      },
      {
        "duration": 3,
        "start_time": "2023-02-20T10:43:06.465Z"
      },
      {
        "duration": 15,
        "start_time": "2023-02-20T10:43:06.874Z"
      },
      {
        "duration": 3,
        "start_time": "2023-02-20T10:43:30.126Z"
      },
      {
        "duration": 12,
        "start_time": "2023-02-20T10:43:30.810Z"
      },
      {
        "duration": 2,
        "start_time": "2023-02-20T10:43:45.261Z"
      },
      {
        "duration": 22,
        "start_time": "2023-02-20T10:43:51.693Z"
      },
      {
        "duration": 13,
        "start_time": "2023-02-20T10:44:14.093Z"
      },
      {
        "duration": 29,
        "start_time": "2023-02-20T10:44:45.545Z"
      },
      {
        "duration": 22,
        "start_time": "2023-02-20T10:45:20.064Z"
      },
      {
        "duration": 25,
        "start_time": "2023-02-20T10:45:26.196Z"
      },
      {
        "duration": 30698,
        "start_time": "2023-02-20T10:45:33.580Z"
      },
      {
        "duration": 362,
        "start_time": "2023-02-20T10:48:58.156Z"
      },
      {
        "duration": 18,
        "start_time": "2023-02-20T10:50:02.513Z"
      },
      {
        "duration": 38016,
        "start_time": "2023-02-20T10:50:12.952Z"
      },
      {
        "duration": 38024,
        "start_time": "2023-02-20T10:51:32.481Z"
      },
      {
        "duration": 38779,
        "start_time": "2023-02-20T10:52:28.696Z"
      },
      {
        "duration": 403,
        "start_time": "2023-02-20T10:57:32.549Z"
      },
      {
        "duration": 383,
        "start_time": "2023-02-20T10:58:12.361Z"
      },
      {
        "duration": 419,
        "start_time": "2023-02-20T10:58:35.566Z"
      },
      {
        "duration": 355,
        "start_time": "2023-02-20T10:58:52.355Z"
      },
      {
        "duration": 357,
        "start_time": "2023-02-20T10:58:58.165Z"
      },
      {
        "duration": 373,
        "start_time": "2023-02-20T10:58:59.984Z"
      },
      {
        "duration": 38357,
        "start_time": "2023-02-20T10:59:52.816Z"
      },
      {
        "duration": 42789,
        "start_time": "2023-02-20T11:04:48.035Z"
      },
      {
        "duration": 20,
        "start_time": "2023-02-20T11:09:34.538Z"
      },
      {
        "duration": 3522,
        "start_time": "2023-02-20T11:11:29.276Z"
      },
      {
        "duration": 4,
        "start_time": "2023-02-20T11:11:40.557Z"
      },
      {
        "duration": 474,
        "start_time": "2023-02-20T11:12:08.182Z"
      },
      {
        "duration": 435,
        "start_time": "2023-02-20T11:12:29.725Z"
      },
      {
        "duration": 546,
        "start_time": "2023-02-20T11:12:51.717Z"
      },
      {
        "duration": 4,
        "start_time": "2023-02-20T11:12:53.206Z"
      },
      {
        "duration": 13,
        "start_time": "2023-02-20T11:18:33.601Z"
      },
      {
        "duration": 3327,
        "start_time": "2023-02-20T11:18:47.957Z"
      },
      {
        "duration": 4,
        "start_time": "2023-02-20T11:18:55.463Z"
      },
      {
        "duration": 447,
        "start_time": "2023-02-20T11:19:12.722Z"
      },
      {
        "duration": 398,
        "start_time": "2023-02-20T11:19:18.307Z"
      },
      {
        "duration": 3672,
        "start_time": "2023-02-20T11:19:22.380Z"
      },
      {
        "duration": 4,
        "start_time": "2023-02-20T11:19:28.429Z"
      },
      {
        "duration": 3144,
        "start_time": "2023-02-20T11:21:37.070Z"
      },
      {
        "duration": 4,
        "start_time": "2023-02-20T11:21:40.216Z"
      },
      {
        "duration": 453,
        "start_time": "2023-02-20T11:23:54.815Z"
      },
      {
        "duration": 405,
        "start_time": "2023-02-20T11:24:08.954Z"
      },
      {
        "duration": 466,
        "start_time": "2023-02-20T11:34:35.023Z"
      },
      {
        "duration": 9446,
        "start_time": "2023-02-20T11:36:09.451Z"
      },
      {
        "duration": 4,
        "start_time": "2023-02-20T11:36:20.481Z"
      },
      {
        "duration": 9459,
        "start_time": "2023-02-20T11:41:45.354Z"
      },
      {
        "duration": 9662,
        "start_time": "2023-02-20T11:46:18.908Z"
      },
      {
        "duration": 5,
        "start_time": "2023-02-20T11:46:30.390Z"
      },
      {
        "duration": 9300,
        "start_time": "2023-02-20T11:46:44.957Z"
      },
      {
        "duration": 3,
        "start_time": "2023-02-20T11:46:57.642Z"
      },
      {
        "duration": 61,
        "start_time": "2023-02-20T11:48:08.464Z"
      },
      {
        "duration": 1301,
        "start_time": "2023-02-20T11:48:13.643Z"
      },
      {
        "duration": 4,
        "start_time": "2023-02-20T11:48:17.246Z"
      },
      {
        "duration": 1037,
        "start_time": "2023-02-20T11:48:23.450Z"
      },
      {
        "duration": 3,
        "start_time": "2023-02-20T11:48:25.783Z"
      },
      {
        "duration": 9429,
        "start_time": "2023-02-20T11:48:29.578Z"
      },
      {
        "duration": 4,
        "start_time": "2023-02-20T11:48:39.009Z"
      },
      {
        "duration": 4988,
        "start_time": "2023-02-20T11:48:53.497Z"
      },
      {
        "duration": 9285,
        "start_time": "2023-02-20T11:49:04.955Z"
      },
      {
        "duration": 163,
        "start_time": "2023-02-20T12:02:36.084Z"
      },
      {
        "duration": 38613,
        "start_time": "2023-02-20T12:02:46.858Z"
      },
      {
        "duration": 39624,
        "start_time": "2023-02-20T12:03:51.475Z"
      },
      {
        "duration": 386,
        "start_time": "2023-02-20T12:13:12.153Z"
      },
      {
        "duration": 39226,
        "start_time": "2023-02-20T12:13:47.417Z"
      },
      {
        "duration": 19,
        "start_time": "2023-02-20T12:14:38.414Z"
      },
      {
        "duration": 388,
        "start_time": "2023-02-20T12:14:46.914Z"
      },
      {
        "duration": 53229,
        "start_time": "2023-02-20T12:14:58.408Z"
      },
      {
        "duration": 12,
        "start_time": "2023-02-20T12:28:06.464Z"
      },
      {
        "duration": 8992,
        "start_time": "2023-02-20T12:28:12.737Z"
      },
      {
        "duration": 4,
        "start_time": "2023-02-20T12:28:35.235Z"
      },
      {
        "duration": 9243,
        "start_time": "2023-02-20T12:29:28.872Z"
      },
      {
        "duration": 9007,
        "start_time": "2023-02-20T12:29:44.842Z"
      },
      {
        "duration": 4,
        "start_time": "2023-02-20T12:29:55.922Z"
      },
      {
        "duration": 9514,
        "start_time": "2023-02-20T12:40:35.320Z"
      },
      {
        "duration": 3,
        "start_time": "2023-02-20T12:40:51.769Z"
      },
      {
        "duration": 4,
        "start_time": "2023-02-20T12:41:09.783Z"
      },
      {
        "duration": 8900,
        "start_time": "2023-02-20T12:41:30.762Z"
      },
      {
        "duration": 4,
        "start_time": "2023-02-20T12:41:39.664Z"
      },
      {
        "duration": 23,
        "start_time": "2023-02-20T12:43:56.123Z"
      },
      {
        "duration": 10260,
        "start_time": "2023-02-20T12:43:57.578Z"
      },
      {
        "duration": 35,
        "start_time": "2023-02-20T12:44:16.965Z"
      },
      {
        "duration": 14,
        "start_time": "2023-02-20T12:44:20.552Z"
      },
      {
        "duration": 13,
        "start_time": "2023-02-20T12:44:24.343Z"
      },
      {
        "duration": 2612,
        "start_time": "2023-02-20T12:45:31.157Z"
      },
      {
        "duration": 2176,
        "start_time": "2023-02-20T12:45:39.617Z"
      },
      {
        "duration": 20,
        "start_time": "2023-02-20T12:45:46.414Z"
      },
      {
        "duration": 2135,
        "start_time": "2023-02-20T12:47:33.909Z"
      },
      {
        "duration": 18,
        "start_time": "2023-02-20T12:47:39.341Z"
      },
      {
        "duration": 4517,
        "start_time": "2023-02-20T13:00:04.531Z"
      },
      {
        "duration": 9,
        "start_time": "2023-02-20T13:09:49.165Z"
      },
      {
        "duration": 10,
        "start_time": "2023-02-20T13:10:01.780Z"
      },
      {
        "duration": 3,
        "start_time": "2023-02-20T13:11:00.056Z"
      },
      {
        "duration": 4335,
        "start_time": "2023-02-20T13:11:00.636Z"
      },
      {
        "duration": 18,
        "start_time": "2023-02-20T13:11:07.592Z"
      },
      {
        "duration": 9309,
        "start_time": "2023-02-20T13:46:39.757Z"
      },
      {
        "duration": 5,
        "start_time": "2023-02-20T13:50:06.560Z"
      },
      {
        "duration": 46,
        "start_time": "2023-02-20T13:50:23.436Z"
      },
      {
        "duration": 10293,
        "start_time": "2023-02-20T13:50:31.310Z"
      },
      {
        "duration": 73,
        "start_time": "2023-02-20T14:11:23.509Z"
      },
      {
        "duration": 9196,
        "start_time": "2023-02-20T14:11:29.527Z"
      },
      {
        "duration": 10494,
        "start_time": "2023-02-20T14:13:26.671Z"
      },
      {
        "duration": 9059,
        "start_time": "2023-02-20T14:13:45.005Z"
      },
      {
        "duration": 18695,
        "start_time": "2023-02-20T14:15:13.227Z"
      },
      {
        "duration": 28295,
        "start_time": "2023-02-20T14:15:45.997Z"
      },
      {
        "duration": 58,
        "start_time": "2023-02-20T14:28:31.821Z"
      },
      {
        "duration": 495,
        "start_time": "2023-02-20T14:28:37.546Z"
      },
      {
        "duration": 887,
        "start_time": "2023-02-20T14:33:04.915Z"
      },
      {
        "duration": 20776,
        "start_time": "2023-02-20T14:33:42.859Z"
      },
      {
        "duration": 19742,
        "start_time": "2023-02-20T14:34:06.362Z"
      },
      {
        "duration": 10211,
        "start_time": "2023-02-20T14:35:30.012Z"
      },
      {
        "duration": 9181,
        "start_time": "2023-02-20T14:36:15.900Z"
      },
      {
        "duration": 3,
        "start_time": "2023-02-20T14:36:57.995Z"
      },
      {
        "duration": 9869,
        "start_time": "2023-02-20T14:38:31.560Z"
      },
      {
        "duration": 10459,
        "start_time": "2023-02-20T14:39:56.495Z"
      },
      {
        "duration": 9,
        "start_time": "2023-02-21T05:29:59.397Z"
      },
      {
        "duration": 44,
        "start_time": "2023-02-21T05:30:01.461Z"
      },
      {
        "duration": 6,
        "start_time": "2023-02-21T05:30:42.878Z"
      },
      {
        "duration": 409,
        "start_time": "2023-02-21T05:30:57.178Z"
      },
      {
        "duration": 170,
        "start_time": "2023-02-21T05:30:57.590Z"
      },
      {
        "duration": 12,
        "start_time": "2023-02-21T05:30:57.762Z"
      },
      {
        "duration": 20,
        "start_time": "2023-02-21T05:30:57.776Z"
      },
      {
        "duration": 4,
        "start_time": "2023-02-21T05:30:57.798Z"
      },
      {
        "duration": 20,
        "start_time": "2023-02-21T05:30:57.804Z"
      },
      {
        "duration": 29,
        "start_time": "2023-02-21T05:30:57.826Z"
      },
      {
        "duration": 85,
        "start_time": "2023-02-21T05:30:57.856Z"
      },
      {
        "duration": 14,
        "start_time": "2023-02-21T05:30:57.943Z"
      },
      {
        "duration": 4,
        "start_time": "2023-02-21T05:30:57.958Z"
      },
      {
        "duration": 7,
        "start_time": "2023-02-21T05:30:57.963Z"
      },
      {
        "duration": 12,
        "start_time": "2023-02-21T05:30:57.971Z"
      },
      {
        "duration": 10,
        "start_time": "2023-02-21T05:30:57.984Z"
      },
      {
        "duration": 3,
        "start_time": "2023-02-21T05:30:57.997Z"
      },
      {
        "duration": 2857,
        "start_time": "2023-02-21T05:30:58.001Z"
      },
      {
        "duration": 1169,
        "start_time": "2023-02-21T05:31:00.859Z"
      },
      {
        "duration": 13,
        "start_time": "2023-02-21T05:31:02.031Z"
      },
      {
        "duration": 9,
        "start_time": "2023-02-21T05:31:02.046Z"
      },
      {
        "duration": 7,
        "start_time": "2023-02-21T05:31:02.056Z"
      },
      {
        "duration": 37,
        "start_time": "2023-02-21T05:31:02.065Z"
      },
      {
        "duration": 13,
        "start_time": "2023-02-21T05:31:02.104Z"
      },
      {
        "duration": 28,
        "start_time": "2023-02-21T05:31:02.119Z"
      },
      {
        "duration": 12,
        "start_time": "2023-02-21T05:31:02.148Z"
      },
      {
        "duration": 80,
        "start_time": "2023-02-21T05:31:02.161Z"
      },
      {
        "duration": 0,
        "start_time": "2023-02-21T05:31:02.243Z"
      },
      {
        "duration": 0,
        "start_time": "2023-02-21T05:31:02.245Z"
      },
      {
        "duration": 0,
        "start_time": "2023-02-21T05:31:02.246Z"
      },
      {
        "duration": 0,
        "start_time": "2023-02-21T05:31:02.247Z"
      },
      {
        "duration": 0,
        "start_time": "2023-02-21T05:31:02.248Z"
      },
      {
        "duration": 0,
        "start_time": "2023-02-21T05:31:02.249Z"
      },
      {
        "duration": 0,
        "start_time": "2023-02-21T05:31:02.250Z"
      },
      {
        "duration": 0,
        "start_time": "2023-02-21T05:31:02.251Z"
      },
      {
        "duration": 0,
        "start_time": "2023-02-21T05:31:02.253Z"
      },
      {
        "duration": 0,
        "start_time": "2023-02-21T05:31:02.254Z"
      },
      {
        "duration": 0,
        "start_time": "2023-02-21T05:31:02.255Z"
      },
      {
        "duration": 0,
        "start_time": "2023-02-21T05:31:02.256Z"
      },
      {
        "duration": 0,
        "start_time": "2023-02-21T05:31:02.257Z"
      },
      {
        "duration": 0,
        "start_time": "2023-02-21T05:31:02.258Z"
      },
      {
        "duration": 0,
        "start_time": "2023-02-21T05:31:02.259Z"
      },
      {
        "duration": 0,
        "start_time": "2023-02-21T05:31:02.260Z"
      },
      {
        "duration": 0,
        "start_time": "2023-02-21T05:31:02.261Z"
      },
      {
        "duration": 0,
        "start_time": "2023-02-21T05:31:02.262Z"
      },
      {
        "duration": 0,
        "start_time": "2023-02-21T05:31:02.263Z"
      },
      {
        "duration": 0,
        "start_time": "2023-02-21T05:31:02.264Z"
      },
      {
        "duration": 0,
        "start_time": "2023-02-21T05:31:02.265Z"
      },
      {
        "duration": 7,
        "start_time": "2023-02-21T05:31:18.874Z"
      },
      {
        "duration": 4,
        "start_time": "2023-02-21T05:31:27.169Z"
      },
      {
        "duration": 371,
        "start_time": "2023-02-21T05:31:27.765Z"
      },
      {
        "duration": 2,
        "start_time": "2023-02-21T05:31:30.289Z"
      },
      {
        "duration": 35305,
        "start_time": "2023-02-21T05:31:30.612Z"
      },
      {
        "duration": 19,
        "start_time": "2023-02-21T05:32:12.315Z"
      },
      {
        "duration": 8329,
        "start_time": "2023-02-21T05:32:12.669Z"
      },
      {
        "duration": 4,
        "start_time": "2023-02-21T05:32:22.684Z"
      },
      {
        "duration": 51,
        "start_time": "2023-02-21T05:32:28.983Z"
      },
      {
        "duration": 361,
        "start_time": "2023-02-21T05:32:34.706Z"
      },
      {
        "duration": 47268,
        "start_time": "2023-02-21T05:32:37.423Z"
      },
      {
        "duration": 8693,
        "start_time": "2023-02-21T05:33:42.450Z"
      },
      {
        "duration": 4,
        "start_time": "2023-02-21T05:34:11.248Z"
      },
      {
        "duration": 4,
        "start_time": "2023-02-21T05:34:17.396Z"
      },
      {
        "duration": 113,
        "start_time": "2023-02-21T05:34:20.381Z"
      },
      {
        "duration": 2,
        "start_time": "2023-02-21T05:34:45.320Z"
      },
      {
        "duration": 6,
        "start_time": "2023-02-21T05:34:46.549Z"
      },
      {
        "duration": 11,
        "start_time": "2023-02-21T05:34:47.205Z"
      },
      {
        "duration": 5,
        "start_time": "2023-02-21T05:35:57.676Z"
      },
      {
        "duration": 6,
        "start_time": "2023-02-21T05:38:48.095Z"
      },
      {
        "duration": 6,
        "start_time": "2023-02-21T05:38:58.374Z"
      },
      {
        "duration": 6,
        "start_time": "2023-02-21T05:39:11.588Z"
      },
      {
        "duration": 6,
        "start_time": "2023-02-21T05:39:18.422Z"
      },
      {
        "duration": 10,
        "start_time": "2023-02-21T05:39:49.910Z"
      },
      {
        "duration": 8,
        "start_time": "2023-02-21T05:39:51.394Z"
      },
      {
        "duration": 6,
        "start_time": "2023-02-21T05:39:53.103Z"
      },
      {
        "duration": 10,
        "start_time": "2023-02-21T05:40:15.425Z"
      },
      {
        "duration": 7,
        "start_time": "2023-02-21T05:40:16.100Z"
      },
      {
        "duration": 12,
        "start_time": "2023-02-21T05:40:25.210Z"
      },
      {
        "duration": 6,
        "start_time": "2023-02-21T05:40:26.001Z"
      },
      {
        "duration": 9,
        "start_time": "2023-02-21T05:40:35.224Z"
      },
      {
        "duration": 6,
        "start_time": "2023-02-21T05:40:35.623Z"
      },
      {
        "duration": 7,
        "start_time": "2023-02-21T05:40:37.260Z"
      },
      {
        "duration": 10,
        "start_time": "2023-02-21T05:40:54.319Z"
      },
      {
        "duration": 5,
        "start_time": "2023-02-21T05:40:55.206Z"
      },
      {
        "duration": 10,
        "start_time": "2023-02-21T05:41:15.867Z"
      },
      {
        "duration": 7,
        "start_time": "2023-02-21T05:41:16.305Z"
      },
      {
        "duration": 6,
        "start_time": "2023-02-21T05:42:12.413Z"
      },
      {
        "duration": 6,
        "start_time": "2023-02-21T05:42:32.413Z"
      },
      {
        "duration": 5,
        "start_time": "2023-02-21T05:43:08.114Z"
      },
      {
        "duration": 369,
        "start_time": "2023-02-21T05:44:27.659Z"
      },
      {
        "duration": 277,
        "start_time": "2023-02-21T05:45:02.091Z"
      },
      {
        "duration": 31138,
        "start_time": "2023-02-21T05:46:18.988Z"
      },
      {
        "duration": 8109,
        "start_time": "2023-02-21T05:49:00.853Z"
      },
      {
        "duration": 5,
        "start_time": "2023-02-21T05:49:08.964Z"
      },
      {
        "duration": 8331,
        "start_time": "2023-02-21T05:55:03.609Z"
      },
      {
        "duration": 9207,
        "start_time": "2023-02-21T05:55:19.338Z"
      },
      {
        "duration": 9511,
        "start_time": "2023-02-21T05:56:16.392Z"
      },
      {
        "duration": 9563,
        "start_time": "2023-02-21T05:56:42.245Z"
      },
      {
        "duration": 9182,
        "start_time": "2023-02-21T05:57:14.428Z"
      },
      {
        "duration": 9533,
        "start_time": "2023-02-21T05:57:43.680Z"
      },
      {
        "duration": 9271,
        "start_time": "2023-02-21T05:59:09.305Z"
      },
      {
        "duration": 9514,
        "start_time": "2023-02-21T06:00:03.997Z"
      },
      {
        "duration": 9166,
        "start_time": "2023-02-21T06:00:30.806Z"
      },
      {
        "duration": 4,
        "start_time": "2023-02-21T06:02:13.306Z"
      },
      {
        "duration": 8683,
        "start_time": "2023-02-21T06:03:08.188Z"
      },
      {
        "duration": 4,
        "start_time": "2023-02-21T06:03:27.630Z"
      },
      {
        "duration": 3,
        "start_time": "2023-02-21T06:03:41.172Z"
      },
      {
        "duration": 18740,
        "start_time": "2023-02-21T06:04:29.019Z"
      },
      {
        "duration": 3,
        "start_time": "2023-02-21T06:08:08.376Z"
      },
      {
        "duration": 13,
        "start_time": "2023-02-21T06:10:08.872Z"
      },
      {
        "duration": 19835,
        "start_time": "2023-02-21T06:10:18.426Z"
      },
      {
        "duration": 4,
        "start_time": "2023-02-21T06:13:09.894Z"
      },
      {
        "duration": 56,
        "start_time": "2023-02-21T06:15:42.418Z"
      },
      {
        "duration": 9230,
        "start_time": "2023-02-21T06:15:48.758Z"
      },
      {
        "duration": 4,
        "start_time": "2023-02-21T06:16:10.341Z"
      },
      {
        "duration": 8742,
        "start_time": "2023-02-21T06:17:03.947Z"
      },
      {
        "duration": 9,
        "start_time": "2023-02-21T06:17:26.576Z"
      },
      {
        "duration": 9,
        "start_time": "2023-02-21T06:17:48.205Z"
      },
      {
        "duration": 11,
        "start_time": "2023-02-21T06:18:04.065Z"
      },
      {
        "duration": 8219,
        "start_time": "2023-02-21T06:19:00.813Z"
      },
      {
        "duration": 4,
        "start_time": "2023-02-21T06:19:09.034Z"
      },
      {
        "duration": 8188,
        "start_time": "2023-02-21T06:25:00.477Z"
      },
      {
        "duration": 7,
        "start_time": "2023-02-21T06:26:13.447Z"
      },
      {
        "duration": 4,
        "start_time": "2023-02-21T06:26:19.483Z"
      },
      {
        "duration": 20,
        "start_time": "2023-02-21T06:27:52.134Z"
      },
      {
        "duration": 349,
        "start_time": "2023-02-21T06:28:03.938Z"
      },
      {
        "duration": 41,
        "start_time": "2023-02-21T06:28:04.292Z"
      },
      {
        "duration": 12,
        "start_time": "2023-02-21T06:28:04.334Z"
      },
      {
        "duration": 19,
        "start_time": "2023-02-21T06:28:04.348Z"
      },
      {
        "duration": 4,
        "start_time": "2023-02-21T06:28:04.369Z"
      },
      {
        "duration": 16,
        "start_time": "2023-02-21T06:28:04.375Z"
      },
      {
        "duration": 8,
        "start_time": "2023-02-21T06:28:04.392Z"
      },
      {
        "duration": 115,
        "start_time": "2023-02-21T06:28:04.401Z"
      },
      {
        "duration": 17,
        "start_time": "2023-02-21T06:28:04.518Z"
      },
      {
        "duration": 4,
        "start_time": "2023-02-21T06:28:04.538Z"
      },
      {
        "duration": 16,
        "start_time": "2023-02-21T06:28:04.544Z"
      },
      {
        "duration": 14,
        "start_time": "2023-02-21T06:28:04.561Z"
      },
      {
        "duration": 26,
        "start_time": "2023-02-21T06:28:04.577Z"
      },
      {
        "duration": 7,
        "start_time": "2023-02-21T06:28:04.605Z"
      },
      {
        "duration": 2109,
        "start_time": "2023-02-21T06:28:04.614Z"
      },
      {
        "duration": 977,
        "start_time": "2023-02-21T06:28:06.726Z"
      },
      {
        "duration": 12,
        "start_time": "2023-02-21T06:28:07.704Z"
      },
      {
        "duration": 6,
        "start_time": "2023-02-21T06:28:07.717Z"
      },
      {
        "duration": 4,
        "start_time": "2023-02-21T06:28:07.724Z"
      },
      {
        "duration": 8,
        "start_time": "2023-02-21T06:28:07.729Z"
      },
      {
        "duration": 11,
        "start_time": "2023-02-21T06:28:07.738Z"
      },
      {
        "duration": 18,
        "start_time": "2023-02-21T06:28:07.751Z"
      },
      {
        "duration": 11,
        "start_time": "2023-02-21T06:28:07.791Z"
      },
      {
        "duration": 50,
        "start_time": "2023-02-21T06:28:07.804Z"
      },
      {
        "duration": 0,
        "start_time": "2023-02-21T06:28:07.856Z"
      },
      {
        "duration": 0,
        "start_time": "2023-02-21T06:28:07.858Z"
      },
      {
        "duration": 0,
        "start_time": "2023-02-21T06:28:07.859Z"
      },
      {
        "duration": 0,
        "start_time": "2023-02-21T06:28:07.861Z"
      },
      {
        "duration": 0,
        "start_time": "2023-02-21T06:28:07.862Z"
      },
      {
        "duration": 0,
        "start_time": "2023-02-21T06:28:07.863Z"
      },
      {
        "duration": 1,
        "start_time": "2023-02-21T06:28:07.864Z"
      },
      {
        "duration": 0,
        "start_time": "2023-02-21T06:28:07.865Z"
      },
      {
        "duration": 0,
        "start_time": "2023-02-21T06:28:07.867Z"
      },
      {
        "duration": 0,
        "start_time": "2023-02-21T06:28:07.868Z"
      },
      {
        "duration": 0,
        "start_time": "2023-02-21T06:28:07.870Z"
      },
      {
        "duration": 0,
        "start_time": "2023-02-21T06:28:07.871Z"
      },
      {
        "duration": 0,
        "start_time": "2023-02-21T06:28:07.872Z"
      },
      {
        "duration": 0,
        "start_time": "2023-02-21T06:28:07.873Z"
      },
      {
        "duration": 0,
        "start_time": "2023-02-21T06:28:07.874Z"
      },
      {
        "duration": 0,
        "start_time": "2023-02-21T06:28:07.875Z"
      },
      {
        "duration": 0,
        "start_time": "2023-02-21T06:28:07.876Z"
      },
      {
        "duration": 0,
        "start_time": "2023-02-21T06:28:07.877Z"
      },
      {
        "duration": 0,
        "start_time": "2023-02-21T06:28:07.879Z"
      },
      {
        "duration": 0,
        "start_time": "2023-02-21T06:28:07.880Z"
      },
      {
        "duration": 0,
        "start_time": "2023-02-21T06:28:07.881Z"
      },
      {
        "duration": 0,
        "start_time": "2023-02-21T06:28:07.882Z"
      },
      {
        "duration": 0,
        "start_time": "2023-02-21T06:28:07.883Z"
      },
      {
        "duration": 0,
        "start_time": "2023-02-21T06:28:07.891Z"
      },
      {
        "duration": 0,
        "start_time": "2023-02-21T06:28:07.892Z"
      },
      {
        "duration": 0,
        "start_time": "2023-02-21T06:28:07.893Z"
      },
      {
        "duration": 8,
        "start_time": "2023-02-21T06:28:19.825Z"
      },
      {
        "duration": 134,
        "start_time": "2023-02-21T06:28:45.961Z"
      },
      {
        "duration": 24,
        "start_time": "2023-02-21T06:28:54.897Z"
      },
      {
        "duration": 7881,
        "start_time": "2023-02-21T06:28:58.996Z"
      },
      {
        "duration": 17,
        "start_time": "2023-02-21T06:29:19.688Z"
      },
      {
        "duration": 3,
        "start_time": "2023-02-21T06:29:30.820Z"
      },
      {
        "duration": 7,
        "start_time": "2023-02-21T06:29:38.157Z"
      },
      {
        "duration": 4,
        "start_time": "2023-02-21T06:29:39.903Z"
      },
      {
        "duration": 9127,
        "start_time": "2023-02-21T06:30:09.047Z"
      },
      {
        "duration": 20,
        "start_time": "2023-02-21T06:30:18.176Z"
      },
      {
        "duration": 8265,
        "start_time": "2023-02-21T06:31:16.807Z"
      },
      {
        "duration": 8,
        "start_time": "2023-02-21T06:31:25.074Z"
      },
      {
        "duration": 5,
        "start_time": "2023-02-21T06:31:25.084Z"
      },
      {
        "duration": 3,
        "start_time": "2023-02-21T06:40:20.274Z"
      },
      {
        "duration": 7,
        "start_time": "2023-02-21T06:50:43.733Z"
      },
      {
        "duration": 5,
        "start_time": "2023-02-21T06:50:44.581Z"
      },
      {
        "duration": 10,
        "start_time": "2023-02-21T07:10:51.815Z"
      },
      {
        "duration": 8,
        "start_time": "2023-02-21T07:11:05.681Z"
      },
      {
        "duration": 9,
        "start_time": "2023-02-21T07:11:43.983Z"
      },
      {
        "duration": 6,
        "start_time": "2023-02-21T07:12:35.910Z"
      },
      {
        "duration": 11,
        "start_time": "2023-02-21T07:14:42.801Z"
      },
      {
        "duration": 6,
        "start_time": "2023-02-21T07:15:25.937Z"
      },
      {
        "duration": 481,
        "start_time": "2023-02-21T07:38:02.742Z"
      },
      {
        "duration": 13,
        "start_time": "2023-02-21T08:10:59.735Z"
      },
      {
        "duration": 5,
        "start_time": "2023-02-21T08:11:17.725Z"
      },
      {
        "duration": 4,
        "start_time": "2023-02-21T08:11:22.600Z"
      },
      {
        "duration": 106,
        "start_time": "2023-02-21T08:13:27.552Z"
      },
      {
        "duration": 6,
        "start_time": "2023-02-21T08:14:35.599Z"
      },
      {
        "duration": 110,
        "start_time": "2023-02-21T08:15:31.108Z"
      },
      {
        "duration": 116,
        "start_time": "2023-02-21T08:15:54.779Z"
      },
      {
        "duration": 127,
        "start_time": "2023-02-21T08:16:25.732Z"
      },
      {
        "duration": 111,
        "start_time": "2023-02-21T08:16:34.402Z"
      },
      {
        "duration": 71,
        "start_time": "2023-02-21T08:17:01.313Z"
      },
      {
        "duration": 115,
        "start_time": "2023-02-21T08:17:10.427Z"
      },
      {
        "duration": 11,
        "start_time": "2023-02-21T08:18:09.355Z"
      },
      {
        "duration": 2,
        "start_time": "2023-02-21T08:18:17.908Z"
      },
      {
        "duration": 34717,
        "start_time": "2023-02-21T08:18:19.591Z"
      },
      {
        "duration": 2047,
        "start_time": "2023-02-21T08:27:54.145Z"
      },
      {
        "duration": 49,
        "start_time": "2023-02-21T08:28:22.273Z"
      },
      {
        "duration": 0,
        "start_time": "2023-02-21T08:28:22.324Z"
      },
      {
        "duration": 0,
        "start_time": "2023-02-21T08:28:22.325Z"
      },
      {
        "duration": 0,
        "start_time": "2023-02-21T08:28:22.327Z"
      },
      {
        "duration": 0,
        "start_time": "2023-02-21T08:28:22.328Z"
      },
      {
        "duration": 0,
        "start_time": "2023-02-21T08:28:22.329Z"
      },
      {
        "duration": 0,
        "start_time": "2023-02-21T08:28:22.329Z"
      },
      {
        "duration": 0,
        "start_time": "2023-02-21T08:28:22.330Z"
      },
      {
        "duration": 0,
        "start_time": "2023-02-21T08:28:22.331Z"
      },
      {
        "duration": 0,
        "start_time": "2023-02-21T08:28:22.332Z"
      },
      {
        "duration": 0,
        "start_time": "2023-02-21T08:28:22.333Z"
      },
      {
        "duration": 0,
        "start_time": "2023-02-21T08:28:22.334Z"
      },
      {
        "duration": 0,
        "start_time": "2023-02-21T08:28:22.335Z"
      },
      {
        "duration": 62,
        "start_time": "2023-02-21T08:28:22.338Z"
      },
      {
        "duration": 0,
        "start_time": "2023-02-21T08:28:22.402Z"
      },
      {
        "duration": 0,
        "start_time": "2023-02-21T08:28:22.403Z"
      },
      {
        "duration": 0,
        "start_time": "2023-02-21T08:28:22.404Z"
      },
      {
        "duration": 0,
        "start_time": "2023-02-21T08:28:22.405Z"
      },
      {
        "duration": 0,
        "start_time": "2023-02-21T08:28:22.406Z"
      },
      {
        "duration": 0,
        "start_time": "2023-02-21T08:28:22.408Z"
      },
      {
        "duration": 0,
        "start_time": "2023-02-21T08:28:22.409Z"
      },
      {
        "duration": 0,
        "start_time": "2023-02-21T08:28:22.410Z"
      },
      {
        "duration": 0,
        "start_time": "2023-02-21T08:28:22.411Z"
      },
      {
        "duration": 0,
        "start_time": "2023-02-21T08:28:22.412Z"
      },
      {
        "duration": 0,
        "start_time": "2023-02-21T08:28:22.413Z"
      },
      {
        "duration": 0,
        "start_time": "2023-02-21T08:28:22.414Z"
      },
      {
        "duration": 0,
        "start_time": "2023-02-21T08:28:22.415Z"
      },
      {
        "duration": 0,
        "start_time": "2023-02-21T08:28:22.416Z"
      },
      {
        "duration": 0,
        "start_time": "2023-02-21T08:28:22.418Z"
      },
      {
        "duration": 0,
        "start_time": "2023-02-21T08:28:22.419Z"
      },
      {
        "duration": 0,
        "start_time": "2023-02-21T08:28:22.420Z"
      },
      {
        "duration": 0,
        "start_time": "2023-02-21T08:28:22.421Z"
      },
      {
        "duration": 0,
        "start_time": "2023-02-21T08:28:22.422Z"
      },
      {
        "duration": 0,
        "start_time": "2023-02-21T08:28:22.423Z"
      },
      {
        "duration": 0,
        "start_time": "2023-02-21T08:28:22.424Z"
      },
      {
        "duration": 0,
        "start_time": "2023-02-21T08:28:22.426Z"
      },
      {
        "duration": 0,
        "start_time": "2023-02-21T08:28:22.427Z"
      },
      {
        "duration": 0,
        "start_time": "2023-02-21T08:28:22.428Z"
      },
      {
        "duration": 0,
        "start_time": "2023-02-21T08:28:22.430Z"
      },
      {
        "duration": 0,
        "start_time": "2023-02-21T08:28:22.431Z"
      },
      {
        "duration": 0,
        "start_time": "2023-02-21T08:28:22.432Z"
      },
      {
        "duration": 1982,
        "start_time": "2023-02-21T08:28:32.812Z"
      },
      {
        "duration": 1394,
        "start_time": "2023-02-21T08:28:37.637Z"
      },
      {
        "duration": 53,
        "start_time": "2023-02-21T08:28:45.831Z"
      },
      {
        "duration": 17,
        "start_time": "2023-02-21T08:28:49.992Z"
      },
      {
        "duration": 24,
        "start_time": "2023-02-21T08:28:54.256Z"
      },
      {
        "duration": 5,
        "start_time": "2023-02-21T08:29:04.590Z"
      },
      {
        "duration": 9,
        "start_time": "2023-02-21T08:29:08.586Z"
      },
      {
        "duration": 7,
        "start_time": "2023-02-21T08:29:12.777Z"
      },
      {
        "duration": 137,
        "start_time": "2023-02-21T08:29:21.206Z"
      },
      {
        "duration": 14,
        "start_time": "2023-02-21T08:29:25.733Z"
      },
      {
        "duration": 4,
        "start_time": "2023-02-21T08:29:31.367Z"
      },
      {
        "duration": 5,
        "start_time": "2023-02-21T08:29:38.184Z"
      },
      {
        "duration": 11,
        "start_time": "2023-02-21T08:29:45.674Z"
      },
      {
        "duration": 12,
        "start_time": "2023-02-21T08:29:50.968Z"
      },
      {
        "duration": 3,
        "start_time": "2023-02-21T08:30:18.416Z"
      },
      {
        "duration": 10,
        "start_time": "2023-02-21T08:30:20.304Z"
      },
      {
        "duration": 9,
        "start_time": "2023-02-21T08:31:22.688Z"
      },
      {
        "duration": 6,
        "start_time": "2023-02-21T08:31:23.518Z"
      },
      {
        "duration": 4,
        "start_time": "2023-02-21T08:31:36.886Z"
      },
      {
        "duration": 9,
        "start_time": "2023-02-21T08:31:39.197Z"
      },
      {
        "duration": 11,
        "start_time": "2023-02-21T08:32:07.407Z"
      },
      {
        "duration": 20,
        "start_time": "2023-02-21T08:32:10.026Z"
      },
      {
        "duration": 13,
        "start_time": "2023-02-21T08:32:10.545Z"
      },
      {
        "duration": 8,
        "start_time": "2023-02-21T08:32:44.715Z"
      },
      {
        "duration": 360,
        "start_time": "2023-02-21T08:32:57.035Z"
      },
      {
        "duration": 372,
        "start_time": "2023-02-21T08:34:11.409Z"
      },
      {
        "duration": 35409,
        "start_time": "2023-02-21T08:35:09.705Z"
      },
      {
        "duration": 8391,
        "start_time": "2023-02-21T08:36:23.090Z"
      },
      {
        "duration": 8419,
        "start_time": "2023-02-21T08:38:13.949Z"
      },
      {
        "duration": 9307,
        "start_time": "2023-02-21T08:38:42.213Z"
      },
      {
        "duration": 8546,
        "start_time": "2023-02-21T08:49:34.163Z"
      },
      {
        "duration": 11024,
        "start_time": "2023-02-21T08:55:12.942Z"
      },
      {
        "duration": 9163,
        "start_time": "2023-02-21T08:55:55.609Z"
      },
      {
        "duration": 10698,
        "start_time": "2023-02-21T08:56:19.786Z"
      },
      {
        "duration": 8918,
        "start_time": "2023-02-21T08:56:55.767Z"
      },
      {
        "duration": 90,
        "start_time": "2023-02-21T09:07:01.709Z"
      },
      {
        "duration": 9208,
        "start_time": "2023-02-21T09:07:37.380Z"
      },
      {
        "duration": 5,
        "start_time": "2023-02-21T09:18:14.181Z"
      },
      {
        "duration": 9258,
        "start_time": "2023-02-21T09:40:55.679Z"
      },
      {
        "duration": 4,
        "start_time": "2023-02-21T09:41:08.741Z"
      },
      {
        "duration": 4,
        "start_time": "2023-02-21T09:41:56.972Z"
      },
      {
        "duration": 54,
        "start_time": "2023-02-21T10:01:39.697Z"
      },
      {
        "duration": 1258,
        "start_time": "2023-02-21T10:01:51.559Z"
      },
      {
        "duration": 12176,
        "start_time": "2023-02-21T10:02:14.437Z"
      },
      {
        "duration": 4620,
        "start_time": "2023-02-21T10:02:46.620Z"
      },
      {
        "duration": 4832,
        "start_time": "2023-02-21T10:03:05.048Z"
      },
      {
        "duration": 3458,
        "start_time": "2023-02-21T10:03:18.597Z"
      },
      {
        "duration": 3773,
        "start_time": "2023-02-21T10:03:29.245Z"
      },
      {
        "duration": 4,
        "start_time": "2023-02-21T10:03:51.751Z"
      },
      {
        "duration": 5,
        "start_time": "2023-02-21T10:03:59.447Z"
      },
      {
        "duration": 3823,
        "start_time": "2023-02-21T10:04:18.859Z"
      },
      {
        "duration": 48,
        "start_time": "2023-02-21T12:39:17.896Z"
      },
      {
        "duration": 0,
        "start_time": "2023-02-21T12:39:17.945Z"
      },
      {
        "duration": 0,
        "start_time": "2023-02-21T12:39:17.946Z"
      },
      {
        "duration": 0,
        "start_time": "2023-02-21T12:39:17.947Z"
      },
      {
        "duration": 0,
        "start_time": "2023-02-21T12:39:17.948Z"
      },
      {
        "duration": 0,
        "start_time": "2023-02-21T12:39:17.949Z"
      },
      {
        "duration": 0,
        "start_time": "2023-02-21T12:39:17.950Z"
      },
      {
        "duration": 0,
        "start_time": "2023-02-21T12:39:17.951Z"
      },
      {
        "duration": 0,
        "start_time": "2023-02-21T12:39:17.952Z"
      },
      {
        "duration": 0,
        "start_time": "2023-02-21T12:39:17.953Z"
      },
      {
        "duration": 0,
        "start_time": "2023-02-21T12:39:17.954Z"
      },
      {
        "duration": 0,
        "start_time": "2023-02-21T12:39:17.955Z"
      },
      {
        "duration": 0,
        "start_time": "2023-02-21T12:39:17.956Z"
      },
      {
        "duration": 50,
        "start_time": "2023-02-21T12:39:17.958Z"
      },
      {
        "duration": 0,
        "start_time": "2023-02-21T12:39:18.010Z"
      },
      {
        "duration": 0,
        "start_time": "2023-02-21T12:39:18.011Z"
      },
      {
        "duration": 0,
        "start_time": "2023-02-21T12:39:18.012Z"
      },
      {
        "duration": 0,
        "start_time": "2023-02-21T12:39:18.013Z"
      },
      {
        "duration": 0,
        "start_time": "2023-02-21T12:39:18.014Z"
      },
      {
        "duration": 0,
        "start_time": "2023-02-21T12:39:18.015Z"
      },
      {
        "duration": 0,
        "start_time": "2023-02-21T12:39:18.016Z"
      },
      {
        "duration": 0,
        "start_time": "2023-02-21T12:39:18.017Z"
      },
      {
        "duration": 0,
        "start_time": "2023-02-21T12:39:18.018Z"
      },
      {
        "duration": 0,
        "start_time": "2023-02-21T12:39:18.019Z"
      },
      {
        "duration": 0,
        "start_time": "2023-02-21T12:39:18.020Z"
      },
      {
        "duration": 0,
        "start_time": "2023-02-21T12:39:18.021Z"
      },
      {
        "duration": 0,
        "start_time": "2023-02-21T12:39:18.022Z"
      },
      {
        "duration": 0,
        "start_time": "2023-02-21T12:39:18.023Z"
      },
      {
        "duration": 6,
        "start_time": "2023-02-21T12:39:18.026Z"
      },
      {
        "duration": 0,
        "start_time": "2023-02-21T12:39:18.033Z"
      },
      {
        "duration": 0,
        "start_time": "2023-02-21T12:39:18.034Z"
      },
      {
        "duration": 0,
        "start_time": "2023-02-21T12:39:18.035Z"
      },
      {
        "duration": 0,
        "start_time": "2023-02-21T12:39:18.036Z"
      },
      {
        "duration": 51,
        "start_time": "2023-02-21T12:39:18.046Z"
      },
      {
        "duration": 0,
        "start_time": "2023-02-21T12:39:18.098Z"
      },
      {
        "duration": 0,
        "start_time": "2023-02-21T12:39:18.099Z"
      },
      {
        "duration": 0,
        "start_time": "2023-02-21T12:39:18.100Z"
      },
      {
        "duration": 0,
        "start_time": "2023-02-21T12:39:18.102Z"
      },
      {
        "duration": 0,
        "start_time": "2023-02-21T12:39:18.102Z"
      },
      {
        "duration": 0,
        "start_time": "2023-02-21T12:39:18.103Z"
      },
      {
        "duration": 0,
        "start_time": "2023-02-21T12:39:18.104Z"
      },
      {
        "duration": 0,
        "start_time": "2023-02-21T12:39:18.105Z"
      },
      {
        "duration": 0,
        "start_time": "2023-02-21T12:39:18.106Z"
      },
      {
        "duration": 0,
        "start_time": "2023-02-21T12:39:18.107Z"
      },
      {
        "duration": 0,
        "start_time": "2023-02-21T12:39:18.108Z"
      },
      {
        "duration": 0,
        "start_time": "2023-02-21T12:39:18.108Z"
      },
      {
        "duration": 2002,
        "start_time": "2023-02-21T12:39:29.601Z"
      },
      {
        "duration": 1340,
        "start_time": "2023-02-21T12:39:34.741Z"
      },
      {
        "duration": 41,
        "start_time": "2023-02-21T12:39:38.815Z"
      },
      {
        "duration": 13,
        "start_time": "2023-02-21T12:39:47.649Z"
      },
      {
        "duration": 20,
        "start_time": "2023-02-21T12:39:49.672Z"
      },
      {
        "duration": 5,
        "start_time": "2023-02-21T12:39:56.712Z"
      },
      {
        "duration": 10,
        "start_time": "2023-02-21T12:39:57.525Z"
      },
      {
        "duration": 7,
        "start_time": "2023-02-21T12:39:59.213Z"
      },
      {
        "duration": 104,
        "start_time": "2023-02-21T12:40:00.428Z"
      },
      {
        "duration": 12,
        "start_time": "2023-02-21T12:40:01.139Z"
      },
      {
        "duration": 3,
        "start_time": "2023-02-21T12:40:05.309Z"
      },
      {
        "duration": 5,
        "start_time": "2023-02-21T12:40:05.813Z"
      },
      {
        "duration": 11,
        "start_time": "2023-02-21T12:40:16.003Z"
      },
      {
        "duration": 14,
        "start_time": "2023-02-21T12:40:18.471Z"
      },
      {
        "duration": 3,
        "start_time": "2023-02-21T12:40:25.647Z"
      },
      {
        "duration": 14,
        "start_time": "2023-02-21T12:40:26.666Z"
      },
      {
        "duration": 5,
        "start_time": "2023-02-21T12:40:46.768Z"
      },
      {
        "duration": 3,
        "start_time": "2023-02-21T12:40:47.076Z"
      },
      {
        "duration": 6,
        "start_time": "2023-02-21T12:40:48.110Z"
      },
      {
        "duration": 23,
        "start_time": "2023-02-21T12:40:48.599Z"
      },
      {
        "duration": 11,
        "start_time": "2023-02-21T12:40:51.515Z"
      },
      {
        "duration": 8,
        "start_time": "2023-02-21T12:40:52.604Z"
      },
      {
        "duration": 345,
        "start_time": "2023-02-21T12:40:59.087Z"
      },
      {
        "duration": 34777,
        "start_time": "2023-02-21T12:41:05.421Z"
      },
      {
        "duration": 8502,
        "start_time": "2023-02-21T12:42:44.257Z"
      },
      {
        "duration": 3,
        "start_time": "2023-02-21T12:43:01.244Z"
      },
      {
        "duration": 2,
        "start_time": "2023-02-21T12:43:01.604Z"
      },
      {
        "duration": 3815,
        "start_time": "2023-02-21T12:43:02.586Z"
      },
      {
        "duration": 3,
        "start_time": "2023-02-21T12:43:13.347Z"
      },
      {
        "duration": 3,
        "start_time": "2023-02-21T12:43:49.288Z"
      },
      {
        "duration": 12,
        "start_time": "2023-02-21T12:46:35.148Z"
      },
      {
        "duration": 73,
        "start_time": "2023-02-21T12:47:05.701Z"
      },
      {
        "duration": 9,
        "start_time": "2023-02-21T12:47:11.961Z"
      },
      {
        "duration": 4,
        "start_time": "2023-02-21T12:47:51.328Z"
      },
      {
        "duration": 4,
        "start_time": "2023-02-21T12:49:05.655Z"
      },
      {
        "duration": 3,
        "start_time": "2023-02-21T12:49:58.003Z"
      },
      {
        "duration": 9,
        "start_time": "2023-02-21T12:50:40.466Z"
      },
      {
        "duration": 9,
        "start_time": "2023-02-21T12:50:46.161Z"
      },
      {
        "duration": 9,
        "start_time": "2023-02-21T12:50:53.718Z"
      },
      {
        "duration": 10,
        "start_time": "2023-02-21T12:51:00.753Z"
      },
      {
        "duration": 4,
        "start_time": "2023-02-21T12:51:29.074Z"
      },
      {
        "duration": 5,
        "start_time": "2023-02-21T12:55:01.870Z"
      },
      {
        "duration": 4,
        "start_time": "2023-02-21T12:57:57.320Z"
      },
      {
        "duration": 4,
        "start_time": "2023-02-21T12:58:09.568Z"
      },
      {
        "duration": 50,
        "start_time": "2023-02-21T12:59:34.599Z"
      },
      {
        "duration": 5,
        "start_time": "2023-02-21T13:00:25.561Z"
      },
      {
        "duration": 4,
        "start_time": "2023-02-21T13:00:32.300Z"
      },
      {
        "duration": 5,
        "start_time": "2023-02-21T13:00:36.536Z"
      },
      {
        "duration": 4,
        "start_time": "2023-02-21T13:01:04.582Z"
      },
      {
        "duration": 356,
        "start_time": "2023-02-21T13:02:47.417Z"
      },
      {
        "duration": 370,
        "start_time": "2023-02-21T13:03:25.904Z"
      },
      {
        "duration": 367,
        "start_time": "2023-02-21T13:03:34.914Z"
      },
      {
        "duration": 46890,
        "start_time": "2023-02-21T13:04:34.391Z"
      },
      {
        "duration": 364,
        "start_time": "2023-02-21T13:05:51.973Z"
      },
      {
        "duration": 47406,
        "start_time": "2023-02-21T13:06:28.475Z"
      },
      {
        "duration": 4156,
        "start_time": "2023-02-21T13:10:08.962Z"
      },
      {
        "duration": 4,
        "start_time": "2023-02-21T13:10:28.650Z"
      },
      {
        "duration": 4878,
        "start_time": "2023-02-21T13:11:23.344Z"
      },
      {
        "duration": 3,
        "start_time": "2023-02-21T13:11:32.810Z"
      },
      {
        "duration": 5583,
        "start_time": "2023-02-21T13:11:46.262Z"
      },
      {
        "duration": 12818,
        "start_time": "2023-02-21T13:12:07.151Z"
      },
      {
        "duration": 4152,
        "start_time": "2023-02-21T13:12:33.726Z"
      },
      {
        "duration": 4,
        "start_time": "2023-02-21T13:15:39.116Z"
      },
      {
        "duration": 8,
        "start_time": "2023-02-21T13:15:49.534Z"
      },
      {
        "duration": 6,
        "start_time": "2023-02-21T13:15:50.690Z"
      },
      {
        "duration": 344,
        "start_time": "2023-02-21T13:16:22.651Z"
      },
      {
        "duration": 299,
        "start_time": "2023-02-21T13:17:16.665Z"
      },
      {
        "duration": 12,
        "start_time": "2023-02-21T13:18:37.580Z"
      },
      {
        "duration": 30482,
        "start_time": "2023-02-21T13:18:51.659Z"
      },
      {
        "duration": 3666,
        "start_time": "2023-02-21T13:20:48.260Z"
      },
      {
        "duration": 3713,
        "start_time": "2023-02-21T13:21:58.796Z"
      },
      {
        "duration": 5,
        "start_time": "2023-02-21T13:22:26.448Z"
      },
      {
        "duration": 3463,
        "start_time": "2023-02-21T13:22:37.237Z"
      },
      {
        "duration": 3466,
        "start_time": "2023-02-21T13:22:56.348Z"
      },
      {
        "duration": 5,
        "start_time": "2023-02-21T13:23:09.254Z"
      },
      {
        "duration": 2,
        "start_time": "2023-02-21T13:24:26.358Z"
      },
      {
        "duration": 342,
        "start_time": "2023-02-21T13:24:48.738Z"
      },
      {
        "duration": 9,
        "start_time": "2023-02-21T13:29:27.048Z"
      },
      {
        "duration": 8,
        "start_time": "2023-02-21T13:29:33.172Z"
      },
      {
        "duration": 8,
        "start_time": "2023-02-21T13:30:44.964Z"
      },
      {
        "duration": 365,
        "start_time": "2023-02-21T13:30:56.684Z"
      },
      {
        "duration": 3,
        "start_time": "2023-02-21T13:31:11.405Z"
      },
      {
        "duration": 355,
        "start_time": "2023-02-21T13:31:12.331Z"
      },
      {
        "duration": 36615,
        "start_time": "2023-02-21T13:32:09.120Z"
      },
      {
        "duration": 3984,
        "start_time": "2023-02-21T13:33:29.261Z"
      },
      {
        "duration": 4,
        "start_time": "2023-02-21T13:33:33.343Z"
      },
      {
        "duration": 375,
        "start_time": "2023-02-21T13:35:00.340Z"
      },
      {
        "duration": 48937,
        "start_time": "2023-02-21T13:35:59.618Z"
      },
      {
        "duration": 4716,
        "start_time": "2023-02-21T13:37:17.734Z"
      },
      {
        "duration": 4,
        "start_time": "2023-02-21T13:37:26.715Z"
      },
      {
        "duration": 6,
        "start_time": "2023-02-21T13:37:36.235Z"
      },
      {
        "duration": 9,
        "start_time": "2023-02-21T13:37:40.134Z"
      },
      {
        "duration": 6,
        "start_time": "2023-02-21T13:37:42.426Z"
      },
      {
        "duration": 287,
        "start_time": "2023-02-21T13:41:03.614Z"
      },
      {
        "duration": 32153,
        "start_time": "2023-02-21T13:41:05.811Z"
      },
      {
        "duration": 3536,
        "start_time": "2023-02-21T13:41:42.208Z"
      },
      {
        "duration": 5,
        "start_time": "2023-02-21T13:41:51.678Z"
      },
      {
        "duration": 4,
        "start_time": "2023-02-21T13:43:25.835Z"
      },
      {
        "duration": 2083,
        "start_time": "2023-02-21T13:44:08.387Z"
      },
      {
        "duration": 1455,
        "start_time": "2023-02-21T13:44:10.474Z"
      },
      {
        "duration": 42,
        "start_time": "2023-02-21T13:44:11.931Z"
      },
      {
        "duration": 13,
        "start_time": "2023-02-21T13:44:11.975Z"
      },
      {
        "duration": 20,
        "start_time": "2023-02-21T13:44:11.990Z"
      },
      {
        "duration": 5,
        "start_time": "2023-02-21T13:44:12.012Z"
      },
      {
        "duration": 12,
        "start_time": "2023-02-21T13:44:12.019Z"
      },
      {
        "duration": 7,
        "start_time": "2023-02-21T13:44:12.032Z"
      },
      {
        "duration": 94,
        "start_time": "2023-02-21T13:44:12.041Z"
      },
      {
        "duration": 12,
        "start_time": "2023-02-21T13:44:12.136Z"
      },
      {
        "duration": 4,
        "start_time": "2023-02-21T13:44:12.149Z"
      },
      {
        "duration": 8,
        "start_time": "2023-02-21T13:44:12.155Z"
      },
      {
        "duration": 11,
        "start_time": "2023-02-21T13:44:12.165Z"
      },
      {
        "duration": 11,
        "start_time": "2023-02-21T13:44:12.180Z"
      },
      {
        "duration": 4,
        "start_time": "2023-02-21T13:44:12.193Z"
      },
      {
        "duration": 13,
        "start_time": "2023-02-21T13:44:12.198Z"
      },
      {
        "duration": 5,
        "start_time": "2023-02-21T13:44:12.212Z"
      },
      {
        "duration": 4,
        "start_time": "2023-02-21T13:44:12.218Z"
      },
      {
        "duration": 10,
        "start_time": "2023-02-21T13:44:12.224Z"
      },
      {
        "duration": 20,
        "start_time": "2023-02-21T13:44:12.236Z"
      },
      {
        "duration": 40,
        "start_time": "2023-02-21T13:44:12.258Z"
      },
      {
        "duration": 12,
        "start_time": "2023-02-21T13:44:12.300Z"
      },
      {
        "duration": 4,
        "start_time": "2023-02-21T13:44:12.314Z"
      },
      {
        "duration": 359,
        "start_time": "2023-02-21T13:44:12.320Z"
      },
      {
        "duration": 35963,
        "start_time": "2023-02-21T13:44:12.681Z"
      },
      {
        "duration": 4006,
        "start_time": "2023-02-21T13:44:48.646Z"
      },
      {
        "duration": 5,
        "start_time": "2023-02-21T13:44:52.653Z"
      },
      {
        "duration": 391,
        "start_time": "2023-02-21T13:44:52.659Z"
      },
      {
        "duration": 48382,
        "start_time": "2023-02-21T13:44:53.052Z"
      },
      {
        "duration": 4012,
        "start_time": "2023-02-21T13:45:41.435Z"
      },
      {
        "duration": 4,
        "start_time": "2023-02-21T13:45:45.448Z"
      },
      {
        "duration": 5,
        "start_time": "2023-02-21T13:45:45.454Z"
      },
      {
        "duration": 13,
        "start_time": "2023-02-21T13:45:45.461Z"
      },
      {
        "duration": 6,
        "start_time": "2023-02-21T13:45:45.476Z"
      },
      {
        "duration": 286,
        "start_time": "2023-02-21T13:45:45.484Z"
      },
      {
        "duration": 30996,
        "start_time": "2023-02-21T13:45:45.772Z"
      },
      {
        "duration": 3672,
        "start_time": "2023-02-21T13:46:16.769Z"
      },
      {
        "duration": 4,
        "start_time": "2023-02-21T13:46:20.442Z"
      },
      {
        "duration": 49,
        "start_time": "2023-02-21T13:46:20.448Z"
      },
      {
        "duration": 0,
        "start_time": "2023-02-21T13:46:20.499Z"
      },
      {
        "duration": 0,
        "start_time": "2023-02-21T13:46:20.500Z"
      },
      {
        "duration": 0,
        "start_time": "2023-02-21T13:46:20.501Z"
      },
      {
        "duration": 0,
        "start_time": "2023-02-21T13:46:20.502Z"
      },
      {
        "duration": 0,
        "start_time": "2023-02-21T13:46:20.503Z"
      },
      {
        "duration": 0,
        "start_time": "2023-02-21T13:46:20.504Z"
      },
      {
        "duration": 4,
        "start_time": "2023-02-21T13:46:33.308Z"
      },
      {
        "duration": 3491,
        "start_time": "2023-02-21T13:49:18.959Z"
      },
      {
        "duration": 4072,
        "start_time": "2023-02-21T13:50:59.221Z"
      },
      {
        "duration": 2097,
        "start_time": "2023-02-21T13:52:11.935Z"
      },
      {
        "duration": 1384,
        "start_time": "2023-02-21T13:52:14.034Z"
      },
      {
        "duration": 42,
        "start_time": "2023-02-21T13:52:15.420Z"
      },
      {
        "duration": 14,
        "start_time": "2023-02-21T13:52:15.464Z"
      },
      {
        "duration": 18,
        "start_time": "2023-02-21T13:52:15.480Z"
      },
      {
        "duration": 5,
        "start_time": "2023-02-21T13:52:15.499Z"
      },
      {
        "duration": 22,
        "start_time": "2023-02-21T13:52:15.505Z"
      },
      {
        "duration": 8,
        "start_time": "2023-02-21T13:52:15.528Z"
      },
      {
        "duration": 41,
        "start_time": "2023-02-21T13:52:15.537Z"
      },
      {
        "duration": 12,
        "start_time": "2023-02-21T13:52:15.580Z"
      },
      {
        "duration": 11,
        "start_time": "2023-02-21T13:52:15.594Z"
      },
      {
        "duration": 6,
        "start_time": "2023-02-21T13:52:15.606Z"
      },
      {
        "duration": 11,
        "start_time": "2023-02-21T13:52:15.614Z"
      },
      {
        "duration": 10,
        "start_time": "2023-02-21T13:52:15.627Z"
      },
      {
        "duration": 4,
        "start_time": "2023-02-21T13:52:15.639Z"
      },
      {
        "duration": 13,
        "start_time": "2023-02-21T13:52:15.644Z"
      },
      {
        "duration": 6,
        "start_time": "2023-02-21T13:52:15.659Z"
      },
      {
        "duration": 7,
        "start_time": "2023-02-21T13:52:15.666Z"
      },
      {
        "duration": 6,
        "start_time": "2023-02-21T13:52:15.692Z"
      },
      {
        "duration": 31,
        "start_time": "2023-02-21T13:52:15.699Z"
      },
      {
        "duration": 10,
        "start_time": "2023-02-21T13:52:15.731Z"
      },
      {
        "duration": 26,
        "start_time": "2023-02-21T13:52:15.743Z"
      },
      {
        "duration": 8,
        "start_time": "2023-02-21T13:52:15.770Z"
      },
      {
        "duration": 366,
        "start_time": "2023-02-21T13:52:15.780Z"
      },
      {
        "duration": 34612,
        "start_time": "2023-02-21T13:52:16.148Z"
      },
      {
        "duration": 3624,
        "start_time": "2023-02-21T13:52:50.761Z"
      },
      {
        "duration": 4,
        "start_time": "2023-02-21T13:52:54.387Z"
      },
      {
        "duration": 365,
        "start_time": "2023-02-21T13:52:54.395Z"
      },
      {
        "duration": 48932,
        "start_time": "2023-02-21T13:52:54.762Z"
      },
      {
        "duration": 4330,
        "start_time": "2023-02-21T13:53:43.696Z"
      },
      {
        "duration": 4,
        "start_time": "2023-02-21T13:53:48.028Z"
      },
      {
        "duration": 6,
        "start_time": "2023-02-21T13:53:48.034Z"
      },
      {
        "duration": 14,
        "start_time": "2023-02-21T13:53:48.041Z"
      },
      {
        "duration": 5,
        "start_time": "2023-02-21T13:53:48.056Z"
      },
      {
        "duration": 272,
        "start_time": "2023-02-21T13:53:48.063Z"
      },
      {
        "duration": 32163,
        "start_time": "2023-02-21T13:53:48.337Z"
      },
      {
        "duration": 3646,
        "start_time": "2023-02-21T13:54:20.502Z"
      },
      {
        "duration": 4,
        "start_time": "2023-02-21T13:54:24.150Z"
      },
      {
        "duration": 53,
        "start_time": "2023-02-21T13:54:24.156Z"
      },
      {
        "duration": 0,
        "start_time": "2023-02-21T13:54:24.211Z"
      },
      {
        "duration": 0,
        "start_time": "2023-02-21T13:54:24.212Z"
      },
      {
        "duration": 0,
        "start_time": "2023-02-21T13:54:24.213Z"
      },
      {
        "duration": 0,
        "start_time": "2023-02-21T13:54:24.215Z"
      },
      {
        "duration": 0,
        "start_time": "2023-02-21T13:54:24.216Z"
      },
      {
        "duration": 0,
        "start_time": "2023-02-21T13:54:24.217Z"
      },
      {
        "duration": 3,
        "start_time": "2023-02-21T13:54:55.359Z"
      },
      {
        "duration": 2077,
        "start_time": "2023-02-21T13:56:27.367Z"
      },
      {
        "duration": 1370,
        "start_time": "2023-02-21T13:56:29.446Z"
      },
      {
        "duration": 42,
        "start_time": "2023-02-21T13:56:30.818Z"
      },
      {
        "duration": 12,
        "start_time": "2023-02-21T13:56:30.863Z"
      },
      {
        "duration": 35,
        "start_time": "2023-02-21T13:56:30.877Z"
      },
      {
        "duration": 6,
        "start_time": "2023-02-21T13:56:30.914Z"
      },
      {
        "duration": 41,
        "start_time": "2023-02-21T13:56:30.921Z"
      },
      {
        "duration": 18,
        "start_time": "2023-02-21T13:56:30.964Z"
      },
      {
        "duration": 77,
        "start_time": "2023-02-21T13:56:30.983Z"
      },
      {
        "duration": 11,
        "start_time": "2023-02-21T13:56:31.063Z"
      },
      {
        "duration": 56,
        "start_time": "2023-02-21T13:56:31.076Z"
      },
      {
        "duration": 75,
        "start_time": "2023-02-21T13:56:31.134Z"
      },
      {
        "duration": 112,
        "start_time": "2023-02-21T13:56:31.211Z"
      },
      {
        "duration": 69,
        "start_time": "2023-02-21T13:56:31.325Z"
      },
      {
        "duration": 13,
        "start_time": "2023-02-21T13:56:31.401Z"
      },
      {
        "duration": 14,
        "start_time": "2023-02-21T13:56:31.416Z"
      },
      {
        "duration": 15,
        "start_time": "2023-02-21T13:56:31.431Z"
      },
      {
        "duration": 14,
        "start_time": "2023-02-21T13:56:31.447Z"
      },
      {
        "duration": 20,
        "start_time": "2023-02-21T13:56:31.462Z"
      },
      {
        "duration": 44,
        "start_time": "2023-02-21T13:56:31.484Z"
      },
      {
        "duration": 11,
        "start_time": "2023-02-21T13:56:31.529Z"
      },
      {
        "duration": 42,
        "start_time": "2023-02-21T13:56:31.541Z"
      },
      {
        "duration": 30,
        "start_time": "2023-02-21T13:56:31.585Z"
      },
      {
        "duration": 382,
        "start_time": "2023-02-21T13:56:31.616Z"
      },
      {
        "duration": 36211,
        "start_time": "2023-02-21T13:56:31.999Z"
      },
      {
        "duration": 4432,
        "start_time": "2023-02-21T13:57:08.212Z"
      },
      {
        "duration": 3,
        "start_time": "2023-02-21T13:57:12.646Z"
      },
      {
        "duration": 397,
        "start_time": "2023-02-21T13:57:12.653Z"
      },
      {
        "duration": 49253,
        "start_time": "2023-02-21T13:57:13.052Z"
      },
      {
        "duration": 4422,
        "start_time": "2023-02-21T13:58:02.306Z"
      },
      {
        "duration": 5,
        "start_time": "2023-02-21T13:58:06.730Z"
      },
      {
        "duration": 8,
        "start_time": "2023-02-21T13:58:06.737Z"
      },
      {
        "duration": 16,
        "start_time": "2023-02-21T13:58:06.746Z"
      },
      {
        "duration": 7,
        "start_time": "2023-02-21T13:58:06.764Z"
      },
      {
        "duration": 327,
        "start_time": "2023-02-21T13:58:06.774Z"
      },
      {
        "duration": 32240,
        "start_time": "2023-02-21T13:58:07.104Z"
      },
      {
        "duration": 3587,
        "start_time": "2023-02-21T13:58:39.345Z"
      },
      {
        "duration": 3,
        "start_time": "2023-02-21T13:58:42.934Z"
      },
      {
        "duration": 59,
        "start_time": "2023-02-21T13:58:42.939Z"
      },
      {
        "duration": 0,
        "start_time": "2023-02-21T13:58:43.001Z"
      },
      {
        "duration": 0,
        "start_time": "2023-02-21T13:58:43.002Z"
      },
      {
        "duration": 1,
        "start_time": "2023-02-21T13:58:43.002Z"
      },
      {
        "duration": 0,
        "start_time": "2023-02-21T13:58:43.004Z"
      },
      {
        "duration": 0,
        "start_time": "2023-02-21T13:58:43.005Z"
      },
      {
        "duration": 0,
        "start_time": "2023-02-21T13:58:43.007Z"
      },
      {
        "duration": 4,
        "start_time": "2023-02-21T13:59:08.168Z"
      },
      {
        "duration": 3,
        "start_time": "2023-02-21T14:03:29.474Z"
      },
      {
        "duration": 7,
        "start_time": "2023-02-21T14:08:38.129Z"
      },
      {
        "duration": 114,
        "start_time": "2023-02-21T14:13:55.321Z"
      },
      {
        "duration": 3,
        "start_time": "2023-02-21T14:15:15.119Z"
      },
      {
        "duration": 21,
        "start_time": "2023-02-21T14:15:20.984Z"
      },
      {
        "duration": 3,
        "start_time": "2023-02-21T14:15:45.317Z"
      },
      {
        "duration": 134,
        "start_time": "2023-02-21T14:15:55.121Z"
      },
      {
        "duration": 4,
        "start_time": "2023-02-21T14:39:03.062Z"
      },
      {
        "duration": 10,
        "start_time": "2023-02-21T14:40:00.034Z"
      },
      {
        "duration": 4,
        "start_time": "2023-02-21T15:01:10.850Z"
      },
      {
        "duration": 11,
        "start_time": "2023-02-21T15:01:38.105Z"
      },
      {
        "duration": 17,
        "start_time": "2023-02-21T15:01:52.167Z"
      },
      {
        "duration": 66,
        "start_time": "2023-02-21T15:04:08.473Z"
      },
      {
        "duration": 1709,
        "start_time": "2023-02-21T15:04:15.262Z"
      },
      {
        "duration": 4,
        "start_time": "2023-02-21T15:04:44.181Z"
      },
      {
        "duration": 1694,
        "start_time": "2023-02-21T15:05:15.985Z"
      },
      {
        "duration": 1519,
        "start_time": "2023-02-21T15:05:34.824Z"
      },
      {
        "duration": 19,
        "start_time": "2023-02-21T15:07:46.311Z"
      },
      {
        "duration": 10,
        "start_time": "2023-02-21T15:10:22.079Z"
      },
      {
        "duration": 10,
        "start_time": "2023-02-21T15:10:22.629Z"
      },
      {
        "duration": 10,
        "start_time": "2023-02-21T15:10:31.875Z"
      },
      {
        "duration": 9,
        "start_time": "2023-02-21T15:12:45.043Z"
      },
      {
        "duration": 3,
        "start_time": "2023-02-21T15:12:51.909Z"
      },
      {
        "duration": 4,
        "start_time": "2023-02-21T15:13:11.979Z"
      },
      {
        "duration": 4,
        "start_time": "2023-02-21T15:13:19.405Z"
      },
      {
        "duration": 4,
        "start_time": "2023-02-21T15:13:27.570Z"
      },
      {
        "duration": 10,
        "start_time": "2023-02-21T15:14:35.579Z"
      },
      {
        "duration": 13,
        "start_time": "2023-02-21T15:14:42.451Z"
      },
      {
        "duration": 12,
        "start_time": "2023-02-21T15:14:45.026Z"
      },
      {
        "duration": 4,
        "start_time": "2023-02-21T15:14:56.013Z"
      },
      {
        "duration": 3,
        "start_time": "2023-02-21T15:15:00.720Z"
      },
      {
        "duration": 4,
        "start_time": "2023-02-21T15:15:03.620Z"
      },
      {
        "duration": 4,
        "start_time": "2023-02-21T15:16:42.734Z"
      },
      {
        "duration": 25,
        "start_time": "2023-02-21T15:16:57.509Z"
      },
      {
        "duration": 3,
        "start_time": "2023-02-21T15:17:54.479Z"
      },
      {
        "duration": 7,
        "start_time": "2023-02-21T15:17:54.675Z"
      },
      {
        "duration": 21,
        "start_time": "2023-02-21T15:17:54.853Z"
      },
      {
        "duration": 9,
        "start_time": "2023-02-21T15:18:01.460Z"
      },
      {
        "duration": 5,
        "start_time": "2023-02-21T15:18:01.656Z"
      },
      {
        "duration": 3,
        "start_time": "2023-02-21T15:18:01.816Z"
      },
      {
        "duration": 6,
        "start_time": "2023-02-21T15:18:02.420Z"
      },
      {
        "duration": 21,
        "start_time": "2023-02-21T15:18:02.738Z"
      },
      {
        "duration": 11,
        "start_time": "2023-02-21T15:18:03.614Z"
      },
      {
        "duration": 1472,
        "start_time": "2023-02-21T15:18:20.217Z"
      },
      {
        "duration": 4040,
        "start_time": "2023-02-21T15:18:30.122Z"
      },
      {
        "duration": 11,
        "start_time": "2023-02-21T15:19:01.445Z"
      },
      {
        "duration": 12,
        "start_time": "2023-02-21T15:19:01.649Z"
      },
      {
        "duration": 2222,
        "start_time": "2023-02-21T15:19:04.117Z"
      },
      {
        "duration": 10,
        "start_time": "2023-02-21T15:19:55.520Z"
      },
      {
        "duration": 13,
        "start_time": "2023-02-21T15:19:55.705Z"
      },
      {
        "duration": 2,
        "start_time": "2023-02-21T15:19:56.037Z"
      },
      {
        "duration": 11,
        "start_time": "2023-02-21T15:19:56.223Z"
      },
      {
        "duration": 6,
        "start_time": "2023-02-21T15:19:56.945Z"
      },
      {
        "duration": 3,
        "start_time": "2023-02-21T15:19:57.345Z"
      },
      {
        "duration": 6,
        "start_time": "2023-02-21T15:19:58.720Z"
      },
      {
        "duration": 20,
        "start_time": "2023-02-21T15:19:59.145Z"
      },
      {
        "duration": 11,
        "start_time": "2023-02-21T15:19:59.567Z"
      },
      {
        "duration": 6,
        "start_time": "2023-02-21T15:20:01.348Z"
      },
      {
        "duration": 3,
        "start_time": "2023-02-21T15:20:01.553Z"
      },
      {
        "duration": 5007,
        "start_time": "2023-02-21T15:21:15.781Z"
      },
      {
        "duration": 1632,
        "start_time": "2023-02-21T15:21:36.619Z"
      },
      {
        "duration": 18,
        "start_time": "2023-02-21T15:22:04.720Z"
      },
      {
        "duration": 4,
        "start_time": "2023-02-21T15:22:28.519Z"
      },
      {
        "duration": 1592,
        "start_time": "2023-02-21T15:22:35.831Z"
      },
      {
        "duration": 17,
        "start_time": "2023-02-21T15:22:43.956Z"
      },
      {
        "duration": 5,
        "start_time": "2023-02-21T15:25:54.929Z"
      },
      {
        "duration": 3,
        "start_time": "2023-02-21T15:26:18.222Z"
      },
      {
        "duration": 1420,
        "start_time": "2023-02-21T15:26:26.303Z"
      },
      {
        "duration": 4,
        "start_time": "2023-02-21T15:26:56.125Z"
      },
      {
        "duration": 4,
        "start_time": "2023-02-21T15:27:33.826Z"
      },
      {
        "duration": 10,
        "start_time": "2023-02-21T15:28:17.149Z"
      },
      {
        "duration": 3,
        "start_time": "2023-02-21T15:28:25.861Z"
      },
      {
        "duration": 14,
        "start_time": "2023-02-21T15:28:38.288Z"
      },
      {
        "duration": 11,
        "start_time": "2023-02-21T15:28:41.391Z"
      },
      {
        "duration": 4,
        "start_time": "2023-02-21T15:28:56.554Z"
      },
      {
        "duration": 6,
        "start_time": "2023-02-21T15:29:08.895Z"
      },
      {
        "duration": 1454,
        "start_time": "2023-02-21T15:29:11.612Z"
      },
      {
        "duration": 13,
        "start_time": "2023-02-21T15:40:22.912Z"
      },
      {
        "duration": 13,
        "start_time": "2023-02-21T15:40:26.522Z"
      },
      {
        "duration": 3,
        "start_time": "2023-02-21T15:42:47.453Z"
      },
      {
        "duration": 4,
        "start_time": "2023-02-21T15:42:47.820Z"
      },
      {
        "duration": 3,
        "start_time": "2023-02-21T15:42:50.279Z"
      },
      {
        "duration": 3,
        "start_time": "2023-02-21T15:42:56.983Z"
      },
      {
        "duration": 1423,
        "start_time": "2023-02-21T15:43:03.410Z"
      },
      {
        "duration": 49,
        "start_time": "2023-02-22T05:00:19.604Z"
      },
      {
        "duration": 6,
        "start_time": "2023-02-22T05:00:19.971Z"
      },
      {
        "duration": 5,
        "start_time": "2023-02-22T05:00:31.977Z"
      },
      {
        "duration": 3156,
        "start_time": "2023-02-22T05:00:40.003Z"
      },
      {
        "duration": 1977,
        "start_time": "2023-02-22T05:00:43.161Z"
      },
      {
        "duration": 108,
        "start_time": "2023-02-22T05:00:45.140Z"
      },
      {
        "duration": 17,
        "start_time": "2023-02-22T05:00:45.250Z"
      },
      {
        "duration": 22,
        "start_time": "2023-02-22T05:00:45.271Z"
      },
      {
        "duration": 15,
        "start_time": "2023-02-22T05:00:45.295Z"
      },
      {
        "duration": 25,
        "start_time": "2023-02-22T05:00:45.311Z"
      },
      {
        "duration": 9,
        "start_time": "2023-02-22T05:00:45.338Z"
      },
      {
        "duration": 130,
        "start_time": "2023-02-22T05:00:45.349Z"
      },
      {
        "duration": 15,
        "start_time": "2023-02-22T05:00:45.481Z"
      },
      {
        "duration": 20,
        "start_time": "2023-02-22T05:00:45.499Z"
      },
      {
        "duration": 19,
        "start_time": "2023-02-22T05:00:45.521Z"
      },
      {
        "duration": 17,
        "start_time": "2023-02-22T05:00:45.543Z"
      },
      {
        "duration": 23,
        "start_time": "2023-02-22T05:00:45.564Z"
      },
      {
        "duration": 31,
        "start_time": "2023-02-22T05:00:45.589Z"
      },
      {
        "duration": 21,
        "start_time": "2023-02-22T05:00:45.622Z"
      },
      {
        "duration": 22,
        "start_time": "2023-02-22T05:00:45.645Z"
      },
      {
        "duration": 11,
        "start_time": "2023-02-22T05:00:45.669Z"
      },
      {
        "duration": 55,
        "start_time": "2023-02-22T05:00:45.682Z"
      },
      {
        "duration": 41,
        "start_time": "2023-02-22T05:00:45.739Z"
      },
      {
        "duration": 67,
        "start_time": "2023-02-22T05:00:45.782Z"
      },
      {
        "duration": 9,
        "start_time": "2023-02-22T05:00:45.851Z"
      },
      {
        "duration": 8,
        "start_time": "2023-02-22T05:00:45.861Z"
      },
      {
        "duration": 409,
        "start_time": "2023-02-22T05:00:45.870Z"
      },
      {
        "duration": 38260,
        "start_time": "2023-02-22T05:00:46.281Z"
      },
      {
        "duration": 4900,
        "start_time": "2023-02-22T05:01:24.543Z"
      },
      {
        "duration": 5,
        "start_time": "2023-02-22T05:01:29.444Z"
      },
      {
        "duration": 404,
        "start_time": "2023-02-22T05:01:29.451Z"
      },
      {
        "duration": 50837,
        "start_time": "2023-02-22T05:01:29.857Z"
      },
      {
        "duration": 5182,
        "start_time": "2023-02-22T05:02:20.696Z"
      },
      {
        "duration": 7,
        "start_time": "2023-02-22T05:02:25.880Z"
      },
      {
        "duration": 39,
        "start_time": "2023-02-22T05:02:25.889Z"
      },
      {
        "duration": 17,
        "start_time": "2023-02-22T05:02:25.932Z"
      },
      {
        "duration": 6,
        "start_time": "2023-02-22T05:02:25.951Z"
      },
      {
        "duration": 292,
        "start_time": "2023-02-22T05:02:25.959Z"
      },
      {
        "duration": 32504,
        "start_time": "2023-02-22T05:02:26.253Z"
      },
      {
        "duration": 5312,
        "start_time": "2023-02-22T05:02:58.758Z"
      },
      {
        "duration": 4,
        "start_time": "2023-02-22T05:03:04.072Z"
      },
      {
        "duration": 56,
        "start_time": "2023-02-22T05:03:04.078Z"
      },
      {
        "duration": 40,
        "start_time": "2023-02-22T05:03:04.136Z"
      },
      {
        "duration": 226,
        "start_time": "2023-02-22T05:03:04.180Z"
      },
      {
        "duration": 12,
        "start_time": "2023-02-22T05:03:04.408Z"
      },
      {
        "duration": 78,
        "start_time": "2023-02-22T05:03:04.422Z"
      },
      {
        "duration": 0,
        "start_time": "2023-02-22T05:03:04.502Z"
      },
      {
        "duration": 0,
        "start_time": "2023-02-22T05:03:04.504Z"
      },
      {
        "duration": 0,
        "start_time": "2023-02-22T05:03:04.505Z"
      },
      {
        "duration": 0,
        "start_time": "2023-02-22T05:03:04.507Z"
      },
      {
        "duration": 0,
        "start_time": "2023-02-22T05:03:04.508Z"
      },
      {
        "duration": 0,
        "start_time": "2023-02-22T05:03:04.510Z"
      },
      {
        "duration": 0,
        "start_time": "2023-02-22T05:03:04.511Z"
      },
      {
        "duration": 4,
        "start_time": "2023-02-22T05:03:32.561Z"
      },
      {
        "duration": 4,
        "start_time": "2023-02-22T05:03:35.117Z"
      },
      {
        "duration": 4,
        "start_time": "2023-02-22T05:03:36.307Z"
      },
      {
        "duration": 2467,
        "start_time": "2023-02-22T05:03:43.177Z"
      },
      {
        "duration": 2464,
        "start_time": "2023-02-22T05:10:41.707Z"
      },
      {
        "duration": 2428,
        "start_time": "2023-02-22T05:28:23.938Z"
      },
      {
        "duration": 1565,
        "start_time": "2023-02-22T05:28:26.369Z"
      },
      {
        "duration": 35,
        "start_time": "2023-02-22T05:28:27.936Z"
      },
      {
        "duration": 16,
        "start_time": "2023-02-22T05:28:27.974Z"
      },
      {
        "duration": 35,
        "start_time": "2023-02-22T05:28:27.998Z"
      },
      {
        "duration": 8,
        "start_time": "2023-02-22T05:28:28.035Z"
      },
      {
        "duration": 13,
        "start_time": "2023-02-22T05:28:28.044Z"
      },
      {
        "duration": 13,
        "start_time": "2023-02-22T05:28:28.058Z"
      },
      {
        "duration": 92,
        "start_time": "2023-02-22T05:28:28.072Z"
      },
      {
        "duration": 13,
        "start_time": "2023-02-22T05:28:28.168Z"
      },
      {
        "duration": 46,
        "start_time": "2023-02-22T05:28:28.183Z"
      },
      {
        "duration": 12,
        "start_time": "2023-02-22T05:28:28.230Z"
      },
      {
        "duration": 19,
        "start_time": "2023-02-22T05:28:28.243Z"
      },
      {
        "duration": 11,
        "start_time": "2023-02-22T05:28:28.264Z"
      },
      {
        "duration": 5,
        "start_time": "2023-02-22T05:28:28.277Z"
      },
      {
        "duration": 60,
        "start_time": "2023-02-22T05:28:28.284Z"
      },
      {
        "duration": 8,
        "start_time": "2023-02-22T05:28:28.346Z"
      },
      {
        "duration": 88,
        "start_time": "2023-02-22T05:28:28.356Z"
      },
      {
        "duration": 0,
        "start_time": "2023-02-22T05:28:28.446Z"
      },
      {
        "duration": 0,
        "start_time": "2023-02-22T05:28:28.447Z"
      },
      {
        "duration": 0,
        "start_time": "2023-02-22T05:28:28.448Z"
      },
      {
        "duration": 0,
        "start_time": "2023-02-22T05:28:28.449Z"
      },
      {
        "duration": 0,
        "start_time": "2023-02-22T05:28:28.450Z"
      },
      {
        "duration": 0,
        "start_time": "2023-02-22T05:28:28.451Z"
      },
      {
        "duration": 0,
        "start_time": "2023-02-22T05:28:28.452Z"
      },
      {
        "duration": 0,
        "start_time": "2023-02-22T05:28:28.453Z"
      },
      {
        "duration": 0,
        "start_time": "2023-02-22T05:28:28.454Z"
      },
      {
        "duration": 0,
        "start_time": "2023-02-22T05:28:28.455Z"
      },
      {
        "duration": 0,
        "start_time": "2023-02-22T05:28:28.456Z"
      },
      {
        "duration": 0,
        "start_time": "2023-02-22T05:28:28.457Z"
      },
      {
        "duration": 0,
        "start_time": "2023-02-22T05:28:28.458Z"
      },
      {
        "duration": 0,
        "start_time": "2023-02-22T05:28:28.459Z"
      },
      {
        "duration": 0,
        "start_time": "2023-02-22T05:28:28.460Z"
      },
      {
        "duration": 0,
        "start_time": "2023-02-22T05:28:28.461Z"
      },
      {
        "duration": 0,
        "start_time": "2023-02-22T05:28:28.462Z"
      },
      {
        "duration": 0,
        "start_time": "2023-02-22T05:28:28.463Z"
      },
      {
        "duration": 0,
        "start_time": "2023-02-22T05:28:28.464Z"
      },
      {
        "duration": 0,
        "start_time": "2023-02-22T05:28:28.465Z"
      },
      {
        "duration": 0,
        "start_time": "2023-02-22T05:28:28.466Z"
      },
      {
        "duration": 0,
        "start_time": "2023-02-22T05:28:28.467Z"
      },
      {
        "duration": 0,
        "start_time": "2023-02-22T05:28:28.468Z"
      },
      {
        "duration": 0,
        "start_time": "2023-02-22T05:28:28.469Z"
      },
      {
        "duration": 0,
        "start_time": "2023-02-22T05:28:28.470Z"
      },
      {
        "duration": 0,
        "start_time": "2023-02-22T05:28:28.472Z"
      },
      {
        "duration": 6140,
        "start_time": "2023-02-22T05:29:11.841Z"
      },
      {
        "duration": 19,
        "start_time": "2023-02-22T05:29:28.466Z"
      },
      {
        "duration": 2377,
        "start_time": "2023-02-22T05:31:30.554Z"
      },
      {
        "duration": 91,
        "start_time": "2023-02-22T05:33:21.651Z"
      },
      {
        "duration": 0,
        "start_time": "2023-02-22T05:33:21.746Z"
      },
      {
        "duration": 0,
        "start_time": "2023-02-22T05:33:21.747Z"
      },
      {
        "duration": 0,
        "start_time": "2023-02-22T05:33:21.749Z"
      },
      {
        "duration": 0,
        "start_time": "2023-02-22T05:33:21.750Z"
      },
      {
        "duration": 0,
        "start_time": "2023-02-22T05:33:21.751Z"
      },
      {
        "duration": 0,
        "start_time": "2023-02-22T05:33:21.753Z"
      },
      {
        "duration": 0,
        "start_time": "2023-02-22T05:33:21.754Z"
      },
      {
        "duration": 0,
        "start_time": "2023-02-22T05:33:21.755Z"
      },
      {
        "duration": 0,
        "start_time": "2023-02-22T05:33:21.757Z"
      },
      {
        "duration": 0,
        "start_time": "2023-02-22T05:33:21.758Z"
      },
      {
        "duration": 0,
        "start_time": "2023-02-22T05:33:21.759Z"
      },
      {
        "duration": 0,
        "start_time": "2023-02-22T05:33:21.760Z"
      },
      {
        "duration": 0,
        "start_time": "2023-02-22T05:33:21.761Z"
      },
      {
        "duration": 0,
        "start_time": "2023-02-22T05:33:21.763Z"
      },
      {
        "duration": 0,
        "start_time": "2023-02-22T05:33:21.764Z"
      },
      {
        "duration": 0,
        "start_time": "2023-02-22T05:33:21.765Z"
      },
      {
        "duration": 0,
        "start_time": "2023-02-22T05:33:21.767Z"
      },
      {
        "duration": 0,
        "start_time": "2023-02-22T05:33:21.768Z"
      },
      {
        "duration": 0,
        "start_time": "2023-02-22T05:33:21.769Z"
      },
      {
        "duration": 0,
        "start_time": "2023-02-22T05:33:21.771Z"
      },
      {
        "duration": 0,
        "start_time": "2023-02-22T05:33:21.772Z"
      },
      {
        "duration": 0,
        "start_time": "2023-02-22T05:33:21.774Z"
      },
      {
        "duration": 0,
        "start_time": "2023-02-22T05:33:21.775Z"
      },
      {
        "duration": 0,
        "start_time": "2023-02-22T05:33:21.785Z"
      },
      {
        "duration": 0,
        "start_time": "2023-02-22T05:33:21.789Z"
      },
      {
        "duration": 0,
        "start_time": "2023-02-22T05:33:21.790Z"
      },
      {
        "duration": 0,
        "start_time": "2023-02-22T05:33:21.791Z"
      },
      {
        "duration": 0,
        "start_time": "2023-02-22T05:33:21.796Z"
      },
      {
        "duration": 0,
        "start_time": "2023-02-22T05:33:21.798Z"
      },
      {
        "duration": 0,
        "start_time": "2023-02-22T05:33:21.799Z"
      },
      {
        "duration": 0,
        "start_time": "2023-02-22T05:33:21.801Z"
      },
      {
        "duration": 0,
        "start_time": "2023-02-22T05:33:21.805Z"
      },
      {
        "duration": 115,
        "start_time": "2023-02-22T05:33:21.809Z"
      },
      {
        "duration": 0,
        "start_time": "2023-02-22T05:33:21.926Z"
      },
      {
        "duration": 0,
        "start_time": "2023-02-22T05:33:21.927Z"
      },
      {
        "duration": 0,
        "start_time": "2023-02-22T05:33:21.929Z"
      },
      {
        "duration": 0,
        "start_time": "2023-02-22T05:33:21.930Z"
      },
      {
        "duration": 0,
        "start_time": "2023-02-22T05:33:21.931Z"
      },
      {
        "duration": 0,
        "start_time": "2023-02-22T05:33:21.932Z"
      },
      {
        "duration": 0,
        "start_time": "2023-02-22T05:33:21.934Z"
      },
      {
        "duration": 1,
        "start_time": "2023-02-22T05:33:21.935Z"
      },
      {
        "duration": 0,
        "start_time": "2023-02-22T05:33:21.936Z"
      },
      {
        "duration": 0,
        "start_time": "2023-02-22T05:33:21.938Z"
      },
      {
        "duration": 2177,
        "start_time": "2023-02-22T05:33:34.558Z"
      },
      {
        "duration": 1516,
        "start_time": "2023-02-22T05:33:49.117Z"
      },
      {
        "duration": 38,
        "start_time": "2023-02-22T05:33:53.236Z"
      },
      {
        "duration": 14,
        "start_time": "2023-02-22T05:34:08.352Z"
      },
      {
        "duration": 27,
        "start_time": "2023-02-22T05:34:24.815Z"
      },
      {
        "duration": 4,
        "start_time": "2023-02-22T05:34:39.528Z"
      },
      {
        "duration": 26,
        "start_time": "2023-02-22T05:34:45.077Z"
      },
      {
        "duration": 7,
        "start_time": "2023-02-22T05:34:51.451Z"
      },
      {
        "duration": 50,
        "start_time": "2023-02-22T05:37:46.547Z"
      },
      {
        "duration": 12,
        "start_time": "2023-02-22T05:37:47.108Z"
      },
      {
        "duration": 51,
        "start_time": "2023-02-22T05:38:18.021Z"
      },
      {
        "duration": 6,
        "start_time": "2023-02-22T05:40:44.681Z"
      },
      {
        "duration": 11,
        "start_time": "2023-02-22T05:40:45.218Z"
      },
      {
        "duration": 11,
        "start_time": "2023-02-22T05:43:27.293Z"
      },
      {
        "duration": 11,
        "start_time": "2023-02-22T05:43:28.645Z"
      },
      {
        "duration": 6,
        "start_time": "2023-02-22T06:11:12.534Z"
      },
      {
        "duration": 77,
        "start_time": "2023-02-22T06:12:16.927Z"
      },
      {
        "duration": 9,
        "start_time": "2023-02-22T06:12:33.908Z"
      },
      {
        "duration": 45,
        "start_time": "2023-02-22T06:12:46.458Z"
      },
      {
        "duration": 10,
        "start_time": "2023-02-22T06:13:18.332Z"
      },
      {
        "duration": 40,
        "start_time": "2023-02-22T06:13:26.850Z"
      },
      {
        "duration": 10,
        "start_time": "2023-02-22T06:18:53.124Z"
      },
      {
        "duration": 21,
        "start_time": "2023-02-22T06:19:11.641Z"
      },
      {
        "duration": 10,
        "start_time": "2023-02-22T06:26:05.316Z"
      },
      {
        "duration": 3,
        "start_time": "2023-02-22T06:26:19.298Z"
      },
      {
        "duration": 12,
        "start_time": "2023-02-22T06:26:20.069Z"
      },
      {
        "duration": 28,
        "start_time": "2023-02-22T06:26:37.867Z"
      },
      {
        "duration": 23,
        "start_time": "2023-02-22T06:26:46.866Z"
      },
      {
        "duration": 20,
        "start_time": "2023-02-22T06:26:54.925Z"
      },
      {
        "duration": 89,
        "start_time": "2023-02-22T06:28:37.884Z"
      },
      {
        "duration": 46,
        "start_time": "2023-02-22T06:28:42.875Z"
      },
      {
        "duration": 22,
        "start_time": "2023-02-22T06:28:51.832Z"
      },
      {
        "duration": 42,
        "start_time": "2023-02-22T06:38:46.910Z"
      },
      {
        "duration": 26,
        "start_time": "2023-02-22T06:38:47.253Z"
      },
      {
        "duration": 14,
        "start_time": "2023-02-22T06:38:47.412Z"
      },
      {
        "duration": 4,
        "start_time": "2023-02-22T06:38:50.040Z"
      },
      {
        "duration": 14,
        "start_time": "2023-02-22T06:38:52.105Z"
      },
      {
        "duration": 10,
        "start_time": "2023-02-22T06:38:53.553Z"
      },
      {
        "duration": 183,
        "start_time": "2023-02-22T06:38:55.935Z"
      },
      {
        "duration": 17,
        "start_time": "2023-02-22T06:38:56.984Z"
      },
      {
        "duration": 4,
        "start_time": "2023-02-22T06:39:00.332Z"
      },
      {
        "duration": 6,
        "start_time": "2023-02-22T06:39:01.259Z"
      },
      {
        "duration": 10,
        "start_time": "2023-02-22T06:40:02.441Z"
      },
      {
        "duration": 9,
        "start_time": "2023-02-22T06:40:23.492Z"
      },
      {
        "duration": 3,
        "start_time": "2023-02-22T06:40:27.838Z"
      },
      {
        "duration": 11,
        "start_time": "2023-02-22T06:40:28.004Z"
      },
      {
        "duration": 6,
        "start_time": "2023-02-22T06:40:28.739Z"
      },
      {
        "duration": 3,
        "start_time": "2023-02-22T06:40:29.057Z"
      },
      {
        "duration": 8,
        "start_time": "2023-02-22T06:40:31.168Z"
      },
      {
        "duration": 21,
        "start_time": "2023-02-22T06:40:31.513Z"
      },
      {
        "duration": 11,
        "start_time": "2023-02-22T06:40:34.013Z"
      },
      {
        "duration": 56,
        "start_time": "2023-02-22T06:40:55.550Z"
      },
      {
        "duration": 17,
        "start_time": "2023-02-22T06:40:55.877Z"
      },
      {
        "duration": 21,
        "start_time": "2023-02-22T06:40:56.024Z"
      },
      {
        "duration": 4,
        "start_time": "2023-02-22T06:40:56.425Z"
      },
      {
        "duration": 11,
        "start_time": "2023-02-22T06:40:56.958Z"
      },
      {
        "duration": 8,
        "start_time": "2023-02-22T06:40:57.529Z"
      },
      {
        "duration": 58,
        "start_time": "2023-02-22T06:41:00.245Z"
      },
      {
        "duration": 12,
        "start_time": "2023-02-22T06:41:00.492Z"
      },
      {
        "duration": 4,
        "start_time": "2023-02-22T06:41:03.030Z"
      },
      {
        "duration": 5,
        "start_time": "2023-02-22T06:41:03.704Z"
      },
      {
        "duration": 2,
        "start_time": "2023-02-22T06:41:20.183Z"
      },
      {
        "duration": 3,
        "start_time": "2023-02-22T06:41:21.615Z"
      },
      {
        "duration": 10,
        "start_time": "2023-02-22T06:41:21.978Z"
      },
      {
        "duration": 5,
        "start_time": "2023-02-22T06:41:22.362Z"
      },
      {
        "duration": 3,
        "start_time": "2023-02-22T06:41:24.924Z"
      },
      {
        "duration": 6,
        "start_time": "2023-02-22T06:41:25.334Z"
      },
      {
        "duration": 22,
        "start_time": "2023-02-22T06:41:25.721Z"
      },
      {
        "duration": 15,
        "start_time": "2023-02-22T06:41:28.758Z"
      },
      {
        "duration": 2916,
        "start_time": "2023-02-22T06:41:57.195Z"
      },
      {
        "duration": 3371,
        "start_time": "2023-02-22T06:42:00.114Z"
      },
      {
        "duration": 37,
        "start_time": "2023-02-22T06:42:03.487Z"
      },
      {
        "duration": 12,
        "start_time": "2023-02-22T06:42:03.526Z"
      },
      {
        "duration": 25,
        "start_time": "2023-02-22T06:42:03.540Z"
      },
      {
        "duration": 6,
        "start_time": "2023-02-22T06:42:03.567Z"
      },
      {
        "duration": 15,
        "start_time": "2023-02-22T06:42:03.574Z"
      },
      {
        "duration": 6,
        "start_time": "2023-02-22T06:42:03.591Z"
      },
      {
        "duration": 53,
        "start_time": "2023-02-22T06:42:03.599Z"
      },
      {
        "duration": 13,
        "start_time": "2023-02-22T06:42:03.655Z"
      },
      {
        "duration": 4,
        "start_time": "2023-02-22T06:42:03.670Z"
      },
      {
        "duration": 7,
        "start_time": "2023-02-22T06:42:03.676Z"
      },
      {
        "duration": 68,
        "start_time": "2023-02-22T06:42:03.685Z"
      },
      {
        "duration": 0,
        "start_time": "2023-02-22T06:42:03.756Z"
      },
      {
        "duration": 0,
        "start_time": "2023-02-22T06:42:03.758Z"
      },
      {
        "duration": 0,
        "start_time": "2023-02-22T06:42:03.759Z"
      },
      {
        "duration": 0,
        "start_time": "2023-02-22T06:42:03.760Z"
      },
      {
        "duration": 0,
        "start_time": "2023-02-22T06:42:03.761Z"
      },
      {
        "duration": 0,
        "start_time": "2023-02-22T06:42:03.762Z"
      },
      {
        "duration": 0,
        "start_time": "2023-02-22T06:42:03.763Z"
      },
      {
        "duration": 0,
        "start_time": "2023-02-22T06:42:03.764Z"
      },
      {
        "duration": 0,
        "start_time": "2023-02-22T06:42:03.765Z"
      },
      {
        "duration": 0,
        "start_time": "2023-02-22T06:42:03.766Z"
      },
      {
        "duration": 0,
        "start_time": "2023-02-22T06:42:03.767Z"
      },
      {
        "duration": 0,
        "start_time": "2023-02-22T06:42:03.768Z"
      },
      {
        "duration": 0,
        "start_time": "2023-02-22T06:42:03.769Z"
      },
      {
        "duration": 0,
        "start_time": "2023-02-22T06:42:03.770Z"
      },
      {
        "duration": 0,
        "start_time": "2023-02-22T06:42:03.771Z"
      },
      {
        "duration": 0,
        "start_time": "2023-02-22T06:42:03.772Z"
      },
      {
        "duration": 0,
        "start_time": "2023-02-22T06:42:03.773Z"
      },
      {
        "duration": 0,
        "start_time": "2023-02-22T06:42:03.774Z"
      },
      {
        "duration": 0,
        "start_time": "2023-02-22T06:42:03.775Z"
      },
      {
        "duration": 0,
        "start_time": "2023-02-22T06:42:03.776Z"
      },
      {
        "duration": 0,
        "start_time": "2023-02-22T06:42:03.777Z"
      },
      {
        "duration": 0,
        "start_time": "2023-02-22T06:42:03.778Z"
      },
      {
        "duration": 0,
        "start_time": "2023-02-22T06:42:03.779Z"
      },
      {
        "duration": 0,
        "start_time": "2023-02-22T06:42:03.779Z"
      },
      {
        "duration": 0,
        "start_time": "2023-02-22T06:42:03.780Z"
      },
      {
        "duration": 0,
        "start_time": "2023-02-22T06:42:03.780Z"
      },
      {
        "duration": 0,
        "start_time": "2023-02-22T06:42:03.781Z"
      },
      {
        "duration": 0,
        "start_time": "2023-02-22T06:42:03.782Z"
      },
      {
        "duration": 0,
        "start_time": "2023-02-22T06:42:03.782Z"
      },
      {
        "duration": 0,
        "start_time": "2023-02-22T06:42:03.783Z"
      },
      {
        "duration": 0,
        "start_time": "2023-02-22T06:42:03.784Z"
      },
      {
        "duration": 0,
        "start_time": "2023-02-22T06:42:03.784Z"
      },
      {
        "duration": 0,
        "start_time": "2023-02-22T06:42:03.785Z"
      },
      {
        "duration": 3,
        "start_time": "2023-02-22T06:42:20.557Z"
      },
      {
        "duration": 10,
        "start_time": "2023-02-22T06:42:20.848Z"
      },
      {
        "duration": 6,
        "start_time": "2023-02-22T06:42:22.464Z"
      },
      {
        "duration": 3,
        "start_time": "2023-02-22T06:42:23.540Z"
      },
      {
        "duration": 6,
        "start_time": "2023-02-22T06:42:24.158Z"
      },
      {
        "duration": 21,
        "start_time": "2023-02-22T06:42:25.217Z"
      },
      {
        "duration": 11,
        "start_time": "2023-02-22T06:42:27.770Z"
      },
      {
        "duration": 11,
        "start_time": "2023-02-22T06:42:33.230Z"
      },
      {
        "duration": 16,
        "start_time": "2023-02-22T06:42:33.719Z"
      },
      {
        "duration": 110,
        "start_time": "2023-02-22T06:54:57.183Z"
      },
      {
        "duration": 2,
        "start_time": "2023-02-22T06:55:10.070Z"
      },
      {
        "duration": 10,
        "start_time": "2023-02-22T06:55:10.507Z"
      },
      {
        "duration": 16,
        "start_time": "2023-02-22T06:55:29.356Z"
      },
      {
        "duration": 20,
        "start_time": "2023-02-22T06:55:31.929Z"
      },
      {
        "duration": 2053,
        "start_time": "2023-02-22T07:16:26.354Z"
      },
      {
        "duration": 1632,
        "start_time": "2023-02-22T07:16:28.410Z"
      },
      {
        "duration": 39,
        "start_time": "2023-02-22T07:16:30.044Z"
      },
      {
        "duration": 16,
        "start_time": "2023-02-22T07:16:30.085Z"
      },
      {
        "duration": 26,
        "start_time": "2023-02-22T07:16:30.103Z"
      },
      {
        "duration": 5,
        "start_time": "2023-02-22T07:16:30.131Z"
      },
      {
        "duration": 35,
        "start_time": "2023-02-22T07:16:30.138Z"
      },
      {
        "duration": 34,
        "start_time": "2023-02-22T07:16:30.175Z"
      },
      {
        "duration": 97,
        "start_time": "2023-02-22T07:16:30.211Z"
      },
      {
        "duration": 12,
        "start_time": "2023-02-22T07:16:30.312Z"
      },
      {
        "duration": 30,
        "start_time": "2023-02-22T07:16:30.326Z"
      },
      {
        "duration": 59,
        "start_time": "2023-02-22T07:16:30.358Z"
      },
      {
        "duration": 76,
        "start_time": "2023-02-22T07:16:30.418Z"
      },
      {
        "duration": 0,
        "start_time": "2023-02-22T07:16:30.498Z"
      },
      {
        "duration": 0,
        "start_time": "2023-02-22T07:16:30.500Z"
      },
      {
        "duration": 0,
        "start_time": "2023-02-22T07:16:30.501Z"
      },
      {
        "duration": 0,
        "start_time": "2023-02-22T07:16:30.502Z"
      },
      {
        "duration": 0,
        "start_time": "2023-02-22T07:16:30.504Z"
      },
      {
        "duration": 0,
        "start_time": "2023-02-22T07:16:30.505Z"
      },
      {
        "duration": 0,
        "start_time": "2023-02-22T07:16:30.506Z"
      },
      {
        "duration": 0,
        "start_time": "2023-02-22T07:16:30.507Z"
      },
      {
        "duration": 0,
        "start_time": "2023-02-22T07:16:30.508Z"
      },
      {
        "duration": 0,
        "start_time": "2023-02-22T07:16:30.509Z"
      },
      {
        "duration": 0,
        "start_time": "2023-02-22T07:16:30.510Z"
      },
      {
        "duration": 0,
        "start_time": "2023-02-22T07:16:30.511Z"
      },
      {
        "duration": 0,
        "start_time": "2023-02-22T07:16:30.512Z"
      },
      {
        "duration": 0,
        "start_time": "2023-02-22T07:16:30.513Z"
      },
      {
        "duration": 0,
        "start_time": "2023-02-22T07:16:30.514Z"
      },
      {
        "duration": 0,
        "start_time": "2023-02-22T07:16:30.515Z"
      },
      {
        "duration": 0,
        "start_time": "2023-02-22T07:16:30.516Z"
      },
      {
        "duration": 0,
        "start_time": "2023-02-22T07:16:30.517Z"
      },
      {
        "duration": 0,
        "start_time": "2023-02-22T07:16:30.518Z"
      },
      {
        "duration": 0,
        "start_time": "2023-02-22T07:16:30.519Z"
      },
      {
        "duration": 0,
        "start_time": "2023-02-22T07:16:30.520Z"
      },
      {
        "duration": 0,
        "start_time": "2023-02-22T07:16:30.521Z"
      },
      {
        "duration": 0,
        "start_time": "2023-02-22T07:16:30.522Z"
      },
      {
        "duration": 0,
        "start_time": "2023-02-22T07:16:30.524Z"
      },
      {
        "duration": 0,
        "start_time": "2023-02-22T07:16:30.525Z"
      },
      {
        "duration": 0,
        "start_time": "2023-02-22T07:16:30.526Z"
      },
      {
        "duration": 0,
        "start_time": "2023-02-22T07:16:30.527Z"
      },
      {
        "duration": 0,
        "start_time": "2023-02-22T07:16:30.529Z"
      },
      {
        "duration": 0,
        "start_time": "2023-02-22T07:16:30.530Z"
      },
      {
        "duration": 0,
        "start_time": "2023-02-22T07:16:30.531Z"
      },
      {
        "duration": 0,
        "start_time": "2023-02-22T07:16:30.586Z"
      },
      {
        "duration": 0,
        "start_time": "2023-02-22T07:16:30.587Z"
      },
      {
        "duration": 0,
        "start_time": "2023-02-22T07:16:30.589Z"
      },
      {
        "duration": 0,
        "start_time": "2023-02-22T07:16:30.590Z"
      },
      {
        "duration": 3,
        "start_time": "2023-02-22T07:16:48.071Z"
      },
      {
        "duration": 12,
        "start_time": "2023-02-22T07:16:48.303Z"
      },
      {
        "duration": 6,
        "start_time": "2023-02-22T07:16:51.014Z"
      },
      {
        "duration": 13,
        "start_time": "2023-02-22T07:16:54.447Z"
      },
      {
        "duration": 4,
        "start_time": "2023-02-22T07:17:04.224Z"
      },
      {
        "duration": 21,
        "start_time": "2023-02-22T07:17:05.451Z"
      },
      {
        "duration": 21,
        "start_time": "2023-02-22T07:17:06.050Z"
      },
      {
        "duration": 48,
        "start_time": "2023-02-22T07:31:36.157Z"
      },
      {
        "duration": 2006,
        "start_time": "2023-02-22T07:32:13.296Z"
      },
      {
        "duration": 1486,
        "start_time": "2023-02-22T07:32:15.304Z"
      },
      {
        "duration": 37,
        "start_time": "2023-02-22T07:32:16.791Z"
      },
      {
        "duration": 19,
        "start_time": "2023-02-22T07:32:16.831Z"
      },
      {
        "duration": 29,
        "start_time": "2023-02-22T07:32:16.852Z"
      },
      {
        "duration": 5,
        "start_time": "2023-02-22T07:32:16.883Z"
      },
      {
        "duration": 16,
        "start_time": "2023-02-22T07:32:16.890Z"
      },
      {
        "duration": 17,
        "start_time": "2023-02-22T07:32:16.908Z"
      },
      {
        "duration": 79,
        "start_time": "2023-02-22T07:32:16.926Z"
      },
      {
        "duration": 18,
        "start_time": "2023-02-22T07:32:17.007Z"
      },
      {
        "duration": 25,
        "start_time": "2023-02-22T07:32:17.027Z"
      },
      {
        "duration": 9,
        "start_time": "2023-02-22T07:32:17.054Z"
      },
      {
        "duration": 73,
        "start_time": "2023-02-22T07:32:17.065Z"
      },
      {
        "duration": 0,
        "start_time": "2023-02-22T07:32:17.141Z"
      },
      {
        "duration": 0,
        "start_time": "2023-02-22T07:32:17.142Z"
      },
      {
        "duration": 0,
        "start_time": "2023-02-22T07:32:17.144Z"
      },
      {
        "duration": 0,
        "start_time": "2023-02-22T07:32:17.146Z"
      },
      {
        "duration": 0,
        "start_time": "2023-02-22T07:32:17.147Z"
      },
      {
        "duration": 1,
        "start_time": "2023-02-22T07:32:17.147Z"
      },
      {
        "duration": 0,
        "start_time": "2023-02-22T07:32:17.151Z"
      },
      {
        "duration": 0,
        "start_time": "2023-02-22T07:32:17.152Z"
      },
      {
        "duration": 0,
        "start_time": "2023-02-22T07:32:17.154Z"
      },
      {
        "duration": 0,
        "start_time": "2023-02-22T07:32:17.155Z"
      },
      {
        "duration": 0,
        "start_time": "2023-02-22T07:32:17.157Z"
      },
      {
        "duration": 0,
        "start_time": "2023-02-22T07:32:17.158Z"
      },
      {
        "duration": 0,
        "start_time": "2023-02-22T07:32:17.160Z"
      },
      {
        "duration": 0,
        "start_time": "2023-02-22T07:32:17.161Z"
      },
      {
        "duration": 0,
        "start_time": "2023-02-22T07:32:17.163Z"
      },
      {
        "duration": 0,
        "start_time": "2023-02-22T07:32:17.165Z"
      },
      {
        "duration": 0,
        "start_time": "2023-02-22T07:32:17.166Z"
      },
      {
        "duration": 0,
        "start_time": "2023-02-22T07:32:17.168Z"
      },
      {
        "duration": 0,
        "start_time": "2023-02-22T07:32:17.169Z"
      },
      {
        "duration": 0,
        "start_time": "2023-02-22T07:32:17.171Z"
      },
      {
        "duration": 0,
        "start_time": "2023-02-22T07:32:17.173Z"
      },
      {
        "duration": 0,
        "start_time": "2023-02-22T07:32:17.175Z"
      },
      {
        "duration": 0,
        "start_time": "2023-02-22T07:32:17.176Z"
      },
      {
        "duration": 0,
        "start_time": "2023-02-22T07:32:17.178Z"
      },
      {
        "duration": 0,
        "start_time": "2023-02-22T07:32:17.179Z"
      },
      {
        "duration": 0,
        "start_time": "2023-02-22T07:32:17.187Z"
      },
      {
        "duration": 0,
        "start_time": "2023-02-22T07:32:17.188Z"
      },
      {
        "duration": 0,
        "start_time": "2023-02-22T07:32:17.189Z"
      },
      {
        "duration": 0,
        "start_time": "2023-02-22T07:32:17.192Z"
      },
      {
        "duration": 0,
        "start_time": "2023-02-22T07:32:17.194Z"
      },
      {
        "duration": 0,
        "start_time": "2023-02-22T07:32:17.195Z"
      },
      {
        "duration": 0,
        "start_time": "2023-02-22T07:32:17.196Z"
      },
      {
        "duration": 0,
        "start_time": "2023-02-22T07:32:17.199Z"
      },
      {
        "duration": 3,
        "start_time": "2023-02-22T07:32:31.328Z"
      },
      {
        "duration": 11,
        "start_time": "2023-02-22T07:32:31.635Z"
      },
      {
        "duration": 8,
        "start_time": "2023-02-22T07:32:33.078Z"
      },
      {
        "duration": 12,
        "start_time": "2023-02-22T07:32:35.950Z"
      },
      {
        "duration": 4,
        "start_time": "2023-02-22T07:32:37.696Z"
      },
      {
        "duration": 25,
        "start_time": "2023-02-22T07:32:46.040Z"
      },
      {
        "duration": 528,
        "start_time": "2023-02-22T07:32:56.257Z"
      },
      {
        "duration": 3,
        "start_time": "2023-02-22T07:33:00.979Z"
      },
      {
        "duration": 411,
        "start_time": "2023-02-22T07:33:02.651Z"
      },
      {
        "duration": 4504,
        "start_time": "2023-02-22T07:33:14.316Z"
      },
      {
        "duration": 18,
        "start_time": "2023-02-22T07:35:12.127Z"
      },
      {
        "duration": 4276,
        "start_time": "2023-02-22T07:35:25.842Z"
      },
      {
        "duration": 78,
        "start_time": "2023-02-22T07:37:01.221Z"
      },
      {
        "duration": 0,
        "start_time": "2023-02-22T07:37:01.302Z"
      },
      {
        "duration": 0,
        "start_time": "2023-02-22T07:37:01.304Z"
      },
      {
        "duration": 0,
        "start_time": "2023-02-22T07:37:01.305Z"
      },
      {
        "duration": 0,
        "start_time": "2023-02-22T07:37:01.306Z"
      },
      {
        "duration": 0,
        "start_time": "2023-02-22T07:37:01.308Z"
      },
      {
        "duration": 0,
        "start_time": "2023-02-22T07:37:01.309Z"
      },
      {
        "duration": 0,
        "start_time": "2023-02-22T07:37:01.311Z"
      },
      {
        "duration": 0,
        "start_time": "2023-02-22T07:37:01.312Z"
      },
      {
        "duration": 0,
        "start_time": "2023-02-22T07:37:01.314Z"
      },
      {
        "duration": 0,
        "start_time": "2023-02-22T07:37:01.315Z"
      },
      {
        "duration": 0,
        "start_time": "2023-02-22T07:37:01.316Z"
      },
      {
        "duration": 0,
        "start_time": "2023-02-22T07:37:01.317Z"
      },
      {
        "duration": 0,
        "start_time": "2023-02-22T07:37:01.318Z"
      },
      {
        "duration": 0,
        "start_time": "2023-02-22T07:37:01.319Z"
      },
      {
        "duration": 0,
        "start_time": "2023-02-22T07:37:01.320Z"
      },
      {
        "duration": 0,
        "start_time": "2023-02-22T07:37:01.322Z"
      },
      {
        "duration": 0,
        "start_time": "2023-02-22T07:37:01.323Z"
      },
      {
        "duration": 0,
        "start_time": "2023-02-22T07:37:01.324Z"
      },
      {
        "duration": 0,
        "start_time": "2023-02-22T07:37:01.326Z"
      },
      {
        "duration": 0,
        "start_time": "2023-02-22T07:37:01.327Z"
      },
      {
        "duration": 0,
        "start_time": "2023-02-22T07:37:01.328Z"
      },
      {
        "duration": 0,
        "start_time": "2023-02-22T07:37:01.330Z"
      },
      {
        "duration": 1,
        "start_time": "2023-02-22T07:37:01.331Z"
      },
      {
        "duration": 0,
        "start_time": "2023-02-22T07:37:01.333Z"
      },
      {
        "duration": 0,
        "start_time": "2023-02-22T07:37:01.334Z"
      },
      {
        "duration": 0,
        "start_time": "2023-02-22T07:37:01.334Z"
      },
      {
        "duration": 0,
        "start_time": "2023-02-22T07:37:01.336Z"
      },
      {
        "duration": 0,
        "start_time": "2023-02-22T07:37:01.336Z"
      },
      {
        "duration": 105,
        "start_time": "2023-02-22T07:37:01.385Z"
      },
      {
        "duration": 0,
        "start_time": "2023-02-22T07:37:01.493Z"
      },
      {
        "duration": 0,
        "start_time": "2023-02-22T07:37:01.495Z"
      },
      {
        "duration": 1,
        "start_time": "2023-02-22T07:37:01.495Z"
      },
      {
        "duration": 0,
        "start_time": "2023-02-22T07:37:01.497Z"
      },
      {
        "duration": 0,
        "start_time": "2023-02-22T07:37:01.498Z"
      },
      {
        "duration": 0,
        "start_time": "2023-02-22T07:37:01.499Z"
      },
      {
        "duration": 0,
        "start_time": "2023-02-22T07:37:01.501Z"
      },
      {
        "duration": 0,
        "start_time": "2023-02-22T07:37:01.502Z"
      },
      {
        "duration": 0,
        "start_time": "2023-02-22T07:37:01.504Z"
      },
      {
        "duration": 0,
        "start_time": "2023-02-22T07:37:01.505Z"
      },
      {
        "duration": 0,
        "start_time": "2023-02-22T07:37:01.506Z"
      },
      {
        "duration": 0,
        "start_time": "2023-02-22T07:37:01.507Z"
      },
      {
        "duration": 0,
        "start_time": "2023-02-22T07:37:01.508Z"
      },
      {
        "duration": 0,
        "start_time": "2023-02-22T07:37:01.509Z"
      },
      {
        "duration": 2206,
        "start_time": "2023-02-22T07:37:11.518Z"
      },
      {
        "duration": 2461,
        "start_time": "2023-02-22T07:37:14.893Z"
      },
      {
        "duration": 69,
        "start_time": "2023-02-22T07:37:20.417Z"
      },
      {
        "duration": 18,
        "start_time": "2023-02-22T07:37:22.802Z"
      },
      {
        "duration": 25,
        "start_time": "2023-02-22T07:37:23.323Z"
      },
      {
        "duration": 5,
        "start_time": "2023-02-22T07:37:27.700Z"
      },
      {
        "duration": 10,
        "start_time": "2023-02-22T07:37:27.996Z"
      },
      {
        "duration": 8,
        "start_time": "2023-02-22T07:37:29.019Z"
      },
      {
        "duration": 67,
        "start_time": "2023-02-22T07:37:31.193Z"
      },
      {
        "duration": 15,
        "start_time": "2023-02-22T07:37:31.557Z"
      },
      {
        "duration": 4,
        "start_time": "2023-02-22T07:37:36.221Z"
      },
      {
        "duration": 5,
        "start_time": "2023-02-22T07:37:37.173Z"
      },
      {
        "duration": 10,
        "start_time": "2023-02-22T07:38:49.164Z"
      },
      {
        "duration": 16,
        "start_time": "2023-02-22T07:38:49.312Z"
      },
      {
        "duration": 3,
        "start_time": "2023-02-22T07:40:55.568Z"
      },
      {
        "duration": 9,
        "start_time": "2023-02-22T07:40:55.764Z"
      },
      {
        "duration": 7,
        "start_time": "2023-02-22T07:41:00.287Z"
      },
      {
        "duration": 71,
        "start_time": "2023-02-22T07:42:58.965Z"
      },
      {
        "duration": 70,
        "start_time": "2023-02-22T07:43:03.124Z"
      },
      {
        "duration": 2,
        "start_time": "2023-02-22T07:43:19.558Z"
      },
      {
        "duration": 6,
        "start_time": "2023-02-22T07:43:19.758Z"
      },
      {
        "duration": 25,
        "start_time": "2023-02-22T07:43:22.101Z"
      },
      {
        "duration": 11,
        "start_time": "2023-02-22T07:43:22.312Z"
      },
      {
        "duration": 7,
        "start_time": "2023-02-22T07:44:01.062Z"
      },
      {
        "duration": 3,
        "start_time": "2023-02-22T07:45:34.613Z"
      },
      {
        "duration": 367,
        "start_time": "2023-02-22T07:45:46.601Z"
      },
      {
        "duration": 36501,
        "start_time": "2023-02-22T07:45:57.261Z"
      },
      {
        "duration": 352,
        "start_time": "2023-02-22T07:48:46.837Z"
      },
      {
        "duration": 36133,
        "start_time": "2023-02-22T07:48:48.886Z"
      },
      {
        "duration": 5075,
        "start_time": "2023-02-22T07:59:43.322Z"
      },
      {
        "duration": 4,
        "start_time": "2023-02-22T07:59:56.587Z"
      },
      {
        "duration": 4,
        "start_time": "2023-02-22T08:00:02.283Z"
      },
      {
        "duration": 364,
        "start_time": "2023-02-22T08:08:43.296Z"
      },
      {
        "duration": 49529,
        "start_time": "2023-02-22T08:08:45.672Z"
      },
      {
        "duration": 5487,
        "start_time": "2023-02-22T08:09:52.725Z"
      },
      {
        "duration": 5,
        "start_time": "2023-02-22T08:10:01.976Z"
      },
      {
        "duration": 6,
        "start_time": "2023-02-22T08:19:53.401Z"
      },
      {
        "duration": 13,
        "start_time": "2023-02-22T08:19:53.747Z"
      },
      {
        "duration": 7,
        "start_time": "2023-02-22T08:19:54.209Z"
      },
      {
        "duration": 289,
        "start_time": "2023-02-22T08:21:00.481Z"
      },
      {
        "duration": 31326,
        "start_time": "2023-02-22T08:21:07.399Z"
      },
      {
        "duration": 4807,
        "start_time": "2023-02-22T08:22:22.199Z"
      },
      {
        "duration": 4,
        "start_time": "2023-02-22T08:22:27.008Z"
      },
      {
        "duration": 70,
        "start_time": "2023-02-22T08:25:18.762Z"
      },
      {
        "duration": 3,
        "start_time": "2023-02-22T08:25:26.900Z"
      },
      {
        "duration": 19,
        "start_time": "2023-02-22T08:26:41.709Z"
      },
      {
        "duration": 147,
        "start_time": "2023-02-22T08:29:19.615Z"
      },
      {
        "duration": 8,
        "start_time": "2023-02-22T08:29:24.086Z"
      },
      {
        "duration": 118,
        "start_time": "2023-02-22T08:30:36.241Z"
      },
      {
        "duration": 64,
        "start_time": "2023-02-22T10:24:32.325Z"
      },
      {
        "duration": 7,
        "start_time": "2023-02-22T10:35:19.535Z"
      },
      {
        "duration": 5,
        "start_time": "2023-02-22T10:35:40.329Z"
      },
      {
        "duration": 5,
        "start_time": "2023-02-22T10:35:44.624Z"
      },
      {
        "duration": 4,
        "start_time": "2023-02-22T10:36:00.468Z"
      },
      {
        "duration": 82,
        "start_time": "2023-02-22T10:36:07.100Z"
      },
      {
        "duration": 4,
        "start_time": "2023-02-22T10:36:10.966Z"
      },
      {
        "duration": 3,
        "start_time": "2023-02-22T10:44:05.724Z"
      },
      {
        "duration": 11,
        "start_time": "2023-02-22T10:44:53.467Z"
      },
      {
        "duration": 6,
        "start_time": "2023-02-22T10:45:01.635Z"
      },
      {
        "duration": 6,
        "start_time": "2023-02-22T10:49:36.499Z"
      },
      {
        "duration": 3,
        "start_time": "2023-02-22T10:49:43.523Z"
      },
      {
        "duration": 242,
        "start_time": "2023-02-22T10:49:43.911Z"
      },
      {
        "duration": 258,
        "start_time": "2023-02-22T10:51:28.584Z"
      },
      {
        "duration": 238,
        "start_time": "2023-02-22T10:51:34.112Z"
      },
      {
        "duration": 5,
        "start_time": "2023-02-22T10:51:45.119Z"
      },
      {
        "duration": 13,
        "start_time": "2023-02-22T10:54:09.255Z"
      },
      {
        "duration": 76,
        "start_time": "2023-02-22T10:55:35.902Z"
      },
      {
        "duration": 3,
        "start_time": "2023-02-22T10:56:24.639Z"
      },
      {
        "duration": 9,
        "start_time": "2023-02-22T10:57:27.696Z"
      },
      {
        "duration": 8,
        "start_time": "2023-02-22T10:57:35.948Z"
      },
      {
        "duration": 130,
        "start_time": "2023-02-22T10:58:14.102Z"
      },
      {
        "duration": 6,
        "start_time": "2023-02-22T11:01:19.992Z"
      },
      {
        "duration": 248,
        "start_time": "2023-02-22T11:01:20.277Z"
      },
      {
        "duration": 142,
        "start_time": "2023-02-22T11:15:29.773Z"
      },
      {
        "duration": 16,
        "start_time": "2023-02-22T11:17:16.387Z"
      },
      {
        "duration": 153,
        "start_time": "2023-02-22T11:31:53.112Z"
      },
      {
        "duration": 148,
        "start_time": "2023-02-22T11:31:57.845Z"
      },
      {
        "duration": 3975,
        "start_time": "2023-02-22T11:32:39.819Z"
      },
      {
        "duration": 4739,
        "start_time": "2023-02-22T11:32:43.797Z"
      },
      {
        "duration": 89,
        "start_time": "2023-02-22T11:32:48.538Z"
      },
      {
        "duration": 17,
        "start_time": "2023-02-22T11:32:48.629Z"
      },
      {
        "duration": 21,
        "start_time": "2023-02-22T11:32:48.648Z"
      },
      {
        "duration": 5,
        "start_time": "2023-02-22T11:32:48.670Z"
      },
      {
        "duration": 29,
        "start_time": "2023-02-22T11:32:48.676Z"
      },
      {
        "duration": 30,
        "start_time": "2023-02-22T11:32:48.707Z"
      },
      {
        "duration": 144,
        "start_time": "2023-02-22T11:32:48.738Z"
      },
      {
        "duration": 15,
        "start_time": "2023-02-22T11:32:48.884Z"
      },
      {
        "duration": 5,
        "start_time": "2023-02-22T11:32:48.901Z"
      },
      {
        "duration": 20,
        "start_time": "2023-02-22T11:32:48.908Z"
      },
      {
        "duration": 18,
        "start_time": "2023-02-22T11:32:48.930Z"
      },
      {
        "duration": 14,
        "start_time": "2023-02-22T11:32:48.951Z"
      },
      {
        "duration": 13,
        "start_time": "2023-02-22T11:32:48.967Z"
      },
      {
        "duration": 18,
        "start_time": "2023-02-22T11:32:48.982Z"
      },
      {
        "duration": 8,
        "start_time": "2023-02-22T11:32:49.003Z"
      },
      {
        "duration": 7,
        "start_time": "2023-02-22T11:32:49.013Z"
      },
      {
        "duration": 18,
        "start_time": "2023-02-22T11:32:49.022Z"
      },
      {
        "duration": 31,
        "start_time": "2023-02-22T11:32:49.042Z"
      },
      {
        "duration": 15,
        "start_time": "2023-02-22T11:32:49.085Z"
      },
      {
        "duration": 24,
        "start_time": "2023-02-22T11:32:49.102Z"
      },
      {
        "duration": 4,
        "start_time": "2023-02-22T11:32:49.128Z"
      },
      {
        "duration": 427,
        "start_time": "2023-02-22T11:32:49.134Z"
      },
      {
        "duration": 35511,
        "start_time": "2023-02-22T11:32:49.563Z"
      },
      {
        "duration": 4462,
        "start_time": "2023-02-22T11:33:25.077Z"
      },
      {
        "duration": 6,
        "start_time": "2023-02-22T11:33:29.541Z"
      },
      {
        "duration": 406,
        "start_time": "2023-02-22T11:33:29.549Z"
      },
      {
        "duration": 46951,
        "start_time": "2023-02-22T11:33:29.957Z"
      },
      {
        "duration": 4427,
        "start_time": "2023-02-22T11:34:16.910Z"
      },
      {
        "duration": 4,
        "start_time": "2023-02-22T11:34:21.339Z"
      },
      {
        "duration": 13,
        "start_time": "2023-02-22T11:34:21.344Z"
      },
      {
        "duration": 14,
        "start_time": "2023-02-22T11:34:21.359Z"
      },
      {
        "duration": 7,
        "start_time": "2023-02-22T11:34:21.375Z"
      },
      {
        "duration": 268,
        "start_time": "2023-02-22T11:34:21.384Z"
      },
      {
        "duration": 31656,
        "start_time": "2023-02-22T11:34:21.653Z"
      },
      {
        "duration": 4618,
        "start_time": "2023-02-22T11:34:53.311Z"
      },
      {
        "duration": 4,
        "start_time": "2023-02-22T11:34:57.931Z"
      },
      {
        "duration": 16,
        "start_time": "2023-02-22T11:34:57.937Z"
      },
      {
        "duration": 15,
        "start_time": "2023-02-22T11:34:57.955Z"
      },
      {
        "duration": 192,
        "start_time": "2023-02-22T11:34:57.973Z"
      },
      {
        "duration": 122,
        "start_time": "2023-02-22T11:34:58.166Z"
      },
      {
        "duration": 46,
        "start_time": "2023-02-24T04:26:42.279Z"
      },
      {
        "duration": 2808,
        "start_time": "2023-02-24T04:26:52.957Z"
      },
      {
        "duration": 1639,
        "start_time": "2023-02-24T04:26:55.767Z"
      },
      {
        "duration": 173,
        "start_time": "2023-02-24T04:26:57.408Z"
      },
      {
        "duration": 13,
        "start_time": "2023-02-24T04:26:57.583Z"
      },
      {
        "duration": 21,
        "start_time": "2023-02-24T04:26:57.598Z"
      },
      {
        "duration": 5,
        "start_time": "2023-02-24T04:26:57.620Z"
      },
      {
        "duration": 16,
        "start_time": "2023-02-24T04:26:57.626Z"
      },
      {
        "duration": 8,
        "start_time": "2023-02-24T04:26:57.643Z"
      },
      {
        "duration": 87,
        "start_time": "2023-02-24T04:26:57.653Z"
      },
      {
        "duration": 12,
        "start_time": "2023-02-24T04:26:57.742Z"
      },
      {
        "duration": 3,
        "start_time": "2023-02-24T04:26:57.756Z"
      },
      {
        "duration": 12,
        "start_time": "2023-02-24T04:26:57.760Z"
      },
      {
        "duration": 18,
        "start_time": "2023-02-24T04:26:57.773Z"
      },
      {
        "duration": 10,
        "start_time": "2023-02-24T04:26:57.793Z"
      },
      {
        "duration": 14,
        "start_time": "2023-02-24T04:26:57.805Z"
      },
      {
        "duration": 12,
        "start_time": "2023-02-24T04:26:57.820Z"
      },
      {
        "duration": 6,
        "start_time": "2023-02-24T04:26:57.833Z"
      },
      {
        "duration": 8,
        "start_time": "2023-02-24T04:26:57.840Z"
      },
      {
        "duration": 7,
        "start_time": "2023-02-24T04:26:57.850Z"
      },
      {
        "duration": 23,
        "start_time": "2023-02-24T04:26:57.859Z"
      },
      {
        "duration": 12,
        "start_time": "2023-02-24T04:26:57.884Z"
      },
      {
        "duration": 14,
        "start_time": "2023-02-24T04:26:57.898Z"
      },
      {
        "duration": 8,
        "start_time": "2023-02-24T04:26:57.914Z"
      },
      {
        "duration": 377,
        "start_time": "2023-02-24T04:26:57.924Z"
      },
      {
        "duration": 34975,
        "start_time": "2023-02-24T04:26:58.302Z"
      },
      {
        "duration": 4036,
        "start_time": "2023-02-24T04:27:33.279Z"
      },
      {
        "duration": 105,
        "start_time": "2023-02-24T04:27:37.316Z"
      },
      {
        "duration": 0,
        "start_time": "2023-02-24T04:27:37.423Z"
      },
      {
        "duration": 0,
        "start_time": "2023-02-24T04:27:37.424Z"
      },
      {
        "duration": 0,
        "start_time": "2023-02-24T04:27:37.425Z"
      },
      {
        "duration": 1,
        "start_time": "2023-02-24T04:27:37.426Z"
      },
      {
        "duration": 0,
        "start_time": "2023-02-24T04:27:37.427Z"
      },
      {
        "duration": 0,
        "start_time": "2023-02-24T04:27:37.428Z"
      },
      {
        "duration": 0,
        "start_time": "2023-02-24T04:27:37.429Z"
      },
      {
        "duration": 0,
        "start_time": "2023-02-24T04:27:37.430Z"
      },
      {
        "duration": 0,
        "start_time": "2023-02-24T04:27:37.431Z"
      },
      {
        "duration": 0,
        "start_time": "2023-02-24T04:27:37.432Z"
      },
      {
        "duration": 0,
        "start_time": "2023-02-24T04:27:37.449Z"
      },
      {
        "duration": 0,
        "start_time": "2023-02-24T04:27:37.451Z"
      },
      {
        "duration": 0,
        "start_time": "2023-02-24T04:27:37.452Z"
      },
      {
        "duration": 0,
        "start_time": "2023-02-24T04:27:37.453Z"
      },
      {
        "duration": 0,
        "start_time": "2023-02-24T04:27:37.455Z"
      },
      {
        "duration": 0,
        "start_time": "2023-02-24T04:27:37.456Z"
      },
      {
        "duration": 4,
        "start_time": "2023-02-24T04:28:12.491Z"
      },
      {
        "duration": 9,
        "start_time": "2023-02-24T04:28:23.361Z"
      },
      {
        "duration": 52,
        "start_time": "2023-02-24T04:30:31.015Z"
      },
      {
        "duration": 1212,
        "start_time": "2023-02-24T04:30:40.636Z"
      },
      {
        "duration": 11,
        "start_time": "2023-02-24T04:30:59.451Z"
      },
      {
        "duration": 53,
        "start_time": "2023-02-24T04:31:05.702Z"
      },
      {
        "duration": 3935,
        "start_time": "2023-02-24T04:31:18.064Z"
      },
      {
        "duration": 3,
        "start_time": "2023-02-24T04:32:06.138Z"
      },
      {
        "duration": 370,
        "start_time": "2023-02-24T04:38:46.217Z"
      },
      {
        "duration": 7,
        "start_time": "2023-02-24T04:38:47.366Z"
      },
      {
        "duration": 389,
        "start_time": "2023-02-24T04:41:18.650Z"
      },
      {
        "duration": 373,
        "start_time": "2023-02-24T04:41:33.496Z"
      },
      {
        "duration": 387,
        "start_time": "2023-02-24T04:42:16.496Z"
      },
      {
        "duration": 36593,
        "start_time": "2023-02-24T04:44:15.290Z"
      },
      {
        "duration": 25,
        "start_time": "2023-02-24T04:46:04.555Z"
      },
      {
        "duration": 25,
        "start_time": "2023-02-24T04:46:16.359Z"
      },
      {
        "duration": 25,
        "start_time": "2023-02-24T04:46:27.047Z"
      },
      {
        "duration": 28,
        "start_time": "2023-02-24T04:46:30.873Z"
      },
      {
        "duration": 3990,
        "start_time": "2023-02-24T04:48:46.867Z"
      },
      {
        "duration": 59,
        "start_time": "2023-02-24T04:49:00.964Z"
      },
      {
        "duration": 26,
        "start_time": "2023-02-24T04:49:06.885Z"
      },
      {
        "duration": 7,
        "start_time": "2023-02-24T04:51:33.288Z"
      },
      {
        "duration": 3907,
        "start_time": "2023-02-24T04:52:04.831Z"
      },
      {
        "duration": 9,
        "start_time": "2023-02-24T04:52:24.019Z"
      },
      {
        "duration": 390,
        "start_time": "2023-02-24T04:53:44.793Z"
      },
      {
        "duration": 392,
        "start_time": "2023-02-24T04:53:57.678Z"
      },
      {
        "duration": 392,
        "start_time": "2023-02-24T04:54:01.297Z"
      },
      {
        "duration": 49276,
        "start_time": "2023-02-24T04:55:18.563Z"
      },
      {
        "duration": 4288,
        "start_time": "2023-02-24T05:02:02.189Z"
      },
      {
        "duration": 9,
        "start_time": "2023-02-24T05:02:29.519Z"
      },
      {
        "duration": 2053,
        "start_time": "2023-02-24T05:03:39.429Z"
      },
      {
        "duration": 1355,
        "start_time": "2023-02-24T05:03:41.485Z"
      },
      {
        "duration": 44,
        "start_time": "2023-02-24T05:03:42.842Z"
      },
      {
        "duration": 15,
        "start_time": "2023-02-24T05:03:42.888Z"
      },
      {
        "duration": 18,
        "start_time": "2023-02-24T05:03:42.905Z"
      },
      {
        "duration": 4,
        "start_time": "2023-02-24T05:03:42.924Z"
      },
      {
        "duration": 12,
        "start_time": "2023-02-24T05:03:42.930Z"
      },
      {
        "duration": 9,
        "start_time": "2023-02-24T05:03:42.943Z"
      },
      {
        "duration": 50,
        "start_time": "2023-02-24T05:03:42.953Z"
      },
      {
        "duration": 13,
        "start_time": "2023-02-24T05:03:43.005Z"
      },
      {
        "duration": 3,
        "start_time": "2023-02-24T05:03:43.019Z"
      },
      {
        "duration": 6,
        "start_time": "2023-02-24T05:03:43.024Z"
      },
      {
        "duration": 12,
        "start_time": "2023-02-24T05:03:43.032Z"
      },
      {
        "duration": 10,
        "start_time": "2023-02-24T05:03:43.046Z"
      },
      {
        "duration": 4,
        "start_time": "2023-02-24T05:03:43.058Z"
      },
      {
        "duration": 14,
        "start_time": "2023-02-24T05:03:43.063Z"
      },
      {
        "duration": 5,
        "start_time": "2023-02-24T05:03:43.078Z"
      },
      {
        "duration": 3,
        "start_time": "2023-02-24T05:03:43.085Z"
      },
      {
        "duration": 7,
        "start_time": "2023-02-24T05:03:43.090Z"
      },
      {
        "duration": 21,
        "start_time": "2023-02-24T05:03:43.099Z"
      },
      {
        "duration": 35,
        "start_time": "2023-02-24T05:03:43.121Z"
      },
      {
        "duration": 9,
        "start_time": "2023-02-24T05:03:43.158Z"
      },
      {
        "duration": 3,
        "start_time": "2023-02-24T05:03:43.169Z"
      },
      {
        "duration": 405,
        "start_time": "2023-02-24T05:03:43.174Z"
      },
      {
        "duration": 36485,
        "start_time": "2023-02-24T05:03:43.581Z"
      },
      {
        "duration": 26,
        "start_time": "2023-02-24T05:04:20.068Z"
      },
      {
        "duration": 4078,
        "start_time": "2023-02-24T05:04:20.096Z"
      },
      {
        "duration": 9,
        "start_time": "2023-02-24T05:04:24.179Z"
      },
      {
        "duration": 395,
        "start_time": "2023-02-24T05:04:24.189Z"
      },
      {
        "duration": 49723,
        "start_time": "2023-02-24T05:04:24.586Z"
      },
      {
        "duration": 4218,
        "start_time": "2023-02-24T05:05:14.311Z"
      },
      {
        "duration": 5,
        "start_time": "2023-02-24T05:05:18.531Z"
      },
      {
        "duration": 12,
        "start_time": "2023-02-24T05:05:18.537Z"
      },
      {
        "duration": 5,
        "start_time": "2023-02-24T05:05:18.551Z"
      },
      {
        "duration": 11,
        "start_time": "2023-02-24T05:05:18.558Z"
      },
      {
        "duration": 6,
        "start_time": "2023-02-24T05:05:18.570Z"
      },
      {
        "duration": 336,
        "start_time": "2023-02-24T05:05:18.578Z"
      },
      {
        "duration": 32428,
        "start_time": "2023-02-24T05:05:18.916Z"
      },
      {
        "duration": 3514,
        "start_time": "2023-02-24T05:05:51.345Z"
      },
      {
        "duration": 5,
        "start_time": "2023-02-24T05:05:54.861Z"
      },
      {
        "duration": 8,
        "start_time": "2023-02-24T05:05:54.867Z"
      },
      {
        "duration": 11,
        "start_time": "2023-02-24T05:05:54.876Z"
      },
      {
        "duration": 173,
        "start_time": "2023-02-24T05:05:54.888Z"
      },
      {
        "duration": 147,
        "start_time": "2023-02-24T05:05:55.063Z"
      },
      {
        "duration": 8,
        "start_time": "2023-02-24T05:12:08.921Z"
      },
      {
        "duration": 50039,
        "start_time": "2023-02-24T05:12:20.143Z"
      },
      {
        "duration": 391,
        "start_time": "2023-02-24T05:13:34.487Z"
      },
      {
        "duration": 8,
        "start_time": "2023-02-24T05:13:55.826Z"
      },
      {
        "duration": 36798,
        "start_time": "2023-02-24T05:14:13.466Z"
      },
      {
        "duration": 383,
        "start_time": "2023-02-24T05:15:17.581Z"
      },
      {
        "duration": 280,
        "start_time": "2023-02-24T05:23:18.110Z"
      },
      {
        "duration": 31489,
        "start_time": "2023-02-24T05:23:55.921Z"
      },
      {
        "duration": 3763,
        "start_time": "2023-02-24T05:25:18.103Z"
      },
      {
        "duration": 8,
        "start_time": "2023-02-24T05:25:40.840Z"
      },
      {
        "duration": 131,
        "start_time": "2023-02-24T08:14:11.826Z"
      },
      {
        "duration": 39,
        "start_time": "2023-02-24T08:14:41.559Z"
      },
      {
        "duration": 54,
        "start_time": "2023-02-25T06:19:07.197Z"
      },
      {
        "duration": 3269,
        "start_time": "2023-02-25T06:19:15.120Z"
      },
      {
        "duration": 1620,
        "start_time": "2023-02-25T06:19:18.392Z"
      },
      {
        "duration": 172,
        "start_time": "2023-02-25T06:19:20.014Z"
      },
      {
        "duration": 14,
        "start_time": "2023-02-25T06:19:20.188Z"
      },
      {
        "duration": 19,
        "start_time": "2023-02-25T06:19:20.203Z"
      },
      {
        "duration": 4,
        "start_time": "2023-02-25T06:19:20.223Z"
      },
      {
        "duration": 25,
        "start_time": "2023-02-25T06:19:20.229Z"
      },
      {
        "duration": 9,
        "start_time": "2023-02-25T06:19:20.256Z"
      },
      {
        "duration": 92,
        "start_time": "2023-02-25T06:19:20.267Z"
      },
      {
        "duration": 13,
        "start_time": "2023-02-25T06:19:20.363Z"
      },
      {
        "duration": 10,
        "start_time": "2023-02-25T06:19:20.377Z"
      },
      {
        "duration": 38,
        "start_time": "2023-02-25T06:19:20.389Z"
      },
      {
        "duration": 22,
        "start_time": "2023-02-25T06:19:20.429Z"
      },
      {
        "duration": 22,
        "start_time": "2023-02-25T06:19:20.453Z"
      },
      {
        "duration": 18,
        "start_time": "2023-02-25T06:19:20.478Z"
      },
      {
        "duration": 21,
        "start_time": "2023-02-25T06:19:20.499Z"
      },
      {
        "duration": 10,
        "start_time": "2023-02-25T06:19:20.522Z"
      },
      {
        "duration": 37,
        "start_time": "2023-02-25T06:19:20.533Z"
      },
      {
        "duration": 22,
        "start_time": "2023-02-25T06:19:20.572Z"
      },
      {
        "duration": 33,
        "start_time": "2023-02-25T06:19:20.596Z"
      },
      {
        "duration": 22,
        "start_time": "2023-02-25T06:19:20.632Z"
      },
      {
        "duration": 18,
        "start_time": "2023-02-25T06:19:20.657Z"
      },
      {
        "duration": 15,
        "start_time": "2023-02-25T06:19:20.677Z"
      },
      {
        "duration": 424,
        "start_time": "2023-02-25T06:19:20.694Z"
      },
      {
        "duration": 39383,
        "start_time": "2023-02-25T06:19:21.120Z"
      },
      {
        "duration": 4456,
        "start_time": "2023-02-25T06:20:00.505Z"
      },
      {
        "duration": 9,
        "start_time": "2023-02-25T06:20:04.964Z"
      },
      {
        "duration": 422,
        "start_time": "2023-02-25T06:20:04.977Z"
      },
      {
        "duration": 51515,
        "start_time": "2023-02-25T06:20:05.401Z"
      },
      {
        "duration": 4234,
        "start_time": "2023-02-25T06:20:56.917Z"
      },
      {
        "duration": 9,
        "start_time": "2023-02-25T06:21:01.153Z"
      },
      {
        "duration": 24,
        "start_time": "2023-02-25T06:21:01.164Z"
      },
      {
        "duration": 41,
        "start_time": "2023-02-25T06:21:01.190Z"
      },
      {
        "duration": 40,
        "start_time": "2023-02-25T06:21:01.233Z"
      },
      {
        "duration": 356,
        "start_time": "2023-02-25T06:21:01.275Z"
      },
      {
        "duration": 33506,
        "start_time": "2023-02-25T06:21:01.632Z"
      },
      {
        "duration": 3467,
        "start_time": "2023-02-25T06:21:35.140Z"
      },
      {
        "duration": 8,
        "start_time": "2023-02-25T06:21:38.608Z"
      },
      {
        "duration": 21,
        "start_time": "2023-02-25T06:21:38.617Z"
      },
      {
        "duration": 13,
        "start_time": "2023-02-25T06:21:38.640Z"
      },
      {
        "duration": 158,
        "start_time": "2023-02-25T06:21:38.654Z"
      },
      {
        "duration": 131,
        "start_time": "2023-02-25T06:21:38.814Z"
      },
      {
        "duration": 132,
        "start_time": "2023-02-25T06:31:22.504Z"
      },
      {
        "duration": 11,
        "start_time": "2023-02-25T06:31:24.773Z"
      },
      {
        "duration": 9,
        "start_time": "2023-02-25T06:31:27.725Z"
      },
      {
        "duration": 4,
        "start_time": "2023-02-25T06:46:34.672Z"
      },
      {
        "duration": 5,
        "start_time": "2023-02-25T06:46:37.285Z"
      },
      {
        "duration": 11,
        "start_time": "2023-02-25T07:07:36.971Z"
      },
      {
        "duration": 9,
        "start_time": "2023-02-25T07:07:52.111Z"
      },
      {
        "duration": 3,
        "start_time": "2023-02-25T07:08:14.457Z"
      },
      {
        "duration": 7,
        "start_time": "2023-02-25T07:08:17.020Z"
      },
      {
        "duration": 8,
        "start_time": "2023-02-25T07:15:21.775Z"
      },
      {
        "duration": 6,
        "start_time": "2023-02-25T07:16:39.572Z"
      },
      {
        "duration": 19,
        "start_time": "2023-02-25T07:19:45.470Z"
      },
      {
        "duration": 8,
        "start_time": "2023-02-25T07:20:02.861Z"
      },
      {
        "duration": 4,
        "start_time": "2023-02-25T07:24:31.804Z"
      },
      {
        "duration": 8,
        "start_time": "2023-02-25T07:27:35.486Z"
      },
      {
        "duration": 7,
        "start_time": "2023-02-25T07:51:34.145Z"
      },
      {
        "duration": 8,
        "start_time": "2023-02-25T07:52:11.052Z"
      },
      {
        "duration": 7,
        "start_time": "2023-02-25T07:55:18.523Z"
      },
      {
        "duration": 7,
        "start_time": "2023-02-25T07:57:24.864Z"
      },
      {
        "duration": 8,
        "start_time": "2023-02-25T07:57:32.857Z"
      },
      {
        "duration": 7,
        "start_time": "2023-02-25T08:07:41.244Z"
      },
      {
        "duration": 6,
        "start_time": "2023-02-25T08:08:00.028Z"
      },
      {
        "duration": 9,
        "start_time": "2023-02-25T08:08:20.862Z"
      },
      {
        "duration": 9,
        "start_time": "2023-02-25T08:08:54.565Z"
      },
      {
        "duration": 8,
        "start_time": "2023-02-25T08:09:18.170Z"
      },
      {
        "duration": 7,
        "start_time": "2023-02-25T08:09:25.781Z"
      },
      {
        "duration": 105,
        "start_time": "2023-02-25T08:16:13.907Z"
      },
      {
        "duration": 2363,
        "start_time": "2023-02-25T08:34:51.217Z"
      },
      {
        "duration": 1474,
        "start_time": "2023-02-25T08:34:53.583Z"
      },
      {
        "duration": 42,
        "start_time": "2023-02-25T08:34:55.059Z"
      },
      {
        "duration": 14,
        "start_time": "2023-02-25T08:34:55.103Z"
      },
      {
        "duration": 20,
        "start_time": "2023-02-25T08:34:55.119Z"
      },
      {
        "duration": 6,
        "start_time": "2023-02-25T08:34:55.141Z"
      },
      {
        "duration": 14,
        "start_time": "2023-02-25T08:34:55.150Z"
      },
      {
        "duration": 8,
        "start_time": "2023-02-25T08:34:55.166Z"
      },
      {
        "duration": 96,
        "start_time": "2023-02-25T08:34:55.176Z"
      },
      {
        "duration": 13,
        "start_time": "2023-02-25T08:34:55.275Z"
      },
      {
        "duration": 5,
        "start_time": "2023-02-25T08:34:55.290Z"
      },
      {
        "duration": 6,
        "start_time": "2023-02-25T08:34:55.297Z"
      },
      {
        "duration": 13,
        "start_time": "2023-02-25T08:34:55.305Z"
      },
      {
        "duration": 34,
        "start_time": "2023-02-25T08:34:55.319Z"
      },
      {
        "duration": 14,
        "start_time": "2023-02-25T08:34:55.356Z"
      },
      {
        "duration": 26,
        "start_time": "2023-02-25T08:34:55.372Z"
      },
      {
        "duration": 8,
        "start_time": "2023-02-25T08:34:55.401Z"
      },
      {
        "duration": 23,
        "start_time": "2023-02-25T08:34:55.412Z"
      },
      {
        "duration": 17,
        "start_time": "2023-02-25T08:34:55.438Z"
      },
      {
        "duration": 24,
        "start_time": "2023-02-25T08:34:55.458Z"
      },
      {
        "duration": 13,
        "start_time": "2023-02-25T08:34:55.484Z"
      },
      {
        "duration": 13,
        "start_time": "2023-02-25T08:34:55.498Z"
      },
      {
        "duration": 4,
        "start_time": "2023-02-25T08:34:55.513Z"
      },
      {
        "duration": 432,
        "start_time": "2023-02-25T08:34:55.519Z"
      },
      {
        "duration": 43354,
        "start_time": "2023-02-25T08:34:55.954Z"
      },
      {
        "duration": 5174,
        "start_time": "2023-02-25T08:35:39.310Z"
      },
      {
        "duration": 8,
        "start_time": "2023-02-25T08:35:44.486Z"
      },
      {
        "duration": 415,
        "start_time": "2023-02-25T08:35:44.498Z"
      },
      {
        "duration": 53626,
        "start_time": "2023-02-25T08:35:44.915Z"
      },
      {
        "duration": 151,
        "start_time": "2023-02-25T08:36:38.543Z"
      },
      {
        "duration": 0,
        "start_time": "2023-02-25T08:36:38.696Z"
      },
      {
        "duration": 0,
        "start_time": "2023-02-25T08:36:38.698Z"
      },
      {
        "duration": 0,
        "start_time": "2023-02-25T08:36:38.699Z"
      },
      {
        "duration": 0,
        "start_time": "2023-02-25T08:36:38.701Z"
      },
      {
        "duration": 0,
        "start_time": "2023-02-25T08:36:38.702Z"
      },
      {
        "duration": 0,
        "start_time": "2023-02-25T08:36:38.704Z"
      },
      {
        "duration": 0,
        "start_time": "2023-02-25T08:36:38.706Z"
      },
      {
        "duration": 0,
        "start_time": "2023-02-25T08:36:38.707Z"
      },
      {
        "duration": 0,
        "start_time": "2023-02-25T08:36:38.744Z"
      },
      {
        "duration": 0,
        "start_time": "2023-02-25T08:36:38.746Z"
      },
      {
        "duration": 0,
        "start_time": "2023-02-25T08:36:38.747Z"
      },
      {
        "duration": 0,
        "start_time": "2023-02-25T08:36:38.749Z"
      },
      {
        "duration": 0,
        "start_time": "2023-02-25T08:36:38.751Z"
      },
      {
        "duration": 0,
        "start_time": "2023-02-25T08:36:38.752Z"
      },
      {
        "duration": 0,
        "start_time": "2023-02-25T08:36:38.754Z"
      },
      {
        "duration": 0,
        "start_time": "2023-02-25T08:36:38.756Z"
      },
      {
        "duration": 0,
        "start_time": "2023-02-25T08:36:38.757Z"
      },
      {
        "duration": 415,
        "start_time": "2023-02-25T08:40:52.536Z"
      },
      {
        "duration": 4908,
        "start_time": "2023-02-25T08:44:05.405Z"
      },
      {
        "duration": 16,
        "start_time": "2023-02-25T08:47:09.995Z"
      },
      {
        "duration": 7,
        "start_time": "2023-02-25T08:48:33.888Z"
      },
      {
        "duration": 2344,
        "start_time": "2023-02-25T08:52:24.886Z"
      },
      {
        "duration": 1601,
        "start_time": "2023-02-25T08:52:27.233Z"
      },
      {
        "duration": 42,
        "start_time": "2023-02-25T08:52:28.836Z"
      },
      {
        "duration": 15,
        "start_time": "2023-02-25T08:52:28.881Z"
      },
      {
        "duration": 21,
        "start_time": "2023-02-25T08:52:28.898Z"
      },
      {
        "duration": 4,
        "start_time": "2023-02-25T08:52:28.921Z"
      },
      {
        "duration": 20,
        "start_time": "2023-02-25T08:52:28.927Z"
      },
      {
        "duration": 8,
        "start_time": "2023-02-25T08:52:28.949Z"
      },
      {
        "duration": 54,
        "start_time": "2023-02-25T08:52:28.958Z"
      },
      {
        "duration": 13,
        "start_time": "2023-02-25T08:52:29.015Z"
      },
      {
        "duration": 10,
        "start_time": "2023-02-25T08:52:29.030Z"
      },
      {
        "duration": 9,
        "start_time": "2023-02-25T08:52:29.041Z"
      },
      {
        "duration": 19,
        "start_time": "2023-02-25T08:52:29.052Z"
      },
      {
        "duration": 14,
        "start_time": "2023-02-25T08:52:29.073Z"
      },
      {
        "duration": 4,
        "start_time": "2023-02-25T08:52:29.089Z"
      },
      {
        "duration": 17,
        "start_time": "2023-02-25T08:52:29.095Z"
      },
      {
        "duration": 32,
        "start_time": "2023-02-25T08:52:29.113Z"
      },
      {
        "duration": 3,
        "start_time": "2023-02-25T08:52:29.147Z"
      },
      {
        "duration": 14,
        "start_time": "2023-02-25T08:52:29.151Z"
      },
      {
        "duration": 34,
        "start_time": "2023-02-25T08:52:29.167Z"
      },
      {
        "duration": 15,
        "start_time": "2023-02-25T08:52:29.203Z"
      },
      {
        "duration": 37,
        "start_time": "2023-02-25T08:52:29.220Z"
      },
      {
        "duration": 2,
        "start_time": "2023-02-25T08:52:29.259Z"
      },
      {
        "duration": 439,
        "start_time": "2023-02-25T08:52:29.263Z"
      },
      {
        "duration": 40442,
        "start_time": "2023-02-25T08:52:29.704Z"
      },
      {
        "duration": 4652,
        "start_time": "2023-02-25T08:53:10.148Z"
      },
      {
        "duration": 10,
        "start_time": "2023-02-25T08:53:14.802Z"
      },
      {
        "duration": 432,
        "start_time": "2023-02-25T08:53:14.818Z"
      },
      {
        "duration": 55026,
        "start_time": "2023-02-25T08:53:15.252Z"
      },
      {
        "duration": 4838,
        "start_time": "2023-02-25T08:54:10.279Z"
      },
      {
        "duration": 10,
        "start_time": "2023-02-25T08:54:15.119Z"
      },
      {
        "duration": 5,
        "start_time": "2023-02-25T08:54:15.133Z"
      },
      {
        "duration": 13,
        "start_time": "2023-02-25T08:54:15.141Z"
      },
      {
        "duration": 24,
        "start_time": "2023-02-25T08:54:15.157Z"
      },
      {
        "duration": 331,
        "start_time": "2023-02-25T08:54:15.183Z"
      },
      {
        "duration": 35308,
        "start_time": "2023-02-25T08:54:15.516Z"
      },
      {
        "duration": 4669,
        "start_time": "2023-02-25T08:54:50.826Z"
      },
      {
        "duration": 9,
        "start_time": "2023-02-25T08:54:55.497Z"
      },
      {
        "duration": 31,
        "start_time": "2023-02-25T08:54:55.509Z"
      },
      {
        "duration": 21,
        "start_time": "2023-02-25T08:54:55.542Z"
      },
      {
        "duration": 177,
        "start_time": "2023-02-25T08:54:55.565Z"
      },
      {
        "duration": 158,
        "start_time": "2023-02-25T08:54:55.746Z"
      },
      {
        "duration": 7,
        "start_time": "2023-02-25T08:54:55.906Z"
      },
      {
        "duration": 7,
        "start_time": "2023-02-25T08:54:55.915Z"
      },
      {
        "duration": 48,
        "start_time": "2023-02-25T09:28:54.583Z"
      },
      {
        "duration": 47,
        "start_time": "2023-02-25T09:34:29.345Z"
      },
      {
        "duration": 2383,
        "start_time": "2023-02-25T09:34:46.012Z"
      },
      {
        "duration": 1516,
        "start_time": "2023-02-25T09:34:48.398Z"
      },
      {
        "duration": 43,
        "start_time": "2023-02-25T09:34:49.916Z"
      },
      {
        "duration": 15,
        "start_time": "2023-02-25T09:34:49.961Z"
      },
      {
        "duration": 32,
        "start_time": "2023-02-25T09:34:49.977Z"
      },
      {
        "duration": 7,
        "start_time": "2023-02-25T09:34:50.011Z"
      },
      {
        "duration": 20,
        "start_time": "2023-02-25T09:34:50.020Z"
      },
      {
        "duration": 19,
        "start_time": "2023-02-25T09:34:50.042Z"
      },
      {
        "duration": 131,
        "start_time": "2023-02-25T09:34:50.063Z"
      },
      {
        "duration": 13,
        "start_time": "2023-02-25T09:34:50.197Z"
      },
      {
        "duration": 27,
        "start_time": "2023-02-25T09:34:50.213Z"
      },
      {
        "duration": 29,
        "start_time": "2023-02-25T09:34:50.243Z"
      },
      {
        "duration": 22,
        "start_time": "2023-02-25T09:34:50.274Z"
      },
      {
        "duration": 35,
        "start_time": "2023-02-25T09:34:50.299Z"
      },
      {
        "duration": 30,
        "start_time": "2023-02-25T09:34:50.336Z"
      },
      {
        "duration": 30,
        "start_time": "2023-02-25T09:34:50.368Z"
      },
      {
        "duration": 33,
        "start_time": "2023-02-25T09:34:50.409Z"
      },
      {
        "duration": 44,
        "start_time": "2023-02-25T09:34:50.445Z"
      },
      {
        "duration": 51,
        "start_time": "2023-02-25T09:34:50.491Z"
      },
      {
        "duration": 59,
        "start_time": "2023-02-25T09:34:50.544Z"
      },
      {
        "duration": 18,
        "start_time": "2023-02-25T09:34:50.605Z"
      },
      {
        "duration": 33,
        "start_time": "2023-02-25T09:34:50.625Z"
      },
      {
        "duration": 26,
        "start_time": "2023-02-25T09:34:50.661Z"
      },
      {
        "duration": 418,
        "start_time": "2023-02-25T09:34:50.689Z"
      },
      {
        "duration": 40531,
        "start_time": "2023-02-25T09:34:51.109Z"
      },
      {
        "duration": 4372,
        "start_time": "2023-02-25T09:35:31.642Z"
      },
      {
        "duration": 12,
        "start_time": "2023-02-25T09:35:36.017Z"
      },
      {
        "duration": 422,
        "start_time": "2023-02-25T09:35:36.035Z"
      },
      {
        "duration": 53698,
        "start_time": "2023-02-25T09:35:36.458Z"
      },
      {
        "duration": 4725,
        "start_time": "2023-02-25T09:36:30.158Z"
      },
      {
        "duration": 8,
        "start_time": "2023-02-25T09:36:34.885Z"
      },
      {
        "duration": 30,
        "start_time": "2023-02-25T09:36:34.895Z"
      },
      {
        "duration": 17,
        "start_time": "2023-02-25T09:36:34.926Z"
      },
      {
        "duration": 6,
        "start_time": "2023-02-25T09:36:34.944Z"
      },
      {
        "duration": 335,
        "start_time": "2023-02-25T09:36:34.952Z"
      },
      {
        "duration": 35057,
        "start_time": "2023-02-25T09:36:35.288Z"
      },
      {
        "duration": 3754,
        "start_time": "2023-02-25T09:37:10.347Z"
      },
      {
        "duration": 10,
        "start_time": "2023-02-25T09:37:14.104Z"
      },
      {
        "duration": 9,
        "start_time": "2023-02-25T09:37:14.116Z"
      },
      {
        "duration": 12,
        "start_time": "2023-02-25T09:37:14.128Z"
      },
      {
        "duration": 181,
        "start_time": "2023-02-25T09:37:14.143Z"
      },
      {
        "duration": 135,
        "start_time": "2023-02-25T09:37:14.326Z"
      },
      {
        "duration": 6,
        "start_time": "2023-02-25T09:37:14.462Z"
      },
      {
        "duration": 8,
        "start_time": "2023-02-25T09:37:14.470Z"
      }
    ],
    "colab": {
      "provenance": [],
      "include_colab_link": true
    },
    "kernelspec": {
      "display_name": "Python 3",
      "name": "python3"
    },
    "language_info": {
      "codemirror_mode": {
        "name": "ipython",
        "version": 3
      },
      "file_extension": ".py",
      "mimetype": "text/x-python",
      "name": "python",
      "nbconvert_exporter": "python",
      "pygments_lexer": "ipython3",
      "version": "3.9.13"
    },
    "toc": {
      "base_numbering": 1,
      "nav_menu": {},
      "number_sections": true,
      "sideBar": true,
      "skip_h1_title": true,
      "title_cell": "Содержание",
      "title_sidebar": "Contents",
      "toc_cell": true,
      "toc_position": {
        "height": "calc(100% - 180px)",
        "left": "10px",
        "top": "150px",
        "width": "273.188px"
      },
      "toc_section_display": true,
      "toc_window_display": true
    }
  },
  "nbformat": 4,
  "nbformat_minor": 0
}